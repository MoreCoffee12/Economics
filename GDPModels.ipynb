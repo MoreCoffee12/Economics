{
 "cells": [
  {
   "cell_type": "markdown",
   "metadata": {},
   "source": [
    "# GDP Models\n"
   ]
  },
  {
   "cell_type": "code",
   "execution_count": 1,
   "metadata": {},
   "outputs": [
    {
     "name": "stderr",
     "output_type": "stream",
     "text": [
      "Loading required package: MASS\n",
      "\n",
      "Loading required package: HistData\n",
      "\n",
      "Loading required package: Hmisc\n",
      "\n",
      "Loading required package: lattice\n",
      "\n",
      "Loading required package: survival\n",
      "\n",
      "Loading required package: Formula\n",
      "\n",
      "Loading required package: ggplot2\n",
      "\n",
      "\n",
      "Attaching package: 'Hmisc'\n",
      "\n",
      "\n",
      "The following objects are masked from 'package:base':\n",
      "\n",
      "    format.pval, units\n",
      "\n",
      "\n",
      "\n",
      "Attaching package: 'UsingR'\n",
      "\n",
      "\n",
      "The following object is masked from 'package:survival':\n",
      "\n",
      "    cancer\n",
      "\n",
      "\n",
      "Loading required package: xts\n",
      "\n",
      "Loading required package: zoo\n",
      "\n",
      "\n",
      "Attaching package: 'zoo'\n",
      "\n",
      "\n",
      "The following objects are masked from 'package:base':\n",
      "\n",
      "    as.Date, as.Date.numeric\n",
      "\n",
      "\n",
      "Loading required package: TTR\n",
      "\n",
      "Registered S3 method overwritten by 'quantmod':\n",
      "  method            from\n",
      "  as.zoo.data.frame zoo \n",
      "\n",
      "\n",
      "Attaching package: 'quantmod'\n",
      "\n",
      "\n",
      "The following object is masked from 'package:Hmisc':\n",
      "\n",
      "    Lag\n",
      "\n",
      "\n",
      "\n",
      "Attaching package: 'signal'\n",
      "\n",
      "\n",
      "The following objects are masked from 'package:stats':\n",
      "\n",
      "    filter, poly\n",
      "\n",
      "\n",
      "corrplot 0.92 loaded\n",
      "\n",
      "\n",
      "Attaching package: 'caret'\n",
      "\n",
      "\n",
      "The following object is masked from 'package:survival':\n",
      "\n",
      "    cluster\n",
      "\n",
      "\n",
      "randomForest 4.7-1\n",
      "\n",
      "Type rfNews() to see new features/changes/bug fixes.\n",
      "\n",
      "\n",
      "Attaching package: 'randomForest'\n",
      "\n",
      "\n",
      "The following object is masked from 'package:gridExtra':\n",
      "\n",
      "    combine\n",
      "\n",
      "\n",
      "The following object is masked from 'package:ggplot2':\n",
      "\n",
      "    margin\n",
      "\n",
      "\n",
      "Loading required package: XML\n",
      "\n",
      "\n",
      "Attaching package: 'XML'\n",
      "\n",
      "\n",
      "The following object is masked from 'package:tools':\n",
      "\n",
      "    toHTML\n",
      "\n",
      "\n",
      "Loading required package: httr\n",
      "\n",
      "\n",
      "Attaching package: 'httr'\n",
      "\n",
      "\n",
      "The following object is masked from 'package:caret':\n",
      "\n",
      "    progress\n",
      "\n",
      "\n",
      "\n",
      "Attaching package: 'data.table'\n",
      "\n",
      "\n",
      "The following objects are masked from 'package:xts':\n",
      "\n",
      "    first, last\n",
      "\n",
      "\n",
      "\n",
      "Attaching package: 'plotly'\n",
      "\n",
      "\n",
      "The following object is masked from 'package:httr':\n",
      "\n",
      "    config\n",
      "\n",
      "\n",
      "The following object is masked from 'package:signal':\n",
      "\n",
      "    filter\n",
      "\n",
      "\n",
      "The following object is masked from 'package:Hmisc':\n",
      "\n",
      "    subplot\n",
      "\n",
      "\n",
      "The following object is masked from 'package:ggplot2':\n",
      "\n",
      "    last_plot\n",
      "\n",
      "\n",
      "The following object is masked from 'package:MASS':\n",
      "\n",
      "    select\n",
      "\n",
      "\n",
      "The following object is masked from 'package:stats':\n",
      "\n",
      "    filter\n",
      "\n",
      "\n",
      "The following object is masked from 'package:graphics':\n",
      "\n",
      "    layout\n",
      "\n",
      "\n"
     ]
    }
   ],
   "source": [
    "library(UsingR)\n",
    "library(quantmod)\n",
    "library(ggplot2)\n",
    "library(grid)\n",
    "library(gridExtra)\n",
    "library(knitr)\n",
    "library(kableExtra)\n",
    "library(tools)\n",
    "library(zoo)\n",
    "library(signal)\n",
    "library(stringr)\n",
    "library(corrplot)\n",
    "library(caret)\n",
    "library(rpart)\n",
    "library(rpart.plot)\n",
    "library(randomForest)\n",
    "library(Quandl)\n",
    "library(nnet)\n",
    "library(readr)\n",
    "#library(devtools)\n",
    "#install_github(\"andrewuhl/RollingWindow\")\n",
    "library(RollingWindow)\n",
    "#install.packages(\"EIAdata\")\n",
    "library(EIAdata)\n",
    "library(gtable)\n",
    "library(data.table)\n",
    "library(readxl)\n",
    "library(plotly)"
   ]
  },
  {
   "cell_type": "markdown",
   "metadata": {},
   "source": [
    "Call helper functions"
   ]
  },
  {
   "cell_type": "code",
   "execution_count": 2,
   "metadata": {},
   "outputs": [],
   "source": [
    "source(\"plotHelper.r\")"
   ]
  },
  {
   "cell_type": "markdown",
   "metadata": {},
   "source": [
    "Define the source of the data (local or web) and whether to update the models."
   ]
  },
  {
   "cell_type": "code",
   "execution_count": 3,
   "metadata": {},
   "outputs": [],
   "source": [
    "b.refresh.models = FALSE"
   ]
  },
  {
   "cell_type": "markdown",
   "metadata": {},
   "source": [
    "Define the plotting ranges and vertical defaults"
   ]
  },
  {
   "cell_type": "code",
   "execution_count": 4,
   "metadata": {},
   "outputs": [],
   "source": [
    "dt.recent = as.Date(\"2017-01-01\")\n",
    "d.GSPC.max = 3500"
   ]
  },
  {
   "cell_type": "markdown",
   "metadata": {},
   "source": [
    "Load up the off-line data"
   ]
  },
  {
   "cell_type": "code",
   "execution_count": 5,
   "metadata": {},
   "outputs": [],
   "source": [
    "load(\"C:/Users/Rainy/OneDrive//RecessionIndicator_Buffer.RData\")"
   ]
  },
  {
   "cell_type": "markdown",
   "metadata": {},
   "source": [
    "This snippet is needed because some of the ticker symbols include are invalid variable names so re-cast those variable names."
   ]
  },
  {
   "cell_type": "code",
   "execution_count": 6,
   "metadata": {},
   "outputs": [],
   "source": [
    "df.symbols$string.symbol <-\n",
    "  str_replace_all(df.symbols$string.symbol, \"[^[:alnum:]]\", \"\")"
   ]
  },
  {
   "cell_type": "markdown",
   "metadata": {},
   "source": [
    "Do the interpolation to daily samples and tidy the data"
   ]
  },
  {
   "cell_type": "code",
   "execution_count": 7,
   "metadata": {},
   "outputs": [],
   "source": [
    "source(\"calcInterpolate.r\")"
   ]
  },
  {
   "cell_type": "code",
   "execution_count": 8,
   "metadata": {},
   "outputs": [
    {
     "name": "stderr",
     "output_type": "stream",
     "text": [
      "Warning message in merge.xts(xtsData, get(df.symbols$string.symbol[idx])):\n",
      "\"NAs introduced by coercion\"\n"
     ]
    }
   ],
   "source": [
    "df.data <- calcInterpolate(df.symbols)"
   ]
  },
  {
   "cell_type": "markdown",
   "metadata": {},
   "source": [
    "Truncate the data. A very few data series do go back to 1854, but most don't even go past WWII so truncate the dataframe"
   ]
  },
  {
   "cell_type": "code",
   "execution_count": 9,
   "metadata": {},
   "outputs": [],
   "source": [
    "df.data <- df.data[as.Date(rownames(df.data)) > as.Date(\"1940-01-01\"),]"
   ]
  },
  {
   "cell_type": "markdown",
   "metadata": {},
   "source": [
    "Create aggreagate data series\n",
    "Some analysis requires that two or more series be combined. For example, normallizing debt by GDP to get a sense of the proportion of debt to the total economy helps understand the debt cycle."
   ]
  },
  {
   "cell_type": "code",
   "execution_count": 10,
   "metadata": {},
   "outputs": [],
   "source": [
    "source(\"calcAggregateSeries.r\")"
   ]
  },
  {
   "cell_type": "markdown",
   "metadata": {},
   "source": [
    "Calculate the year-over-year, 50 day moving average, and other features in the data"
   ]
  },
  {
   "cell_type": "code",
   "execution_count": 11,
   "metadata": {},
   "outputs": [],
   "source": [
    "source(\"calcFeatures.r\")"
   ]
  },
  {
   "cell_type": "code",
   "execution_count": 12,
   "metadata": {},
   "outputs": [
    {
     "name": "stdout",
     "output_type": "stream",
     "text": [
      "[1] \"USREC has zero or negative values. Log series will be zero.\"\n",
      "[1] \"GSFTX.Volume has zero or negative values. Log series will be zero.\"\n",
      "[1] \"LFMIX.Volume has zero or negative values. Log series will be zero.\"\n",
      "[1] \"LFMCX.Volume has zero or negative values. Log series will be zero.\"\n",
      "[1] \"LFMAX.Volume has zero or negative values. Log series will be zero.\"\n",
      "[1] \"LCSIX.Volume has zero or negative values. Log series will be zero.\"\n",
      "[1] \"VBIRX.Volume has zero or negative values. Log series will be zero.\"\n",
      "[1] \"VFSUX.Volume has zero or negative values. Log series will be zero.\"\n",
      "[1] \"LTUIX.Volume has zero or negative values. Log series will be zero.\"\n",
      "[1] \"PTTPX.Volume has zero or negative values. Log series will be zero.\"\n",
      "[1] \"NERYX.Volume has zero or negative values. Log series will be zero.\"\n",
      "[1] \"STIGX.Volume has zero or negative values. Log series will be zero.\"\n",
      "[1] \"HLGAX.Volume has zero or negative values. Log series will be zero.\"\n",
      "[1] \"FTRGX.Volume has zero or negative values. Log series will be zero.\"\n",
      "[1] \"THIIX.Volume has zero or negative values. Log series will be zero.\"\n",
      "[1] \"PTTRX.Volume has zero or negative values. Log series will be zero.\"\n",
      "[1] \"BFIGX.Volume has zero or negative values. Log series will be zero.\"\n",
      "[1] \"EIFAX.Volume has zero or negative values. Log series will be zero.\"\n",
      "[1] \"ASDAX.Volume has zero or negative values. Log series will be zero.\"\n",
      "[1] \"TRBUX.Volume has zero or negative values. Log series will be zero.\"\n",
      "[1] \"PRVIX.Volume has zero or negative values. Log series will be zero.\"\n",
      "[1] \"PRWCX.Volume has zero or negative values. Log series will be zero.\"\n",
      "[1] \"ADOZX.Volume has zero or negative values. Log series will be zero.\"\n",
      "[1] \"MERFX.Volume has zero or negative values. Log series will be zero.\"\n",
      "[1] \"CMNIX.Volume has zero or negative values. Log series will be zero.\"\n",
      "[1] \"CIHEX.Volume has zero or negative values. Log series will be zero.\"\n",
      "[1] \"SRPSABSNNCB has zero or negative values. Log series will be zero.\"\n",
      "[1] \"TNX.Volume has zero or negative values. Log series will be zero.\"\n",
      "[1] \"CLF.Open has zero or negative values. Log series will be zero.\"\n",
      "[1] \"CLF.Low has zero or negative values. Log series will be zero.\"\n",
      "[1] \"CLF.Close has zero or negative values. Log series will be zero.\"\n",
      "[1] \"CLF.Volume has zero or negative values. Log series will be zero.\"\n",
      "[1] \"CLF.Adjusted has zero or negative values. Log series will be zero.\"\n",
      "[1] \"DTB3 has zero or negative values. Log series will be zero.\"\n",
      "[1] \"IRX.Open has zero or negative values. Log series will be zero.\"\n",
      "[1] \"IRX.High has zero or negative values. Log series will be zero.\"\n",
      "[1] \"IRX.Low has zero or negative values. Log series will be zero.\"\n",
      "[1] \"IRX.Close has zero or negative values. Log series will be zero.\"\n",
      "[1] \"IRX.Volume has zero or negative values. Log series will be zero.\"\n",
      "[1] \"IRX.Adjusted has zero or negative values. Log series will be zero.\"\n",
      "[1] \"DCOILWTICO has zero or negative values. Log series will be zero.\"\n",
      "[1] \"GSPC.Volume has zero or negative values. Log series will be zero.\"\n",
      "[1] \"FXAIX.Volume has zero or negative values. Log series will be zero.\"\n",
      "[1] \"FTIHX.Volume has zero or negative values. Log series will be zero.\"\n",
      "[1] \"MDIZX.Volume has zero or negative values. Log series will be zero.\"\n",
      "[1] \"DODIX.Volume has zero or negative values. Log series will be zero.\"\n",
      "[1] \"RLG.Volume has zero or negative values. Log series will be zero.\"\n",
      "[1] \"STOXX50E.Volume has zero or negative values. Log series will be zero.\"\n",
      "[1] \"GDPNOW has zero or negative values. Log series will be zero.\"\n",
      "[1] \"W790RC1Q027SBEA has zero or negative values. Log series will be zero.\"\n",
      "[1] \"VXX.Volume has zero or negative values. Log series will be zero.\"\n",
      "[1] \"FYFSD has zero or negative values. Log series will be zero.\"\n",
      "[1] \"FYFSGDA188S has zero or negative values. Log series will be zero.\"\n",
      "[1] \"SOFR25 has zero or negative values. Log series will be zero.\"\n",
      "[1] \"SOFR1 has zero or negative values. Log series will be zero.\"\n",
      "[1] \"RPONTSYD has zero or negative values. Log series will be zero.\"\n",
      "[1] \"BOPGTB has zero or negative values. Log series will be zero.\"\n",
      "[1] \"EES.Volume has zero or negative values. Log series will be zero.\"\n",
      "[1] \"VGSTX.Volume has zero or negative values. Log series will be zero.\"\n",
      "[1] \"VFINX.Volume has zero or negative values. Log series will be zero.\"\n",
      "[1] \"TMFGX.Volume has zero or negative values. Log series will be zero.\"\n",
      "[1] \"FSMAX.Volume has zero or negative values. Log series will be zero.\"\n",
      "[1] \"FXNAX.Volume has zero or negative values. Log series will be zero.\"\n",
      "[1] \"HAINX.Volume has zero or negative values. Log series will be zero.\"\n",
      "[1] \"HNACX.Volume has zero or negative values. Log series will be zero.\"\n",
      "[1] \"VEIRX.Volume has zero or negative values. Log series will be zero.\"\n",
      "[1] \"IVOO.Volume has zero or negative values. Log series will be zero.\"\n",
      "[1] \"VO.Volume has zero or negative values. Log series will be zero.\"\n",
      "[1] \"CZA.Volume has zero or negative values. Log series will be zero.\"\n",
      "[1] \"SLY.Volume has zero or negative values. Log series will be zero.\"\n",
      "[1] \"HYMB.Volume has zero or negative values. Log series will be zero.\"\n",
      "[1] \"GOLD.Open has zero or negative values. Log series will be zero.\"\n",
      "[1] \"GOLD.Volume has zero or negative values. Log series will be zero.\"\n",
      "[1] \"BKR.Open has zero or negative values. Log series will be zero.\"\n",
      "[1] \"BKR.Volume has zero or negative values. Log series will be zero.\"\n",
      "[1] \"HAL.Open has zero or negative values. Log series will be zero.\"\n",
      "[1] \"HAL.Volume has zero or negative values. Log series will be zero.\"\n",
      "[1] \"IP.Open has zero or negative values. Log series will be zero.\"\n",
      "[1] \"T.Open has zero or negative values. Log series will be zero.\"\n",
      "[1] \"OPEARNINGSPERSHARE has zero or negative values. Log series will be zero.\"\n",
      "[1] \"AREARNINGSPERSHARE has zero or negative values. Log series will be zero.\"\n",
      "[1] \"OCCEquityVolume has zero or negative values. Log series will be zero.\"\n",
      "[1] \"OCCNonEquityVolume has zero or negative values. Log series will be zero.\"\n",
      "[1] \"BUSLOANS.minus.BUSLOANSNSA has zero or negative values. Log series will be zero.\"\n",
      "[1] \"BUSLOANS.minus.BUSLOANSNSA.by.GDP has zero or negative values. Log series will be zero.\"\n",
      "[1] \"EXPCH.minus.IMPCH has zero or negative values. Log series will be zero.\"\n",
      "[1] \"EXPMX.minus.IMPMX has zero or negative values. Log series will be zero.\"\n",
      "[1] \"SRPSABSNNCB.by.GDP has zero or negative values. Log series will be zero.\"\n",
      "[1] \"DGS30TO10 has zero or negative values. Log series will be zero.\"\n",
      "[1] \"DGS10TO1 has zero or negative values. Log series will be zero.\"\n",
      "[1] \"DGS10TO2 has zero or negative values. Log series will be zero.\"\n",
      "[1] \"DGS10TOTB3MS has zero or negative values. Log series will be zero.\"\n",
      "[1] \"DGS10TODTB3 has zero or negative values. Log series will be zero.\"\n",
      "[1] \"DCOILWTICO.by.PPIACO has zero or negative values. Log series will be zero.\"\n",
      "[1] \"GSPC.DailySwing has zero or negative values. Log series will be zero.\"\n"
     ]
    }
   ],
   "source": [
    "lst.df <- calcFeatures(df.data, df.symbols)\n",
    "df.data <- lst.df[[1]]\n",
    "df.symbols <- lst.df[[2]]"
   ]
  },
  {
   "cell_type": "markdown",
   "metadata": {},
   "source": [
    "These are auxilliary series that use the YoY and smoothed data."
   ]
  },
  {
   "cell_type": "code",
   "execution_count": 13,
   "metadata": {},
   "outputs": [],
   "source": [
    "source(\"calcFeaturesAggregate.r\")"
   ]
  },
  {
   "cell_type": "markdown",
   "metadata": {},
   "source": [
    "Build the recession data frame"
   ]
  },
  {
   "cell_type": "code",
   "execution_count": 14,
   "metadata": {},
   "outputs": [],
   "source": [
    "source(\"calcRecession.r\")"
   ]
  },
  {
   "cell_type": "markdown",
   "metadata": {},
   "source": [
    "# Validate GDP Series\n",
    "I was confused about what was in the GDPNow series. I created this series of plots to be sure nominal and real GDP were correct."
   ]
  },
  {
   "cell_type": "markdown",
   "metadata": {},
   "source": [
    "## Real and nominal"
   ]
  },
  {
   "cell_type": "code",
   "execution_count": 15,
   "metadata": {},
   "outputs": [
    {
     "data": {
      "image/png": "[encoded data removed]",
      "text/plain": [
       "plot without title"
      ]
     },
     "metadata": {
      "image/png": {
       "height": 900,
       "width": 1455
      }
     },
     "output_type": "display_data"
    }
   ],
   "source": [
    "options(repr.plot.width = 9.7, repr.plot.height = 6, repr.plot.res = 300)\n",
    "\n",
    "datay <- \"GDP_YoY\"\n",
    "ylim <- c(-10, 20)\n",
    "dtStart = as.Date('2000-01-01')\n",
    "p1 <-\n",
    "  plotSingleQuick(dfRecession, df.data, datay, ylim, dtStart, b.percentile = FALSE)\n",
    "\n",
    "\n",
    "datay.1 <- \"GDPC1_YoY\"\n",
    "datay.aux.1 <- \"GDPNOW\"\n",
    "ylim.1 <- c(-10, 20)\n",
    "p2 <- plotSingleQuick(dfRecession, df.data, datay.1, ylim.1, dtStart, b.percentile = FALSE, b.legend = TRUE)\n",
    "p2 <- p2 + geom_line(\n",
    "    data = df.data,\n",
    "    aes_string(x = \"date\",\n",
    "      y = datay.aux.1,\n",
    "      colour = shQuote(datay.aux.1)\n",
    "    ),\n",
    "    na.rm = TRUE\n",
    "  )\n",
    "\n",
    "grid.arrange(p1,\n",
    "             p2,\n",
    "             ncol = 1,\n",
    "             top = \"Nominal and real GDP\")"
   ]
  },
  {
   "cell_type": "code",
   "execution_count": 16,
   "metadata": {},
   "outputs": [
    {
     "data": {
      "image/png": "[encoded data removed]",
      "text/plain": [
       "plot without title"
      ]
     },
     "metadata": {
      "image/png": {
       "height": 900,
       "width": 1455
      }
     },
     "output_type": "display_data"
    }
   ],
   "source": [
    "options(repr.plot.width = 9.7, repr.plot.height = 6, repr.plot.res = 300)\n",
    "\n",
    "datay <- \"GDPC1_YoY\"\n",
    "datay.aux.1 <- \"GDP.by.GDPDEF_YoY\"\n",
    "ylim <- c(-10, 20)\n",
    "dtStart = as.Date('2000-01-01')\n",
    "p1 <-\n",
    "  plotSingleQuick(dfRecession, df.data, datay, ylim, dtStart, b.legend <- TRUE, b.percentile = FALSE)\n",
    "p1 + geom_line(\n",
    "    data = df.data,\n",
    "    aes_string(x = \"date\",\n",
    "      y = datay.aux.1,\n",
    "      colour = shQuote(datay.aux.1)\n",
    "    ),\n",
    "    na.rm = TRUE\n",
    "  )"
   ]
  },
  {
   "cell_type": "markdown",
   "metadata": {},
   "source": [
    "# Define training ranges and parameters"
   ]
  },
  {
   "cell_type": "code",
   "execution_count": 17,
   "metadata": {},
   "outputs": [],
   "source": [
    "# Exclude the Covid19 datasets\n",
    "dt.start.prediction <- as.Date(max(c(index(CLF16OV[1]), index(POPTHM[1]))))\n",
    "dt.end.prediction <- as.Date(\"2020-01-31\")"
   ]
  },
  {
   "cell_type": "markdown",
   "metadata": {},
   "source": [
    "# Supporting Series Models"
   ]
  },
  {
   "cell_type": "markdown",
   "metadata": {},
   "source": [
    "The underlying data series for GDP only get updated once a month and they are often delayed by weeks. I would like to synthesize a few series that could be used to get more up to date estimates. I am going to start with the PCE series since that is the largest contributer to the GDP numbers."
   ]
  },
  {
   "cell_type": "markdown",
   "metadata": {},
   "source": [
    "## PCE"
   ]
  },
  {
   "cell_type": "markdown",
   "metadata": {},
   "source": [
    "### Data exploration"
   ]
  },
  {
   "cell_type": "markdown",
   "metadata": {},
   "source": [
    "Truncate the data. Yahoo rarely goes past 2000"
   ]
  },
  {
   "cell_type": "code",
   "execution_count": 18,
   "metadata": {},
   "outputs": [],
   "source": [
    "dt.start.prediction.pce <- as.Date(\"2000-01-01\")\n",
    "df.data.pce <- df.data[as.Date(rownames(df.data)) > dt.start.prediction.pce,]"
   ]
  },
  {
   "cell_type": "markdown",
   "metadata": {},
   "source": [
    "Starting with some correlation see if we can find market data series (updated daily) that could be used to estimate PCE."
   ]
  },
  {
   "cell_type": "code",
   "execution_count": 19,
   "metadata": {},
   "outputs": [
    {
     "data": {
      "image/png": "[encoded data removed]",
      "text/plain": [
       "Plot with title \"GDP Data\""
      ]
     },
     "metadata": {
      "image/png": {
       "height": 900,
       "width": 1455
      }
     },
     "output_type": "display_data"
    }
   ],
   "source": [
    "training.cor.pce <-\n",
    "  df.data.pce[, c(\"PCE\", \"GSG.Close\", \"XLE.Close\", \"PKG.Close\", \"IP.Close\", \"UPS.Close\", \"FDX.Close\", \"DJI.Open\")]\n",
    "\n",
    "  rcorr.data <- rcorr(as.matrix(training.cor.pce), type = \"pearson\")\n",
    "  #print(rcorr.data)\n",
    "\n",
    "  corrplot::corrplot(cor(training.cor.pce), type=\"upper\", order=\"original\", \n",
    "           tl.col=\"black\", tl.srt=45, title =\"GDP Data\")"
   ]
  },
  {
   "cell_type": "markdown",
   "metadata": {},
   "source": [
    "### Begin training up some models for PCE"
   ]
  },
  {
   "cell_type": "code",
   "execution_count": 20,
   "metadata": {},
   "outputs": [],
   "source": [
    "df.pce.model <-\n",
    "  df.data[df.data$date >= dt.start.prediction.pce &\n",
    "            df.data$date <= dt.end.prediction,]\n",
    "\n",
    "# I break the data into three sets: 50% for training, 25% for testing, and 25% for validation.\n",
    "set.seed(123456)\n",
    "in.train <- createDataPartition(y = df.pce.model$PCE, p = 0.50, list = FALSE)\n",
    "df.train <- df.pce.model[in.train,]\n",
    "df.data.rest <- df.pce.model[-in.train,]\n",
    "in.val <- createDataPartition(y = df.data.rest$PCE, p = 0.50, list = FALSE)\n",
    "df.val <- df.data.rest[in.val,]\n",
    "df.test <- df.data.rest[-in.val,]\n",
    "rm(df.data.rest)\n",
    "\n",
    "# Perform the linear fit\n",
    "list.fit.reg.pce <- train(\n",
    "  PCE ~ GSG.Close + PKG.Close + UPS.Close + FDX.Close,\n",
    "  data = df.train,\n",
    "  method = \"lm\",\n",
    "  preProcess = c('center', 'scale')\n",
    ")\n",
    "\n",
    "\n",
    "# Perform the pca fit\n",
    "list.fit.pcr.pce <- train(\n",
    "  PCE ~ GSG.Close + PKG.Close + UPS.Close + FDX.Close + DJI.Open,\n",
    "  data = df.train,\n",
    "  method = \"pcr\",\n",
    "  preProcess = c('center', 'scale')\n",
    ")\n",
    "\n",
    "# Perform the knn fit\n",
    "list.fit.knn.pce <- train(\n",
    "  PCE ~ GSG.Close + PKG.Close + UPS.Close + FDX.Close + DJI.Open,\n",
    "  data = df.train,\n",
    "  method = \"knn\",\n",
    "  preProcess = c('center', 'scale')\n",
    ")\n",
    "\n"
   ]
  },
  {
   "cell_type": "markdown",
   "metadata": {},
   "source": [
    "### Adds the linear prediction to the data frame"
   ]
  },
  {
   "cell_type": "code",
   "execution_count": 21,
   "metadata": {},
   "outputs": [],
   "source": [
    "# Add linear prediction to the dataframe\n",
    "str.symbol <- \"PCE.lm\"\n",
    "df.data[str.symbol] <-\n",
    "  predict(list.fit.reg.pce, newdata = df.data)"
   ]
  },
  {
   "cell_type": "code",
   "execution_count": 22,
   "metadata": {},
   "outputs": [],
   "source": [
    "str.description <- \"Linear Model Prediction\\nPCE given GSG,\\nPKG, UPS, and FDX\"\n",
    "df.symbols <-\n",
    "  rbind(\n",
    "    df.symbols,\n",
    "    data.frame(\n",
    "      string.symbol = str.symbol,\n",
    "      string.source = \"Predict\",\n",
    "      string.description = str.description,\n",
    "      string.label.y = getPlotYLabel(df.symbols, \"POPTHM\")[1],\n",
    "      float.expense.ratio = -1.00,\n",
    "      Max030 = FALSE,\n",
    "      Max180 = FALSE,\n",
    "      date.series.start = dt.start.prediction,\n",
    "      date.series.end = as.Date(Sys.Date())\n",
    "    )\n",
    "  )\n",
    "\n",
    "str.description <- \"Linear Model Prediction\\nPCE given GSG,\\nPKG, UPS, and FDX\"\n",
    "df.symbols <-\n",
    "  rbind(\n",
    "    df.symbols,\n",
    "    data.frame(\n",
    "      string.symbol = str.symbol,\n",
    "      string.source = \"Predict\",\n",
    "      string.description = str.description,\n",
    "      string.label.y = getPlotYLabel(df.symbols, \"POPTHM\")[1],\n",
    "      float.expense.ratio = -1.00,\n",
    "      Max030 = FALSE,\n",
    "      Max180 = FALSE,\n",
    "      date.series.start = dt.start.prediction,\n",
    "      date.series.end = as.Date(Sys.Date())\n",
    "    )\n",
    "  )"
   ]
  },
  {
   "cell_type": "markdown",
   "metadata": {},
   "source": [
    "Add the linear prediction year-over-year growth"
   ]
  },
  {
   "cell_type": "code",
   "execution_count": 23,
   "metadata": {},
   "outputs": [],
   "source": [
    "# The YoY calculation for the linear model\n",
    "str.symbolYoY <- paste(str.symbol, \"_YoY\", sep = \"\")\n",
    "df.data[str.symbolYoY] <- CalcYoY(df.data, str.symbol, 365)\n",
    "\n",
    "df.symbols <-\n",
    "  rbind(\n",
    "    df.symbols,\n",
    "    data.frame(\n",
    "      string.symbol = str.symbolYoY,\n",
    "      string.source = \"Calc\",\n",
    "      string.description = paste(str.description, \"\\nYear over Year\", sep =\n",
    "                                   \"\"),\n",
    "      string.label.y = \"Percent\",\n",
    "      float.expense.ratio = -1.00,\n",
    "      Max030 = FALSE,\n",
    "      Max180 = FALSE,\n",
    "      date.series.start = dt.start.prediction,\n",
    "      date.series.end = as.Date(Sys.Date())\n",
    "    )\n",
    "  )"
   ]
  },
  {
   "cell_type": "markdown",
   "metadata": {},
   "source": [
    "### Add linear prediction by PCA to the dataframe"
   ]
  },
  {
   "cell_type": "code",
   "execution_count": 24,
   "metadata": {},
   "outputs": [],
   "source": [
    "str.symbol.pcr <- \"PCE.pcr\"\n",
    "df.data[str.symbol.pcr] <-\n",
    "  predict(list.fit.pcr.pce, newdata = df.data, ncomp = 1)"
   ]
  },
  {
   "cell_type": "code",
   "execution_count": 25,
   "metadata": {},
   "outputs": [
    {
     "data": {
      "text/plain": [
       "Principal Component Analysis \n",
       "\n",
       "3668 samples\n",
       "   5 predictor\n",
       "\n",
       "Pre-processing: centered (5), scaled (5) \n",
       "Resampling: Bootstrapped (25 reps) \n",
       "Summary of sample sizes: 3668, 3668, 3668, 3668, 3668, 3668, ... \n",
       "Resampling results across tuning parameters:\n",
       "\n",
       "  ncomp  RMSE      Rsquared   MAE     \n",
       "  1      865.8654  0.8510891  738.1957\n",
       "  2      796.2521  0.8740768  641.1255\n",
       "  3      796.1464  0.8741078  639.6475\n",
       "\n",
       "RMSE was used to select the optimal model using the smallest value.\n",
       "The final value used for the model was ncomp = 3."
      ]
     },
     "metadata": {},
     "output_type": "display_data"
    }
   ],
   "source": [
    "list.fit.pcr.pce"
   ]
  },
  {
   "cell_type": "code",
   "execution_count": 26,
   "metadata": {},
   "outputs": [],
   "source": [
    "# Add the linear model prediction to the symbols table\n",
    "str.description.pcr <- \"PCE Regression Prediction\\nPCE given GSG,\\nPKG, UPS, and FDX\"\n",
    "df.symbols <-\n",
    "  rbind(\n",
    "    df.symbols,\n",
    "    data.frame(\n",
    "      string.symbol = str.symbol.pcr,\n",
    "      string.source = \"Predict\",\n",
    "      string.description = str.description.pcr,\n",
    "      string.label.y = getPlotYLabel(df.symbols, \"PCE\")[1],\n",
    "      float.expense.ratio = -1.00,\n",
    "      Max030 = FALSE,\n",
    "      Max180 = FALSE,\n",
    "      date.series.start = dt.start.prediction,\n",
    "      date.series.end = as.Date(Sys.Date())\n",
    "    )\n",
    "  )"
   ]
  },
  {
   "cell_type": "markdown",
   "metadata": {},
   "source": [
    "### Add KNN prediction to the dataframe"
   ]
  },
  {
   "cell_type": "code",
   "execution_count": 27,
   "metadata": {},
   "outputs": [],
   "source": [
    "str.symbol.pcr <- \"PCE.knn\"\n",
    "df.data[str.symbol.pcr] <-\n",
    "  predict(list.fit.pcr.pce, newdata = df.data, ncomp = 1)"
   ]
  },
  {
   "cell_type": "code",
   "execution_count": 28,
   "metadata": {},
   "outputs": [
    {
     "data": {
      "text/plain": [
       "k-Nearest Neighbors \n",
       "\n",
       "3668 samples\n",
       "   5 predictor\n",
       "\n",
       "Pre-processing: centered (5), scaled (5) \n",
       "Resampling: Bootstrapped (25 reps) \n",
       "Summary of sample sizes: 3668, 3668, 3668, 3668, 3668, 3668, ... \n",
       "Resampling results across tuning parameters:\n",
       "\n",
       "  k  RMSE      Rsquared   MAE     \n",
       "  5  44.08024  0.9996027  17.37035\n",
       "  7  50.35647  0.9994742  20.21916\n",
       "  9  57.30811  0.9993128  22.98666\n",
       "\n",
       "RMSE was used to select the optimal model using the smallest value.\n",
       "The final value used for the model was k = 5."
      ]
     },
     "metadata": {},
     "output_type": "display_data"
    }
   ],
   "source": [
    "list.fit.knn.pce"
   ]
  },
  {
   "cell_type": "code",
   "execution_count": 29,
   "metadata": {},
   "outputs": [],
   "source": [
    "# Add the linear model prediction to the symbols table\n",
    "str.description.pcr <- \"KNN Prediction\\nPCE given GSG,\\nPKG, UPS, and FDX\"\n",
    "df.symbols <-\n",
    "  rbind(\n",
    "    df.symbols,\n",
    "    data.frame(\n",
    "      string.symbol = str.symbol.pcr,\n",
    "      string.source = \"Predict\",\n",
    "      string.description = str.description.pcr,\n",
    "      string.label.y = getPlotYLabel(df.symbols, \"PCE\")[1],\n",
    "      float.expense.ratio = -1.00,\n",
    "      Max030 = FALSE,\n",
    "      Max180 = FALSE,\n",
    "      date.series.start = dt.start.prediction,\n",
    "      date.series.end = as.Date(Sys.Date())\n",
    "    )\n",
    "  )"
   ]
  },
  {
   "cell_type": "markdown",
   "metadata": {},
   "source": [
    "Add the PCA prediction year-over-year growth"
   ]
  },
  {
   "cell_type": "code",
   "execution_count": 30,
   "metadata": {},
   "outputs": [],
   "source": [
    "# The YoY calculation\n",
    "str.symbolYoY <- paste(str.symbol.pcr, \"_YoY\", sep = \"\")\n",
    "df.data[str.symbolYoY] <- CalcYoY(df.data, str.symbol.pcr, 365)\n",
    "\n",
    "df.symbols <-\n",
    "  rbind(\n",
    "    df.symbols,\n",
    "    data.frame(\n",
    "      string.symbol = str.symbolYoY,\n",
    "      string.source = \"Calc\",\n",
    "      string.description = paste(str.description.pcr, \"\\nYear over Year\", sep =\n",
    "                                   \"\"),\n",
    "      string.label.y = \"Percent\",\n",
    "      float.expense.ratio = -1.00,\n",
    "      Max030 = FALSE,\n",
    "      Max180 = FALSE,\n",
    "      date.series.start = dt.start.prediction,\n",
    "      date.series.end = as.Date(Sys.Date())\n",
    "    )\n",
    "  )"
   ]
  },
  {
   "cell_type": "code",
   "execution_count": 31,
   "metadata": {},
   "outputs": [
    {
     "ename": "ERROR",
     "evalue": "\u001b[1m\u001b[33mError\u001b[39m in \u001b[1m\u001b[1m\u001b[30m\u001b[47m`parse_expr()`\u001b[49m\u001b[39m:\u001b[22m\n\u001b[1m\u001b[22m\u001b[33m!\u001b[39m \u001b[30m\u001b[47m`x`\u001b[49m\u001b[39m must contain exactly 1 expression, not 2.\n",
     "output_type": "error",
     "traceback": [
      "\u001b[1m\u001b[33mError\u001b[39m in \u001b[1m\u001b[1m\u001b[30m\u001b[47m`parse_expr()`\u001b[49m\u001b[39m:\u001b[22m\n\u001b[1m\u001b[22m\u001b[33m!\u001b[39m \u001b[30m\u001b[47m`x`\u001b[49m\u001b[39m must contain exactly 1 expression, not 2.\nTraceback:\n",
      "1. geom_line(data = df.data, aes_string(x = \"date\", y = datay.aux, \n .     colour = shQuote(getPlotTitle(df.symbols, datay.aux))), na.rm = TRUE)",
      "2. layer(data = data, mapping = mapping, stat = stat, geom = GeomLine, \n .     position = position, show.legend = show.legend, inherit.aes = inherit.aes, \n .     params = list(na.rm = na.rm, orientation = orientation, ...))",
      "3. aes_string(x = \"date\", y = datay.aux, colour = shQuote(getPlotTitle(df.symbols, \n .     datay.aux)))",
      "4. lapply(mapping, function(x) {\n .     if (is.character(x)) {\n .         x <- parse_expr(x)\n .     }\n .     new_aesthetic(x, env = caller_env)\n . })",
      "5. FUN(X[[i]], ...)",
      "6. parse_expr(x)",
      "7. abort(sprintf(\"%s must contain exactly 1 expression, not %d.\", \n .     format_arg(\"x\"), n))",
      "8. signal_abort(cnd, .file)"
     ]
    }
   ],
   "source": [
    "options(repr.plot.width = 9.7, repr.plot.height = 6, repr.plot.res = 600)\n",
    "datay <- \"PCE\"\n",
    "datay.aux <- \"PCE.lm\"\n",
    "datay.aux.1 <- \"PCE.pcr\"\n",
    "datay.aux.2 <- \"PCE.knn\"\n",
    "ylim <- c(1000, 18000)\n",
    "dt.end <- Sys.Date()\n",
    "myPlot <- \n",
    "  plotSingle(\n",
    "    dfRecession,\n",
    "    df.data,\n",
    "    \"date\",\n",
    "    datay,\n",
    "    \"PCE Compared to PCE predicted using linear model\",\n",
    "    \"Date\",\n",
    "    getPlotYLabel(df.symbols, datay),\n",
    "    c(dt.start.prediction.pce, dt.end),\n",
    "    ylim,\n",
    "    b.legend = TRUE,\n",
    "    b.percentile = FALSE,\n",
    "    b.long.legend = TRUE\n",
    "  )\n",
    "myPlot <- myPlot + geom_line(\n",
    "  data = df.data,\n",
    "  aes_string(\n",
    "    x = \"date\",\n",
    "    y = datay.aux,\n",
    "    colour = shQuote(getPlotTitle(df.symbols, datay.aux))\n",
    "  ),\n",
    "  na.rm = TRUE\n",
    ")\n",
    "myPlot <- myPlot + geom_line(\n",
    "  data = df.data,\n",
    "  aes_string(\n",
    "    x = \"date\",\n",
    "    y = datay.aux.1,\n",
    "    colour = shQuote(getPlotTitle(df.symbols, datay.aux.1))\n",
    "  ),\n",
    "  na.rm = TRUE\n",
    ")\n",
    "myPlot <- myPlot + geom_line(\n",
    "  data = df.data,\n",
    "  aes_string(\n",
    "    x = \"date\",\n",
    "    y = datay.aux.2,\n",
    "    colour = shQuote(getPlotTitle(df.symbols, datay.aux.2))\n",
    "  ),\n",
    "  na.rm = TRUE\n",
    ")\n",
    "\n",
    "\n",
    "print(myPlot)"
   ]
  },
  {
   "cell_type": "markdown",
   "metadata": {},
   "source": [
    "## GDP Models\n",
    "\n",
    "### Regression, Retail sales\n",
    "\n",
    "See if we can get there with a simple regression model. Begin by taking a look at how these datapoints correlate\n"
   ]
  },
  {
   "cell_type": "markdown",
   "metadata": {},
   "source": [
    "Correlation for series thought to be used by BEA to generate GDP numbers"
   ]
  },
  {
   "cell_type": "code",
   "execution_count": null,
   "metadata": {},
   "outputs": [],
   "source": [
    "training.cor <-\n",
    "  df.data[, c(\"GDP\", \"INDPRO\", \"PCE\", \"RSALESAGG\", \"ALTSALES\", \"MSPUS.times.HOUST\")]\n",
    "\n",
    "  rcorr.data <- rcorr(as.matrix(training.cor), type = \"pearson\")\n",
    "  #print(rcorr.data)\n",
    "\n",
    "  corrplot::corrplot(cor(training.cor), type=\"upper\", order=\"original\", \n",
    "           tl.col=\"black\", tl.srt=45, title =\"GDP Data\")"
   ]
  },
  {
   "cell_type": "markdown",
   "metadata": {},
   "source": [
    "### Begin training up some models for GDP"
   ]
  },
  {
   "cell_type": "code",
   "execution_count": null,
   "metadata": {},
   "outputs": [],
   "source": [
    "df.gdp.model <-\n",
    "  df.data[df.data$date >= dt.start.prediction &\n",
    "            df.data$date <= dt.end.prediction,]\n",
    "\n",
    "# I break the data into three sets: 50% for training, 25% for testing, and 25% for validation.\n",
    "set.seed(123456)\n",
    "in.train <- createDataPartition(y=df.gdp.model$GDP, p = 0.50, list=FALSE)\n",
    "df.train <- df.gdp.model[in.train,]\n",
    "df.data.rest <- df.gdp.model[-in.train,]\n",
    "in.val <- createDataPartition(y = df.data.rest$GDP, p = 0.50, list = FALSE)\n",
    "df.val <- df.data.rest[in.val,]\n",
    "df.test <- df.data.rest[-in.val,]\n",
    "rm(df.data.rest)\n",
    "\n",
    "# Perform the linear fit\n",
    "list.fit.reg <- train(\n",
    "  GDP ~ INDPRO + PCE + RSALESAGG + ALTSALES + MSPUS.times.HOUST,\n",
    "  data = df.train,\n",
    "  method = \"lm\",\n",
    "  preProcess = c('center', 'scale')\n",
    ")\n",
    "\n",
    "\n",
    "# Perform the pca fit\n",
    "list.fit.pcr <- train(\n",
    "  GDP ~ INDPRO + PCE + RSALESAGG + ALTSALES + MSPUS.times.HOUST,\n",
    "  data = df.train,\n",
    "  method = \"pcr\",\n",
    "  preProcess = c('center', 'scale')\n",
    ")\n"
   ]
  },
  {
   "cell_type": "markdown",
   "metadata": {},
   "source": [
    "### Adds the linear prediction to the data frame"
   ]
  },
  {
   "cell_type": "code",
   "execution_count": null,
   "metadata": {},
   "outputs": [],
   "source": [
    "# Add linear prediction to the dataframe\n",
    "str.symbol <- \"GDP.lm\"\n",
    "df.data[str.symbol] <-\n",
    "  predict(list.fit.reg, newdata = df.data)\n",
    "\n",
    "# Add the linear model prediction to the symbols table\n",
    "str.description <- \"Linear Model Prediction\\nGDP given INDPRO,\\nPCE, RSALESAGG, ALTSALES,\\nand housing\"\n",
    "df.symbols <-\n",
    "  rbind(\n",
    "    df.symbols,\n",
    "    data.frame(\n",
    "      string.symbol = str.symbol,\n",
    "      string.source = \"Predict\",\n",
    "      string.description = str.description,\n",
    "      string.label.y = getPlotYLabel(df.symbols, \"POPTHM\")[1],\n",
    "      float.expense.ratio = -1.00,\n",
    "      Max030 = FALSE,\n",
    "      Max180 = FALSE,\n",
    "      date.series.start = dt.start.prediction,\n",
    "      date.series.end = as.Date(Sys.Date())\n",
    "    )\n",
    "  )\n",
    "\n",
    "\n",
    "# Normalize linear model GDP commodities by GDP deflator\n",
    "df.data$GDP.lm.by.GDPDEF <-\n",
    "  (df.data$GDP.lm / df.data$GDPDEF)\n",
    "df.symbols <-\n",
    "  rbind(\n",
    "    df.symbols,\n",
    "    data.frame(\n",
    "      string.symbol = \"GDP.lm.by.GDPDEF\",\n",
    "      string.source = \"Calc\",\n",
    "      string.description = \"Linear Model Est. GDP \\nNormalized by GDP def\",\n",
    "      string.label.y = \"(-)\",\n",
    "      float.expense.ratio = -1.00,\n",
    "      Max030 = FALSE,\n",
    "      Max180 = FALSE,\n",
    "      date.series.start =  as.Date(max(c(\n",
    "        index(GDP[1]), index(GDPDEF[1])\n",
    "      ))) ,\n",
    "      date.series.end = as.Date(min(c(\n",
    "        index(tail(GDP, 1)), index(tail(GDPDEF, 1))\n",
    "      )))\n",
    "    )\n",
    "  )"
   ]
  },
  {
   "cell_type": "markdown",
   "metadata": {},
   "source": [
    "Add the nominal linear prediction year-over-year growth"
   ]
  },
  {
   "cell_type": "code",
   "execution_count": null,
   "metadata": {},
   "outputs": [],
   "source": [
    "str.symbolYoY <- paste(str.symbol, \"_YoY\", sep = \"\")\n",
    "df.data[str.symbolYoY] <- CalcYoY(df.data, str.symbol, 365)\n",
    "\n",
    "df.symbols <-\n",
    "  rbind(\n",
    "    df.symbols,\n",
    "    data.frame(\n",
    "      string.symbol = str.symbolYoY,\n",
    "      string.source = \"Calc\",\n",
    "      string.description = paste(str.description, \"\\nYear over Year\", sep =\n",
    "                                   \"\"),\n",
    "      string.label.y = \"Percent\",\n",
    "      float.expense.ratio = -1.00,\n",
    "      Max030 = FALSE,\n",
    "      Max180 = FALSE,\n",
    "      date.series.start = dt.start.prediction,\n",
    "      date.series.end = as.Date(Sys.Date())\n",
    "    )\n",
    "  )"
   ]
  },
  {
   "cell_type": "markdown",
   "metadata": {},
   "source": [
    "Add the real linear prediction (nominal/deflator) year-over-year growth"
   ]
  },
  {
   "cell_type": "code",
   "execution_count": null,
   "metadata": {},
   "outputs": [],
   "source": [
    "str.symbol <- \"GDP.lm.by.GDPDEF\"\n",
    "str.symbolYoY <- paste(str.symbol, \"_YoY\", sep = \"\")\n",
    "df.data[str.symbolYoY] <- CalcYoY(df.data, str.symbol, 365)\n",
    "\n",
    "df.symbols <-\n",
    "  rbind(\n",
    "    df.symbols,\n",
    "    data.frame(\n",
    "      string.symbol = str.symbolYoY,\n",
    "      string.source = \"Calc\",\n",
    "      string.description = paste(str.description, \"\\nYear over Year\", sep =\n",
    "                                   \"\"),\n",
    "      string.label.y = \"Percent\",\n",
    "      float.expense.ratio = -1.00,\n",
    "      Max030 = FALSE,\n",
    "      Max180 = FALSE,\n",
    "      date.series.start = dt.start.prediction,\n",
    "      date.series.end = as.Date(Sys.Date())\n",
    "    )\n",
    "  )"
   ]
  },
  {
   "cell_type": "markdown",
   "metadata": {},
   "source": [
    "### Add linear prediction by PCA to the dataframe"
   ]
  },
  {
   "cell_type": "code",
   "execution_count": null,
   "metadata": {},
   "outputs": [],
   "source": [
    "str.symbol.pcr <- \"GDP.pcr\"\n",
    "df.data[str.symbol.pcr] <-\n",
    "  predict(list.fit.pcr, newdata = df.data, ncomp = 1)"
   ]
  },
  {
   "cell_type": "code",
   "execution_count": null,
   "metadata": {},
   "outputs": [],
   "source": [
    "list.fit.pcr"
   ]
  },
  {
   "cell_type": "code",
   "execution_count": null,
   "metadata": {},
   "outputs": [],
   "source": [
    "# Add the linear model prediction to the symbols table\n",
    "str.description.pcr <- \"PCA regression\\nGDP given INDPRO,\\nPCE, RSALESAGG, ALTSALES,\\nand housing\"  \n",
    "df.symbols <-\n",
    "  rbind(\n",
    "    df.symbols,\n",
    "    data.frame(\n",
    "      string.symbol = str.symbol.pcr,\n",
    "      string.source = \"Predict\",\n",
    "      string.description = str.description.pcr,\n",
    "      string.label.y = getPlotYLabel(df.symbols, \"POPTHM\")[1],\n",
    "      float.expense.ratio = -1.00,\n",
    "      Max030 = FALSE,\n",
    "      Max180 = FALSE,\n",
    "      date.series.start = dt.start.prediction,\n",
    "      date.series.end = as.Date(Sys.Date())\n",
    "    )\n",
    "  )"
   ]
  },
  {
   "cell_type": "markdown",
   "metadata": {},
   "source": [
    "Add the PCA prediction year-over-year growth"
   ]
  },
  {
   "cell_type": "code",
   "execution_count": null,
   "metadata": {},
   "outputs": [],
   "source": [
    "# The YoY calculation for PCA\n",
    "str.symbolYoY <- paste(str.symbol.pcr, \"_YoY\", sep = \"\")\n",
    "df.data[str.symbolYoY] <- CalcYoY(df.data, str.symbol.pcr, 365)\n",
    "\n",
    "df.symbols <-\n",
    "  rbind(\n",
    "    df.symbols,\n",
    "    data.frame(\n",
    "      string.symbol = str.symbolYoY,\n",
    "      string.source = \"Calc\",\n",
    "      string.description = paste(str.description.pcr, \"\\nYear over Year\", sep =\n",
    "                                   \"\"),\n",
    "      string.label.y = \"Percent\",\n",
    "      float.expense.ratio = -1.00,\n",
    "      Max030 = FALSE,\n",
    "      Max180 = FALSE,\n",
    "      date.series.start = dt.start.prediction,\n",
    "      date.series.end = as.Date(Sys.Date())\n",
    "    )\n",
    "  )"
   ]
  },
  {
   "cell_type": "markdown",
   "metadata": {},
   "source": [
    "Plot the predicted and actual values"
   ]
  },
  {
   "cell_type": "code",
   "execution_count": null,
   "metadata": {},
   "outputs": [],
   "source": [
    "options(repr.plot.width = 9.7, repr.plot.height = 6, repr.plot.res = 600)\n",
    "datay <- \"GDP.lm\"\n",
    "datay.aux <- \"GDP.pcr\"\n",
    "datay.aux.1 <- \"GDP\"\n",
    "ylim <- c(0, 25000)\n",
    "dt.end <- Sys.Date()\n",
    "myPlot <- \n",
    "  plotSingle(\n",
    "    dfRecession,\n",
    "    df.data,\n",
    "    \"date\",\n",
    "    datay,\n",
    "    \"GDP Compared to GDP predicted using linear model\",\n",
    "    \"Date\",\n",
    "    getPlotYLabel(df.symbols, datay),\n",
    "    c(dt.start.prediction, dt.end),\n",
    "    ylim,\n",
    "    b.legend = TRUE,\n",
    "    b.percentile = FALSE,\n",
    "    b.long.legend = TRUE\n",
    "  )\n",
    "myPlot <- myPlot + geom_line(\n",
    "  data = df.data,\n",
    "  aes_string(\n",
    "    x = \"date\",\n",
    "    y = datay.aux,\n",
    "    colour = shQuote(getPlotTitle(df.symbols, datay.aux))\n",
    "  ),\n",
    "  na.rm = TRUE\n",
    ")\n",
    "myPlot <- myPlot + geom_line(\n",
    "  data = df.data,\n",
    "  aes_string(\n",
    "    x = \"date\",\n",
    "    y = datay.aux.1,\n",
    "    colour = shQuote(getPlotTitle(df.symbols, datay.aux.1))\n",
    "  ),\n",
    "  na.rm = TRUE\n",
    ")\n",
    "\n",
    "print(myPlot)"
   ]
  },
  {
   "cell_type": "markdown",
   "metadata": {},
   "source": [
    "Looking at some more recent data points"
   ]
  },
  {
   "cell_type": "code",
   "execution_count": null,
   "metadata": {},
   "outputs": [],
   "source": [
    "options(repr.plot.width = 9, repr.plot.height = 3.5, repr.plot.res = 600)\n",
    "datay <- \"GDP.lm\"\n",
    "datay.aux <- \"GDP.pcr\"\n",
    "datay.aux.1 <- \"GDP\"\n",
    "ylim <- c(10000, 25000)\n",
    "dt.end <- Sys.Date()\n",
    "dt.start <- as.Date(\"2015-01-01\")\n",
    "myPlot <-\n",
    "  plotSingle(\n",
    "    dfRecession,\n",
    "    df.data,\n",
    "    \"date\",\n",
    "    datay,\n",
    "    \"GDP Compared to GDP predicted using linear model\",\n",
    "    \"Date\",\n",
    "    getPlotYLabel(df.symbols, datay),\n",
    "    c(dt.start, dt.end),\n",
    "    ylim,\n",
    "    b.legend = TRUE,\n",
    "    b.percentile = FALSE,\n",
    "    b.long.legend = TRUE\n",
    "  )\n",
    "myPlot <- myPlot + geom_line(\n",
    "  data = df.data,\n",
    "  aes_string(\n",
    "    x = \"date\",\n",
    "    y = datay.aux,\n",
    "    colour = shQuote(getPlotTitle(df.symbols, datay.aux))\n",
    "  ),\n",
    "  na.rm = TRUE\n",
    ")\n",
    "myPlot <- myPlot + geom_line(\n",
    "  data = df.data,\n",
    "  aes_string(\n",
    "    x = \"date\",\n",
    "    y = datay.aux.1,\n",
    "    colour = shQuote(getPlotTitle(df.symbols, datay.aux.1))\n",
    "  ),\n",
    "  na.rm = TRUE\n",
    ")\n",
    "\n",
    "print(myPlot)"
   ]
  },
  {
   "cell_type": "code",
   "execution_count": null,
   "metadata": {},
   "outputs": [],
   "source": [
    "df.data$GDPNOW <- df.data$GDPNOW/4 "
   ]
  },
  {
   "cell_type": "code",
   "execution_count": null,
   "metadata": {},
   "outputs": [],
   "source": [
    "options(repr.plot.width = 9.7, repr.plot.height = 6, repr.plot.res = 300)\n",
    "\n",
    "datay <- \"GDP_YoY\"\n",
    "datay.aux <- \"GDP.lm_YoY\"\n",
    "datay.aux.2 <- \"GDP.pcr_YoY\"\n",
    "ylim <- c(-50, 50)\n",
    "dt.end <- Sys.Date()\n",
    "dt.start <- as.Date(\"2015-01-01\")\n",
    "p1 <-\n",
    "  plotSingle(\n",
    "    dfRecession,\n",
    "    df.data,\n",
    "    \"date\",\n",
    "    datay,\n",
    "    \"GDP Compared to GDP predicted using linear model\",\n",
    "    \"Date\",\n",
    "    getPlotYLabel(df.symbols, datay),\n",
    "    c(dt.start, dt.end),\n",
    "    ylim,\n",
    "    b.legend = TRUE,\n",
    "    b.percentile = FALSE,\n",
    "    b.long.legend = TRUE\n",
    "  )\n",
    "p1 <- p1 + geom_line(\n",
    "  data = df.data,\n",
    "  aes_string(\n",
    "    x = \"date\",\n",
    "    y = datay.aux,\n",
    "    colour = shQuote(getPlotTitle(df.symbols, datay.aux))\n",
    "  ),\n",
    "  na.rm = TRUE\n",
    ")\n",
    "p1 <- p1 + geom_line(\n",
    "  data = df.data,\n",
    "  aes_string(\n",
    "    x = \"date\",\n",
    "    y = datay.aux.1,\n",
    "    colour = shQuote(getPlotTitle(df.symbols, datay.aux.1))\n",
    "  ),\n",
    "  na.rm = TRUE\n",
    ")\n",
    "\n",
    "p1 <- p1 + geom_line(\n",
    "  data = df.data,\n",
    "  aes_string(\n",
    "    x = \"date\",\n",
    "    y = datay.aux.2,\n",
    "    colour = shQuote(getPlotTitle(df.symbols, datay.aux.2))\n",
    "  ),\n",
    "  na.rm = TRUE\n",
    ")\n",
    "\n",
    "datay.1 <- \"GDP.lm.by.GDPDEF_YoY\"\n",
    "datay.aux.1 <- \"GDPNOW\"\n",
    "ylim.1 <- c(-10, 20)\n",
    "p2 <- plotSingleQuick(dfRecession, \n",
    "                      df.data, datay.1, \n",
    "                      ylim.1, dtStart, \n",
    "                      b.percentile = FALSE, \n",
    "                      b.legend = TRUE,\n",
    "                      b.long.legend = TRUE)\n",
    "p2 <- p2 + geom_line(\n",
    "    data = df.data,\n",
    "    aes_string(x = \"date\",\n",
    "      y = datay.aux.1,\n",
    "      colour = shQuote(datay.aux.1)\n",
    "    ),\n",
    "    na.rm = TRUE\n",
    "  )\n",
    "\n",
    "grid.arrange(p1,\n",
    "             p2,\n",
    "             ncol = 1,\n",
    "             top = \"Nominal and real GDP\")"
   ]
  },
  {
   "cell_type": "markdown",
   "metadata": {},
   "source": [
    "Look at how the GDP linear fit performed on the test data partition"
   ]
  },
  {
   "cell_type": "code",
   "execution_count": null,
   "metadata": {},
   "outputs": [],
   "source": [
    "d.test.resid = (df.test$GDP - predict(list.fit.reg, newdata = df.test))\n",
    "hist(d.test.resid, main=paste(\"Residual For\", str.symbol, sep=\" \"))\n",
    "sd.fit.gdp.m = sd(d.test.resid)"
   ]
  },
  {
   "cell_type": "code",
   "execution_count": null,
   "metadata": {},
   "outputs": [],
   "source": [
    "list.fit.reg$finalModel"
   ]
  },
  {
   "cell_type": "code",
   "execution_count": null,
   "metadata": {},
   "outputs": [],
   "source": [
    "d.test.resid = (df.test$GDP - predict(list.fit.pcr, newdata = df.test))\n",
    "hist(d.test.resid, main=paste(\"Residual For\", str.symbol.pcr, sep=\" \"))\n",
    "sd.fit.gdp.pcr = sd(d.test.resid)"
   ]
  },
  {
   "cell_type": "code",
   "execution_count": null,
   "metadata": {},
   "outputs": [],
   "source": [
    "summary(list.fit.pcr)"
   ]
  },
  {
   "cell_type": "markdown",
   "metadata": {},
   "source": [
    "Document the residual as well"
   ]
  },
  {
   "cell_type": "code",
   "execution_count": null,
   "metadata": {},
   "outputs": [],
   "source": [
    "str.symbol.res <- \"GDP.lm.res\"\n",
    "df.data[str.symbol.res] <- df.data$GDP - df.data[str.symbol]\n",
    "\n",
    "# Add the GDP linear model prediction residual to the symbols table\n",
    "df.symbols <-\n",
    "  rbind(\n",
    "    df.symbols,\n",
    "    data.frame(\n",
    "      string.symbol = str.symbol.res,\n",
    "      string.source = \"Predict Resid.\",\n",
    "      string.description = \"Residual for \\nGDP given INDPRO,PCE, RSALESAGG,\\nauto sales, and home sales\",\n",
    "      string.label.y = df.symbols[df.symbols$string.symbol==str.symbol,\"string.label.y\"],\n",
    "      float.expense.ratio = -1.00,\n",
    "      Max030 = FALSE,\n",
    "      Max180 = FALSE,\n",
    "      date.series.start = dt.start.prediction,\n",
    "      date.series.end = as.Date(Sys.Date())\n",
    "    )\n",
    "  )\n"
   ]
  },
  {
   "cell_type": "markdown",
   "metadata": {},
   "source": [
    "Document the PCR residual"
   ]
  },
  {
   "cell_type": "code",
   "execution_count": null,
   "metadata": {},
   "outputs": [],
   "source": [
    "str.symbol.pcr.res <- \"GDP.pcr.res\"\n",
    "df.data[str.symbol.pcr.res] <- df.data$GDP - df.data[str.symbol.pcr]\n",
    "\n",
    "# Add the GDP linear model prediction residual to the symbols table\n",
    "df.symbols <-\n",
    "  rbind(\n",
    "    df.symbols,\n",
    "    data.frame(\n",
    "      string.symbol = str.symbol.pcr.res,\n",
    "      string.source = \"Predict Resid.\",\n",
    "      string.description = \"PCR Residual for \\nGDP given INDPRO,\\nPCE, and RSALESAGG\",\n",
    "      string.label.y = df.symbols[df.symbols$string.symbol==str.symbol,\"string.label.y\"],\n",
    "      float.expense.ratio = -1.00,\n",
    "      Max030 = FALSE,\n",
    "      Max180 = FALSE,\n",
    "      date.series.start = dt.start.prediction,\n",
    "      date.series.end = as.Date(Sys.Date())\n",
    "    )\n",
    "  )\n"
   ]
  },
  {
   "cell_type": "markdown",
   "metadata": {},
   "source": [
    "Plot the residual  GDP to the linear fit prediction. \n",
    "\n",
    "The residuals decrease quite a bit during the Covid numbers, at least as of Jun 2020. Probably indicates uncertainty in the numbers."
   ]
  },
  {
   "cell_type": "code",
   "execution_count": null,
   "metadata": {},
   "outputs": [],
   "source": [
    "datay <- str.symbol.res\n",
    "ylim <- c(-2000, 2000)\n",
    "myPlot <- plotSingle(\n",
    "  dfRecession,\n",
    "  df.data,\n",
    "  \"date\",\n",
    "  datay,\n",
    "  getPlotTitle(df.symbols, datay),\n",
    "  \"Date\",\n",
    "  getPlotYLabel(df.symbols, datay),\n",
    "  c(as.Date(\"1jan1967\", \"%d%b%Y\"), Sys.Date()),\n",
    "  ylim,\n",
    "  b.legend = TRUE,\n",
    "  b.percentile = TRUE,\n",
    "  b.long.legend = FALSE\n",
    ")\n",
    "\n",
    "myPlot <- myPlot + geom_hline(yintercept=(6*sd.fit.gdp.m), color = \"red\", linetype=\"dashed\")\n",
    "myPlot <- myPlot + geom_hline(yintercept=(-6*sd.fit.gdp.m), color = \"red\", linetype=\"dashed\")\n",
    "\n",
    "print(myPlot)"
   ]
  },
  {
   "cell_type": "markdown",
   "metadata": {},
   "source": [
    "Plot the residual GDP to the PCR fit prediction. \n",
    "\n",
    "The residuals decrease quite a bit during the Covid numbers, at least as of Jun 2020. Probably indicates uncertainty in the numbers."
   ]
  },
  {
   "cell_type": "code",
   "execution_count": null,
   "metadata": {},
   "outputs": [],
   "source": [
    "datay <- str.symbol.pcr.res\n",
    "ylim <- c(-2000, 2000)\n",
    "myPlot <- plotSingle(\n",
    "  dfRecession,\n",
    "  df.data,\n",
    "  \"date\",\n",
    "  datay,\n",
    "  getPlotTitle(df.symbols, datay),\n",
    "  \"Date\",\n",
    "  getPlotYLabel(df.symbols, datay),\n",
    "  c(as.Date(\"1jan1967\", \"%d%b%Y\"), Sys.Date()),\n",
    "  ylim,\n",
    "  b.legend = TRUE,\n",
    "  b.percentile = TRUE,\n",
    "  b.long.legend = FALSE\n",
    ")\n",
    "\n",
    "myPlot <- myPlot + geom_hline(yintercept=(6*sd.fit.gdp.pcr), color = \"red\", linetype=\"dashed\")\n",
    "myPlot <- myPlot + geom_hline(yintercept=(-6*sd.fit.gdp.pcr), color = \"red\", linetype=\"dashed\")\n",
    "\n",
    "print(myPlot)\n"
   ]
  },
  {
   "cell_type": "markdown",
   "metadata": {},
   "source": [
    "### Regression, Advanced Retail sales\n",
    "\n",
    "See if we can get there with a simple regression model. Begin by taking a look at how these datapoints correlate with advanced retail sales"
   ]
  },
  {
   "cell_type": "code",
   "execution_count": null,
   "metadata": {},
   "outputs": [],
   "source": [
    "# Correlation for the entire data set\n",
    "training.cor <-\n",
    "  df.data[, c(\"GDP\", \"INDPRO\", \"PCE\", \"RSAFS\", \"ALTSALES\", \"MSPUS.times.HOUST\")]\n",
    "\n",
    "  rcorr.data <- rcorr(as.matrix(training.cor), type = \"pearson\")\n",
    "  #print(rcorr.data)\n",
    "\n",
    "  corrplot::corrplot(cor(training.cor), type=\"upper\", order=\"original\", \n",
    "           tl.col=\"black\", tl.srt=45, title =\"GDP Data\")"
   ]
  },
  {
   "cell_type": "code",
   "execution_count": null,
   "metadata": {},
   "outputs": [],
   "source": [
    "\n",
    "df.gdp.model <-\n",
    "  df.data[df.data$date >= dt.start.prediction &\n",
    "            df.data$date <= dt.end.prediction,]\n",
    "\n",
    "# I break the data into three sets: 50% for training, 25% for testing, and 25% for validation.\n",
    "set.seed(123456)\n",
    "in.train <- createDataPartition(y=df.gdp.model$GDP, p = 0.50, list=FALSE)\n",
    "df.train <- df.gdp.model[in.train,]\n",
    "df.data.rest <- df.gdp.model[-in.train,]\n",
    "in.val <- createDataPartition(y = df.data.rest$GDP, p = 0.50, list = FALSE)\n",
    "df.val <- df.data.rest[in.val,]\n",
    "df.test <- df.data.rest[-in.val,]\n",
    "rm(df.data.rest)\n",
    "\n",
    "# Perform the linear fit\n",
    "list.fit.reg.adv <- train(\n",
    "  GDP ~ INDPRO + PCE + RSAFS + ALTSALES + MSPUS.times.HOUST,\n",
    "  data = df.train,\n",
    "  method = \"lm\",\n",
    "  preProcess = c('center', 'scale')\n",
    ")\n"
   ]
  },
  {
   "cell_type": "code",
   "execution_count": null,
   "metadata": {},
   "outputs": [],
   "source": [
    "# Add linear prediction to the dataframe\n",
    "str.symbol <- \"GDP.lm.adv\"\n",
    "df.data[str.symbol] <-\n",
    "  predict(list.fit.reg.adv, newdata = df.data)\n",
    "\n",
    "# Add the linear model prediction to the symbols table\n",
    "df.symbols <-\n",
    "  rbind(\n",
    "    df.symbols,\n",
    "    data.frame(\n",
    "      string.symbol = str.symbol,\n",
    "      string.source = \"Predict\",\n",
    "      string.description = \"Linear Model Prediction\\nGDP given INDPRO,\\nPCE, RSAFS, auto sales,\\nand housing\",\n",
    "      string.label.y = getPlotYLabel(df.symbols, \"POPTHM\")[1],\n",
    "      float.expense.ratio = -1.00,\n",
    "      Max030 = FALSE,\n",
    "      Max180 = FALSE,\n",
    "      date.series.start = dt.start.prediction,\n",
    "      date.series.end = as.Date(Sys.Date())\n",
    "    )\n",
    "  )"
   ]
  },
  {
   "cell_type": "code",
   "execution_count": null,
   "metadata": {},
   "outputs": [],
   "source": [
    "\n",
    "datay <- \"GDP.lm.adv\"\n",
    "datay.aux <- \"GDP\"\n",
    "ylim <- c(0, 25000)\n",
    "dt.end <- Sys.Date()\n",
    "myPlot <- \n",
    "  plotSingle(\n",
    "    dfRecession,\n",
    "    df.data,\n",
    "    \"date\",\n",
    "    datay,\n",
    "    \"GDP Compared to GDP predicted using linear model\",\n",
    "    \"Date\",\n",
    "    getPlotYLabel(df.symbols, datay),\n",
    "    c(dt.start.prediction, dt.end),\n",
    "    ylim,\n",
    "    b.legend = TRUE,\n",
    "    b.percentile = FALSE,\n",
    "    b.long.legend = TRUE\n",
    "  )\n",
    "myPlot <- myPlot + geom_line(\n",
    "  data = df.data,\n",
    "  aes_string(\n",
    "    x = \"date\",\n",
    "    y = datay.aux,\n",
    "    colour = shQuote(getPlotTitle(df.symbols, datay.aux))\n",
    "  ),\n",
    "  na.rm = TRUE\n",
    ")\n",
    "\n",
    "print(myPlot)"
   ]
  },
  {
   "cell_type": "markdown",
   "metadata": {},
   "source": [
    "Looking at some more recent data points"
   ]
  },
  {
   "cell_type": "code",
   "execution_count": null,
   "metadata": {},
   "outputs": [],
   "source": [
    "options(repr.plot.width = 9, repr.plot.height = 3.5, repr.plot.res = 600)\n",
    "datay <- \"GDP.lm.adv\"\n",
    "datay.aux <- \"GDP\"\n",
    "ylim <- c(12000, 25000)\n",
    "dt.end <- Sys.Date()\n",
    "dt.start <- as.Date(\"2010-01-01\")\n",
    "myPlot <-\n",
    "  plotSingle(\n",
    "    dfRecession,\n",
    "    df.data,\n",
    "    \"date\",\n",
    "    datay,\n",
    "    \"GDP Compared to GDP predicted using linear model\",\n",
    "    \"Date\",\n",
    "    getPlotYLabel(df.symbols, datay),\n",
    "    c(dt.start, dt.end),\n",
    "    ylim,\n",
    "    b.legend = TRUE,\n",
    "    b.percentile = FALSE,\n",
    "    b.long.legend = TRUE\n",
    "  )\n",
    "myPlot <- myPlot + geom_line(\n",
    "  data = df.data,\n",
    "  aes_string(\n",
    "    x = \"date\",\n",
    "    y = datay.aux,\n",
    "    colour = shQuote(getPlotTitle(df.symbols, datay.aux))\n",
    "  ),\n",
    "  na.rm = TRUE\n",
    ")\n",
    "\n",
    "print(myPlot)"
   ]
  },
  {
   "cell_type": "markdown",
   "metadata": {},
   "source": [
    "Look at how the GDP linear fit performed on the test data partition"
   ]
  },
  {
   "cell_type": "code",
   "execution_count": null,
   "metadata": {},
   "outputs": [],
   "source": [
    "d.test.resid.adv = (df.test$GDP - predict(list.fit.reg.adv, newdata = df.test))\n",
    "hist(d.test.resid, main=paste(\"Residual For\", str.symbol, sep=\" \"))\n",
    "sd.fit.gdp.lm.adv = sd(d.test.resid)\n"
   ]
  },
  {
   "cell_type": "code",
   "execution_count": null,
   "metadata": {},
   "outputs": [],
   "source": [
    "list.fit.reg.adv$finalModel"
   ]
  },
  {
   "cell_type": "markdown",
   "metadata": {},
   "source": [
    "Document the residual as well"
   ]
  },
  {
   "cell_type": "code",
   "execution_count": null,
   "metadata": {},
   "outputs": [],
   "source": [
    "str.symbol.res <- \"GDP.lm.adv.res\"\n",
    "df.data[str.symbol.res] <- df.data$GDP - df.data[str.symbol]\n",
    "\n",
    "# Add the GDP linear model prediction residual to the symbols table\n",
    "df.symbols <-\n",
    "  rbind(\n",
    "    df.symbols,\n",
    "    data.frame(\n",
    "      string.symbol = str.symbol.res,\n",
    "      string.source = \"Predict Resid.\",\n",
    "      string.description = \"Residual for \\nGDP given INDPRO,\\nPCE, and RSALESAGG\",\n",
    "      string.label.y = df.symbols[df.symbols$string.symbol==str.symbol,\"string.label.y\"],\n",
    "      float.expense.ratio = -1.00,\n",
    "      Max030 = FALSE,\n",
    "      Max180 = FALSE,\n",
    "      date.series.start = dt.start.prediction,\n",
    "      date.series.end = as.Date(Sys.Date())\n",
    "    )\n",
    "  )\n"
   ]
  },
  {
   "cell_type": "markdown",
   "metadata": {},
   "source": [
    "Plot the residual  GDP to the linear fit prediction. \n",
    "\n",
    "The residuals decrease quite a bit during the Covid numbers, at least as of Jun 2020. Probably indicates uncertainty in the numbers."
   ]
  },
  {
   "cell_type": "code",
   "execution_count": null,
   "metadata": {},
   "outputs": [],
   "source": [
    "datay <- str.symbol.res\n",
    "ylim <- c(-2000, 2000)\n",
    "myPlot <- plotSingle(\n",
    "  dfRecession,\n",
    "  df.data,\n",
    "  \"date\",\n",
    "  datay,\n",
    "  getPlotTitle(df.symbols, datay),\n",
    "  \"Date\",\n",
    "  getPlotYLabel(df.symbols, datay),\n",
    "  c(as.Date(\"1jan1967\", \"%d%b%Y\"), Sys.Date()),\n",
    "  ylim,\n",
    "  b.legend = TRUE,\n",
    "  b.percentile = TRUE,\n",
    "  b.long.legend = FALSE\n",
    ")\n",
    "\n",
    "myPlot <- myPlot + geom_hline(yintercept=(6*sd.fit.gdp.lm.adv), color = \"red\", linetype=\"dashed\")\n",
    "myPlot <- myPlot + geom_hline(yintercept=(-6*sd.fit.gdp.lm.adv), color = \"red\", linetype=\"dashed\")\n",
    "\n",
    "print(myPlot)\n"
   ]
  },
  {
   "cell_type": "code",
   "execution_count": null,
   "metadata": {},
   "outputs": [],
   "source": [
    "datay <- \"CPIAUCSL_YoY\"\n",
    "datay.aux <- \"PPIACO_YoY\"\n",
    "datay.aux.scale <- 0.5\n",
    "datay.aux.1 <- \"PCEPI_YoY\"\n",
    "\n",
    "ylim <- c(-10, 20)\n",
    "dtStart = as.Date('1960-01-01')\n",
    "myPlot <-\n",
    "  plotSingle(\n",
    "    dfRecession,\n",
    "    df.data,\n",
    "    \"date\",\n",
    "    datay,\n",
    "    getPlotTitle(df.symbols, datay),\n",
    "    \"Date\",\n",
    "    paste(getPlotYLabel(df.symbols, datay), \", \", datay, sep=\"\"),\n",
    "    c(dtStart, Sys.Date()),\n",
    "    ylim,\n",
    "    b.legend = TRUE,\n",
    "    b.long.legend = TRUE\n",
    "  )\n",
    "myPlot <- myPlot + geom_line(\n",
    "  data = df.data,\n",
    "  aes_string(\n",
    "    x = \"date\",\n",
    "    y = df.data[[datay.aux]] * datay.aux.scale,\n",
    "    colour = shQuote(getPlotTitle(df.symbols, datay.aux, str.sep = \"\\n\"))\n",
    "  ),\n",
    "  na.rm = TRUE\n",
    ")\n",
    "\n",
    "myPlot <- myPlot + geom_line(\n",
    "  data = df.data,\n",
    "  aes_string(\n",
    "    x = \"date\",\n",
    "    y = df.data[[datay.aux.1]] * datay.aux.scale,\n",
    "    colour = shQuote(getPlotTitle(df.symbols, datay.aux.1, str.sep = \"\\n\"))\n",
    "  ),\n",
    "  na.rm = TRUE\n",
    ")\n",
    "\n",
    "\n",
    "myPlot + scale_y_continuous(sec.axis = sec_axis(\n",
    "  ~ . * (1 / datay.aux.scale),\n",
    "  name = paste(getPlotYLabel(df.symbols, datay.aux), \", \", datay.aux, sep = \"\")\n",
    "), limits = ylim)\n"
   ]
  }
 ],
 "metadata": {
  "kernelspec": {
   "display_name": "R",
   "language": "R",
   "name": "ir"
  },
  "language_info": {
   "codemirror_mode": "r",
   "file_extension": ".r",
   "mimetype": "text/x-r-source",
   "name": "R",
   "pygments_lexer": "r",
   "version": "4.1.2"
  }
 },
 "nbformat": 4,
 "nbformat_minor": 2
}
