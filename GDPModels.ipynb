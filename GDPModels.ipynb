{
 "cells": [
  {
   "cell_type": "markdown",
   "metadata": {},
   "source": [
    "# GDP Models\n"
   ]
  },
  {
   "cell_type": "code",
   "execution_count": 1,
   "metadata": {},
   "outputs": [
    {
     "name": "stderr",
     "output_type": "stream",
     "text": [
      "Loading required package: MASS\n",
      "\n",
      "Loading required package: HistData\n",
      "\n",
      "Loading required package: Hmisc\n",
      "\n",
      "Loading required package: lattice\n",
      "\n",
      "Loading required package: survival\n",
      "\n",
      "Loading required package: Formula\n",
      "\n",
      "Loading required package: ggplot2\n",
      "\n",
      "\n",
      "Attaching package: 'Hmisc'\n",
      "\n",
      "\n",
      "The following objects are masked from 'package:base':\n",
      "\n",
      "    format.pval, units\n",
      "\n",
      "\n",
      "\n",
      "Attaching package: 'UsingR'\n",
      "\n",
      "\n",
      "The following object is masked from 'package:survival':\n",
      "\n",
      "    cancer\n",
      "\n",
      "\n",
      "Loading required package: xts\n",
      "\n",
      "Loading required package: zoo\n",
      "\n",
      "\n",
      "Attaching package: 'zoo'\n",
      "\n",
      "\n",
      "The following objects are masked from 'package:base':\n",
      "\n",
      "    as.Date, as.Date.numeric\n",
      "\n",
      "\n",
      "Loading required package: TTR\n",
      "\n",
      "Registered S3 method overwritten by 'quantmod':\n",
      "  method            from\n",
      "  as.zoo.data.frame zoo \n",
      "\n",
      "Version 0.4-0 included new data defaults. See ?getSymbols.\n",
      "\n",
      "\n",
      "Attaching package: 'quantmod'\n",
      "\n",
      "\n",
      "The following object is masked from 'package:Hmisc':\n",
      "\n",
      "    Lag\n",
      "\n",
      "\n",
      "\n",
      "Attaching package: 'signal'\n",
      "\n",
      "\n",
      "The following objects are masked from 'package:stats':\n",
      "\n",
      "    filter, poly\n",
      "\n",
      "\n",
      "corrplot 0.84 loaded\n",
      "\n",
      "\n",
      "Attaching package: 'caret'\n",
      "\n",
      "\n",
      "The following object is masked from 'package:survival':\n",
      "\n",
      "    cluster\n",
      "\n",
      "\n",
      "randomForest 4.6-14\n",
      "\n",
      "Type rfNews() to see new features/changes/bug fixes.\n",
      "\n",
      "\n",
      "Attaching package: 'randomForest'\n",
      "\n",
      "\n",
      "The following object is masked from 'package:gridExtra':\n",
      "\n",
      "    combine\n",
      "\n",
      "\n",
      "The following object is masked from 'package:ggplot2':\n",
      "\n",
      "    margin\n",
      "\n",
      "\n",
      "Loading required package: XML\n",
      "\n",
      "\n",
      "Attaching package: 'XML'\n",
      "\n",
      "\n",
      "The following object is masked from 'package:tools':\n",
      "\n",
      "    toHTML\n",
      "\n",
      "\n",
      "\n",
      "Attaching package: 'data.table'\n",
      "\n",
      "\n",
      "The following objects are masked from 'package:xts':\n",
      "\n",
      "    first, last\n",
      "\n",
      "\n",
      "\n",
      "Attaching package: 'plotly'\n",
      "\n",
      "\n",
      "The following object is masked from 'package:signal':\n",
      "\n",
      "    filter\n",
      "\n",
      "\n",
      "The following object is masked from 'package:Hmisc':\n",
      "\n",
      "    subplot\n",
      "\n",
      "\n",
      "The following object is masked from 'package:ggplot2':\n",
      "\n",
      "    last_plot\n",
      "\n",
      "\n",
      "The following object is masked from 'package:MASS':\n",
      "\n",
      "    select\n",
      "\n",
      "\n",
      "The following object is masked from 'package:stats':\n",
      "\n",
      "    filter\n",
      "\n",
      "\n",
      "The following object is masked from 'package:graphics':\n",
      "\n",
      "    layout\n",
      "\n",
      "\n"
     ]
    }
   ],
   "source": [
    "library(UsingR)\n",
    "library(quantmod)\n",
    "library(ggplot2)\n",
    "library(grid)\n",
    "library(gridExtra)\n",
    "library(knitr)\n",
    "library(kableExtra)\n",
    "library(tools)\n",
    "library(zoo)\n",
    "library(signal)\n",
    "library(stringr)\n",
    "library(corrplot)\n",
    "library(caret)\n",
    "library(rpart)\n",
    "library(rpart.plot)\n",
    "library(randomForest)\n",
    "library(Quandl)\n",
    "library(nnet)\n",
    "library(readr)\n",
    "#library(devtools)\n",
    "#install_github(\"andrewuhl/RollingWindow\")\n",
    "library(RollingWindow)\n",
    "#install.packages(\"EIAdata\")\n",
    "library(EIAdata)\n",
    "library(gtable)\n",
    "library(data.table)\n",
    "library(readxl)\n",
    "library(plotly)"
   ]
  },
  {
   "cell_type": "markdown",
   "metadata": {},
   "source": [
    "Call helper functions"
   ]
  },
  {
   "cell_type": "code",
   "execution_count": 2,
   "metadata": {},
   "outputs": [],
   "source": [
    "source(\"plotHelper.r\")"
   ]
  },
  {
   "cell_type": "markdown",
   "metadata": {},
   "source": [
    "Define the source of the data (local or web) and whether to update the models."
   ]
  },
  {
   "cell_type": "code",
   "execution_count": 3,
   "metadata": {},
   "outputs": [],
   "source": [
    "b.refresh.models = FALSE"
   ]
  },
  {
   "cell_type": "markdown",
   "metadata": {},
   "source": [
    "Define the plotting ranges and vertical defaults"
   ]
  },
  {
   "cell_type": "code",
   "execution_count": 4,
   "metadata": {},
   "outputs": [],
   "source": [
    "dt.recent = as.Date(\"2017-01-01\")\n",
    "d.GSPC.max = 3500"
   ]
  },
  {
   "cell_type": "markdown",
   "metadata": {},
   "source": [
    "Load up the off-line data"
   ]
  },
  {
   "cell_type": "code",
   "execution_count": 5,
   "metadata": {},
   "outputs": [],
   "source": [
    "load(\"C:/Users/Rainy/OneDrive//RecessionIndicator_Buffer.RData\")"
   ]
  },
  {
   "cell_type": "markdown",
   "metadata": {},
   "source": [
    "This snippet is needed because some of the ticker symbols include are invalid variable names so re-cast those variable names."
   ]
  },
  {
   "cell_type": "code",
   "execution_count": 6,
   "metadata": {},
   "outputs": [],
   "source": [
    "df.symbols$string.symbol <-\n",
    "  str_replace_all(df.symbols$string.symbol, \"[^[:alnum:]]\", \"\")"
   ]
  },
  {
   "cell_type": "markdown",
   "metadata": {},
   "source": [
    "Do the interpolation to daily samples and tidy the data"
   ]
  },
  {
   "cell_type": "code",
   "execution_count": 7,
   "metadata": {},
   "outputs": [],
   "source": [
    "source(\"calcInterpolate.r\")"
   ]
  },
  {
   "cell_type": "code",
   "execution_count": 8,
   "metadata": {},
   "outputs": [
    {
     "name": "stderr",
     "output_type": "stream",
     "text": [
      "Warning message in merge.xts(xtsData, get(df.symbols$string.symbol[idx])):\n",
      "\"NAs introduced by coercion\"\n"
     ]
    }
   ],
   "source": [
    "df.data <- calcInterpolate(df.data, df.symbols)"
   ]
  },
  {
   "cell_type": "markdown",
   "metadata": {},
   "source": [
    "Truncate the data. A very few data series do go back to 1854, but most don't even go past WWII so truncate the dataframe"
   ]
  },
  {
   "cell_type": "code",
   "execution_count": 9,
   "metadata": {},
   "outputs": [],
   "source": [
    "df.data <- df.data[as.Date(rownames(df.data)) > as.Date(\"1940-01-01\"),]"
   ]
  },
  {
   "cell_type": "markdown",
   "metadata": {},
   "source": [
    "Create aggreagate data series\n",
    "Some analysis requires that two or more series be combined. For example, normallizing debt by GDP to get a sense of the proportion of debt to the total economy helps understand the debt cycle."
   ]
  },
  {
   "cell_type": "code",
   "execution_count": 10,
   "metadata": {},
   "outputs": [],
   "source": [
    "source(\"calcAggregateSeries.r\")"
   ]
  },
  {
   "cell_type": "markdown",
   "metadata": {},
   "source": [
    "Calculate the year-over-year, 50 day moving average, and other features in the data"
   ]
  },
  {
   "cell_type": "code",
   "execution_count": 11,
   "metadata": {},
   "outputs": [],
   "source": [
    "source(\"calcFeatures.r\")"
   ]
  },
  {
   "cell_type": "code",
   "execution_count": null,
   "metadata": {},
   "outputs": [],
   "source": [
    "lst.df <- calcFeatures(df.data, df.symbols)\n",
    "df.data <- lst.df[[1]]\n",
    "df.symbols <- lst.df[[2]]"
   ]
  },
  {
   "cell_type": "markdown",
   "metadata": {},
   "source": [
    "These are auxilliary series that use the YoY and smoothed data."
   ]
  },
  {
   "cell_type": "code",
   "execution_count": null,
   "metadata": {},
   "outputs": [],
   "source": [
    "source(\"calcFeaturesAggregate.r\")"
   ]
  },
  {
   "cell_type": "markdown",
   "metadata": {},
   "source": [
    "Build the recession data frame"
   ]
  },
  {
   "cell_type": "code",
   "execution_count": null,
   "metadata": {},
   "outputs": [],
   "source": [
    "source(\"calcRecession.r\")"
   ]
  },
  {
   "cell_type": "markdown",
   "metadata": {},
   "source": [
    "## GDP Models\n",
    "\n",
    "### Regression, Retail sales\n",
    "\n",
    "See if we can get there with a simple regression model. Begin by taking a look at how these datapoints correlate\n"
   ]
  },
  {
   "cell_type": "code",
   "execution_count": null,
   "metadata": {},
   "outputs": [],
   "source": [
    "# Exclude the Covid19 datasets\n",
    "dt.start.prediction <- as.Date(max(c(index(CLF16OV[1]), index(POPTHM[1]))))\n",
    "dt.end.prediction <- as.Date(\"2020-01-31\")"
   ]
  },
  {
   "cell_type": "markdown",
   "metadata": {},
   "source": [
    "Correlation for the entire data set"
   ]
  },
  {
   "cell_type": "code",
   "execution_count": null,
   "metadata": {},
   "outputs": [],
   "source": [
    "training.cor <-\n",
    "  df.data[, c(\"GDP\", \"INDPRO\", \"PCE\", \"RSALESAGG\", \"ALTSALES\", \"MSPUS.times.HOUST\")]\n",
    "\n",
    "  rcorr.data <- rcorr(as.matrix(training.cor), type = \"pearson\")\n",
    "  #print(rcorr.data)\n",
    "\n",
    "  corrplot::corrplot(cor(training.cor), type=\"upper\", order=\"original\", \n",
    "           tl.col=\"black\", tl.srt=45, title =\"GDP Data\")"
   ]
  },
  {
   "cell_type": "markdown",
   "metadata": {},
   "source": [
    "Begin training up some models"
   ]
  },
  {
   "cell_type": "code",
   "execution_count": null,
   "metadata": {},
   "outputs": [],
   "source": [
    "df.gdp.model <-\n",
    "  df.data[df.data$date >= dt.start.prediction &\n",
    "            df.data$date <= dt.end.prediction,]\n",
    "\n",
    "# I break the data into three sets: 50% for training, 25% for testing, and 25% for validation.\n",
    "set.seed(123456)\n",
    "in.train <- createDataPartition(y=df.gdp.model$GDP, p = 0.50, list=FALSE)\n",
    "df.train <- df.gdp.model[in.train,]\n",
    "df.data.rest <- df.gdp.model[-in.train,]\n",
    "in.val <- createDataPartition(y = df.data.rest$GDP, p = 0.50, list = FALSE)\n",
    "df.val <- df.data.rest[in.val,]\n",
    "df.test <- df.data.rest[-in.val,]\n",
    "rm(df.data.rest)\n",
    "\n",
    "# Perform the linear fit\n",
    "list.fit.reg <- train(\n",
    "  GDP ~ INDPRO + PCE + RSALESAGG + ALTSALES + MSPUS.times.HOUST,\n",
    "  data = df.train,\n",
    "  method = \"lm\",\n",
    "  preProcess = c('center', 'scale')\n",
    ")\n",
    "\n",
    "\n",
    "# Perform the pca fit\n",
    "list.fit.pcr <- train(\n",
    "  GDP ~ INDPRO + PCE + RSALESAGG + ALTSALES,\n",
    "  data = df.train,\n",
    "  method = \"pcr\",\n",
    "  preProcess = c('center', 'scale')\n",
    ")\n"
   ]
  },
  {
   "cell_type": "markdown",
   "metadata": {},
   "source": [
    "This section adds the linear prediction to the data frame"
   ]
  },
  {
   "cell_type": "code",
   "execution_count": null,
   "metadata": {},
   "outputs": [],
   "source": [
    "# Add linear prediction to the dataframe\n",
    "str.symbol <- \"GDP.lm\"\n",
    "df.data[str.symbol] <-\n",
    "  predict(list.fit.reg, newdata = df.data)\n",
    "\n",
    "# Add the linear model prediction to the symbols table\n",
    "str.description <- \"Linear Model Prediction\\nGDP given INDPRO,\\nPCE, RSALESAGG, auto sales,\\nand housing\"\n",
    "df.symbols <-\n",
    "  rbind(\n",
    "    df.symbols,\n",
    "    data.frame(\n",
    "      string.symbol = str.symbol,\n",
    "      string.source = \"Predict\",\n",
    "      string.description = str.description,\n",
    "      string.label.y = getPlotYLabel(df.symbols, \"POPTHM\")[1],\n",
    "      float.expense.ratio = -1.00,\n",
    "      Max030 = FALSE,\n",
    "      Max180 = FALSE,\n",
    "      date.series.start = dt.start.prediction,\n",
    "      date.series.end = as.Date(Sys.Date())\n",
    "    )\n",
    "  )\n"
   ]
  },
  {
   "cell_type": "markdown",
   "metadata": {},
   "source": [
    "Add the linear prediction year-over-year growth"
   ]
  },
  {
   "cell_type": "code",
   "execution_count": null,
   "metadata": {},
   "outputs": [],
   "source": [
    "#The YoY calculation\n",
    "str.symbolYoY <- paste(str.symbol, \"_YoY\", sep = \"\")\n",
    "df.data[str.symbolYoY] <- CalcYoY(df.data, str.symbol, 365)\n",
    "\n",
    "df.symbols <-\n",
    "  rbind(\n",
    "    df.symbols,\n",
    "    data.frame(\n",
    "      string.symbol = str.symbolYoY,\n",
    "      string.source = \"Calc\",\n",
    "      string.description = paste(str.description, \"\\nYear over Year\", sep =\n",
    "                                   \"\"),\n",
    "      string.label.y = \"Percent\",\n",
    "      float.expense.ratio = -1.00,\n",
    "      Max030 = FALSE,\n",
    "      Max180 = FALSE,\n",
    "      date.series.start = dt.start.prediction,\n",
    "      date.series.end = as.Date(Sys.Date())\n",
    "    )\n",
    "  )"
   ]
  },
  {
   "cell_type": "markdown",
   "metadata": {},
   "source": [
    "Add linear prediction by PCA to the dataframe"
   ]
  },
  {
   "cell_type": "code",
   "execution_count": null,
   "metadata": {},
   "outputs": [],
   "source": [
    "str.symbol.pcr <- \"GDP.pcr\"\n",
    "df.data[str.symbol.pcr] <-\n",
    "  predict(list.fit.pcr, newdata = df.data)\n",
    "\n",
    "# Add the linear model prediction to the symbols table\n",
    "str.description.pcr <- \"PCA regression\\nGDP given INDPRO,\\nPCE, and RSALESAGG, and auto sales\"  \n",
    "df.symbols <-\n",
    "  rbind(\n",
    "    df.symbols,\n",
    "    data.frame(\n",
    "      string.symbol = str.symbol.pcr,\n",
    "      string.source = \"Predict\",\n",
    "      string.description = str.description.pcr,\n",
    "      string.label.y = getPlotYLabel(df.symbols, \"POPTHM\")[1],\n",
    "      float.expense.ratio = -1.00,\n",
    "      Max030 = FALSE,\n",
    "      Max180 = FALSE,\n",
    "      date.series.start = dt.start.prediction,\n",
    "      date.series.end = as.Date(Sys.Date())\n",
    "    )\n",
    "  )"
   ]
  },
  {
   "cell_type": "markdown",
   "metadata": {},
   "source": [
    "Add the PCA prediction year-over-year growth"
   ]
  },
  {
   "cell_type": "code",
   "execution_count": null,
   "metadata": {},
   "outputs": [],
   "source": [
    "#The YoY calculation\n",
    "str.symbolYoY <- paste(str.symbol.pcr, \"_YoY\", sep = \"\")\n",
    "df.data[str.symbolYoY] <- CalcYoY(df.data, str.symbol.pcr, 365)\n",
    "\n",
    "df.symbols <-\n",
    "  rbind(\n",
    "    df.symbols,\n",
    "    data.frame(\n",
    "      string.symbol = str.symbolYoY,\n",
    "      string.source = \"Calc\",\n",
    "      string.description = paste(str.description.pcr, \"\\nYear over Year\", sep =\n",
    "                                   \"\"),\n",
    "      string.label.y = \"Percent\",\n",
    "      float.expense.ratio = -1.00,\n",
    "      Max030 = FALSE,\n",
    "      Max180 = FALSE,\n",
    "      date.series.start = dt.start.prediction,\n",
    "      date.series.end = as.Date(Sys.Date())\n",
    "    )\n",
    "  )"
   ]
  },
  {
   "cell_type": "markdown",
   "metadata": {},
   "source": [
    "Plot the predicted and actual values"
   ]
  },
  {
   "cell_type": "code",
   "execution_count": null,
   "metadata": {},
   "outputs": [],
   "source": [
    "options(repr.plot.width = 9.7, repr.plot.height = 6, repr.plot.res = 600)\n",
    "datay <- \"GDP.lm\"\n",
    "datay.aux <- \"GDP.pcr\"\n",
    "datay.aux.1 <- \"GDP\"\n",
    "ylim <- c(0, 25000)\n",
    "dt.end <- Sys.Date()\n",
    "myPlot <- \n",
    "  plotSingle(\n",
    "    dfRecession,\n",
    "    df.data,\n",
    "    \"date\",\n",
    "    datay,\n",
    "    \"GDP Compared to GDP predicted using linear model\",\n",
    "    \"Date\",\n",
    "    getPlotYLabel(df.symbols, datay),\n",
    "    c(dt.start.prediction, dt.end),\n",
    "    ylim,\n",
    "    b.legend = TRUE,\n",
    "    b.percentile = FALSE,\n",
    "    b.long.legend = TRUE\n",
    "  )\n",
    "myPlot <- myPlot + geom_line(\n",
    "  data = df.data,\n",
    "  aes_string(\n",
    "    x = \"date\",\n",
    "    y = datay.aux,\n",
    "    colour = shQuote(getPlotTitle(df.symbols, datay.aux))\n",
    "  ),\n",
    "  na.rm = TRUE\n",
    ")\n",
    "myPlot <- myPlot + geom_line(\n",
    "  data = df.data,\n",
    "  aes_string(\n",
    "    x = \"date\",\n",
    "    y = datay.aux.1,\n",
    "    colour = shQuote(getPlotTitle(df.symbols, datay.aux.1))\n",
    "  ),\n",
    "  na.rm = TRUE\n",
    ")\n",
    "\n",
    "print(myPlot)"
   ]
  },
  {
   "cell_type": "markdown",
   "metadata": {},
   "source": [
    "Looking at some more recent data points"
   ]
  },
  {
   "cell_type": "code",
   "execution_count": null,
   "metadata": {},
   "outputs": [],
   "source": [
    "options(repr.plot.width = 7, repr.plot.height = 3.5, repr.plot.res = 600)\n",
    "datay <- \"GDP.lm\"\n",
    "datay.aux <- \"GDP.pcr\"\n",
    "datay.aux.1 <- \"GDP\"\n",
    "ylim <- c(10000, 25000)\n",
    "dt.end <- Sys.Date()\n",
    "dt.start <- as.Date(\"2015-01-01\")\n",
    "myPlot <-\n",
    "  plotSingle(\n",
    "    dfRecession,\n",
    "    df.data,\n",
    "    \"date\",\n",
    "    datay,\n",
    "    \"GDP Compared to GDP predicted using linear model\",\n",
    "    \"Date\",\n",
    "    getPlotYLabel(df.symbols, datay),\n",
    "    c(dt.start, dt.end),\n",
    "    ylim,\n",
    "    b.legend = TRUE,\n",
    "    b.percentile = FALSE,\n",
    "    b.long.legend = TRUE\n",
    "  )\n",
    "myPlot <- myPlot + geom_line(\n",
    "  data = df.data,\n",
    "  aes_string(\n",
    "    x = \"date\",\n",
    "    y = datay.aux,\n",
    "    colour = shQuote(getPlotTitle(df.symbols, datay.aux))\n",
    "  ),\n",
    "  na.rm = TRUE\n",
    ")\n",
    "myPlot <- myPlot + geom_line(\n",
    "  data = df.data,\n",
    "  aes_string(\n",
    "    x = \"date\",\n",
    "    y = datay.aux.1,\n",
    "    colour = shQuote(getPlotTitle(df.symbols, datay.aux.1))\n",
    "  ),\n",
    "  na.rm = TRUE\n",
    ")\n",
    "\n",
    "print(myPlot)"
   ]
  },
  {
   "cell_type": "code",
   "execution_count": null,
   "metadata": {},
   "outputs": [],
   "source": [
    "df.data$GDPNOW <- df.data$GDPNOW/4 "
   ]
  },
  {
   "cell_type": "code",
   "execution_count": null,
   "metadata": {},
   "outputs": [],
   "source": [
    "datay <- \"GDP_YoY\"\n",
    "datay.aux <- \"GDP.lm_YoY\"\n",
    "datay.aux.2 <- \"GDP.pcr_YoY\"\n",
    "datay.aux.1 <- \"GDPNOW\"\n",
    "ylim <- c(-50, 50)\n",
    "dt.end <- Sys.Date()\n",
    "dt.start <- as.Date(\"2015-01-01\")\n",
    "myPlot <-\n",
    "  plotSingle(\n",
    "    dfRecession,\n",
    "    df.data,\n",
    "    \"date\",\n",
    "    datay,\n",
    "    \"GDP Compared to GDP predicted using linear model\",\n",
    "    \"Date\",\n",
    "    getPlotYLabel(df.symbols, datay),\n",
    "    c(dt.start, dt.end),\n",
    "    ylim,\n",
    "    b.legend = TRUE,\n",
    "    b.percentile = FALSE,\n",
    "    b.long.legend = TRUE\n",
    "  )\n",
    "myPlot <- myPlot + geom_line(\n",
    "  data = df.data,\n",
    "  aes_string(\n",
    "    x = \"date\",\n",
    "    y = datay.aux,\n",
    "    colour = shQuote(getPlotTitle(df.symbols, datay.aux))\n",
    "  ),\n",
    "  na.rm = TRUE\n",
    ")\n",
    "myPlot <- myPlot + geom_line(\n",
    "  data = df.data,\n",
    "  aes_string(\n",
    "    x = \"date\",\n",
    "    y = datay.aux.1,\n",
    "    colour = shQuote(getPlotTitle(df.symbols, datay.aux.1))\n",
    "  ),\n",
    "  na.rm = TRUE\n",
    ")\n",
    "\n",
    "myPlot <- myPlot + geom_line(\n",
    "  data = df.data,\n",
    "  aes_string(\n",
    "    x = \"date\",\n",
    "    y = datay.aux.2,\n",
    "    colour = shQuote(getPlotTitle(df.symbols, datay.aux.2))\n",
    "  ),\n",
    "  na.rm = TRUE\n",
    ")\n",
    "\n",
    "print(myPlot)"
   ]
  },
  {
   "cell_type": "markdown",
   "metadata": {},
   "source": [
    "Look at how the GDP linear fit performed on the test data partition"
   ]
  },
  {
   "cell_type": "code",
   "execution_count": null,
   "metadata": {},
   "outputs": [],
   "source": [
    "d.test.resid = (df.test$GDP - predict(list.fit.reg, newdata = df.test))\n",
    "hist(d.test.resid, main=paste(\"Residual For\", str.symbol, sep=\" \"))\n",
    "sd.fit.gdp.m = sd(d.test.resid)"
   ]
  },
  {
   "cell_type": "code",
   "execution_count": null,
   "metadata": {},
   "outputs": [],
   "source": [
    "list.fit.reg$finalModel"
   ]
  },
  {
   "cell_type": "code",
   "execution_count": null,
   "metadata": {},
   "outputs": [],
   "source": [
    "d.test.resid = (df.test$GDP - predict(list.fit.pcr, newdata = df.test))\n",
    "hist(d.test.resid, main=paste(\"Residual For\", str.symbol.pcr, sep=\" \"))\n",
    "sd.fit.gdp.pcr = sd(d.test.resid)"
   ]
  },
  {
   "cell_type": "code",
   "execution_count": null,
   "metadata": {},
   "outputs": [],
   "source": [
    "summary(list.fit.pcr)"
   ]
  },
  {
   "cell_type": "markdown",
   "metadata": {},
   "source": [
    "Document the residual as well"
   ]
  },
  {
   "cell_type": "code",
   "execution_count": null,
   "metadata": {},
   "outputs": [],
   "source": [
    "str.symbol.res <- \"GDP.lm.res\"\n",
    "df.data[str.symbol.res] <- df.data$GDP - df.data[str.symbol]\n",
    "\n",
    "# Add the GDP linear model prediction residual to the symbols table\n",
    "df.symbols <-\n",
    "  rbind(\n",
    "    df.symbols,\n",
    "    data.frame(\n",
    "      string.symbol = str.symbol.res,\n",
    "      string.source = \"Predict Resid.\",\n",
    "      string.description = \"Residual for \\nGDP given INDPRO,PCE, RSALESAGG,\\nauto sales, and home sales\",\n",
    "      string.label.y = df.symbols[df.symbols$string.symbol==str.symbol,\"string.label.y\"],\n",
    "      float.expense.ratio = -1.00,\n",
    "      Max030 = FALSE,\n",
    "      Max180 = FALSE,\n",
    "      date.series.start = dt.start.prediction,\n",
    "      date.series.end = as.Date(Sys.Date())\n",
    "    )\n",
    "  )\n"
   ]
  },
  {
   "cell_type": "markdown",
   "metadata": {},
   "source": [
    "Document the PCR residual"
   ]
  },
  {
   "cell_type": "code",
   "execution_count": null,
   "metadata": {},
   "outputs": [],
   "source": [
    "str.symbol.pcr.res <- \"GDP.pcr.res\"\n",
    "df.data[str.symbol.pcr.res] <- df.data$GDP - df.data[str.symbol.pcr]\n",
    "\n",
    "# Add the GDP linear model prediction residual to the symbols table\n",
    "df.symbols <-\n",
    "  rbind(\n",
    "    df.symbols,\n",
    "    data.frame(\n",
    "      string.symbol = str.symbol.pcr.res,\n",
    "      string.source = \"Predict Resid.\",\n",
    "      string.description = \"PCR Residual for \\nGDP given INDPRO,\\nPCE, and RSALESAGG\",\n",
    "      string.label.y = df.symbols[df.symbols$string.symbol==str.symbol,\"string.label.y\"],\n",
    "      float.expense.ratio = -1.00,\n",
    "      Max030 = FALSE,\n",
    "      Max180 = FALSE,\n",
    "      date.series.start = dt.start.prediction,\n",
    "      date.series.end = as.Date(Sys.Date())\n",
    "    )\n",
    "  )\n"
   ]
  },
  {
   "cell_type": "markdown",
   "metadata": {},
   "source": [
    "Plot the residual  GDP to the linear fit prediction. \n",
    "\n",
    "The residuals decrease quite a bit during the Covid numbers, at least as of Jun 2020. Probably indicates uncertainty in the numbers."
   ]
  },
  {
   "cell_type": "code",
   "execution_count": null,
   "metadata": {},
   "outputs": [],
   "source": [
    "datay <- str.symbol.res\n",
    "ylim <- c(-2000, 2000)\n",
    "myPlot <- plotSingle(\n",
    "  dfRecession,\n",
    "  df.data,\n",
    "  \"date\",\n",
    "  datay,\n",
    "  getPlotTitle(df.symbols, datay),\n",
    "  \"Date\",\n",
    "  getPlotYLabel(df.symbols, datay),\n",
    "  c(as.Date(\"1jan1967\", \"%d%b%Y\"), Sys.Date()),\n",
    "  ylim,\n",
    "  b.legend = TRUE,\n",
    "  b.percentile = TRUE,\n",
    "  b.long.legend = FALSE\n",
    ")\n",
    "\n",
    "myPlot <- myPlot + geom_hline(yintercept=(6*sd.fit.gdp.m), color = \"red\", linetype=\"dashed\")\n",
    "myPlot <- myPlot + geom_hline(yintercept=(-6*sd.fit.gdp.m), color = \"red\", linetype=\"dashed\")\n",
    "\n",
    "print(myPlot)"
   ]
  },
  {
   "cell_type": "markdown",
   "metadata": {},
   "source": [
    "Plot the residual GDP to the PCR fit prediction. \n",
    "\n",
    "The residuals decrease quite a bit during the Covid numbers, at least as of Jun 2020. Probably indicates uncertainty in the numbers."
   ]
  },
  {
   "cell_type": "code",
   "execution_count": null,
   "metadata": {},
   "outputs": [],
   "source": [
    "datay <- str.symbol.pcr.res\n",
    "ylim <- c(-2000, 2000)\n",
    "myPlot <- plotSingle(\n",
    "  dfRecession,\n",
    "  df.data,\n",
    "  \"date\",\n",
    "  datay,\n",
    "  getPlotTitle(df.symbols, datay),\n",
    "  \"Date\",\n",
    "  getPlotYLabel(df.symbols, datay),\n",
    "  c(as.Date(\"1jan1967\", \"%d%b%Y\"), Sys.Date()),\n",
    "  ylim,\n",
    "  b.legend = TRUE,\n",
    "  b.percentile = TRUE,\n",
    "  b.long.legend = FALSE\n",
    ")\n",
    "\n",
    "myPlot <- myPlot + geom_hline(yintercept=(6*sd.fit.gdp.pcr), color = \"red\", linetype=\"dashed\")\n",
    "myPlot <- myPlot + geom_hline(yintercept=(-6*sd.fit.gdp.pcr), color = \"red\", linetype=\"dashed\")\n",
    "\n",
    "print(myPlot)\n"
   ]
  },
  {
   "cell_type": "markdown",
   "metadata": {},
   "source": [
    "### Regression, Advanced Retail sales\n",
    "\n",
    "See if we can get there with a simple regression model. Begin by taking a look at how these datapoints correlate with advanced retail sales"
   ]
  },
  {
   "cell_type": "code",
   "execution_count": null,
   "metadata": {},
   "outputs": [],
   "source": [
    "# Correlation for the entire data set\n",
    "training.cor <-\n",
    "  df.data[, c(\"GDP\", \"INDPRO\", \"PCE\", \"RSAFS\", \"ALTSALES\", \"MSPUS.times.HOUST\")]\n",
    "\n",
    "  rcorr.data <- rcorr(as.matrix(training.cor), type = \"pearson\")\n",
    "  #print(rcorr.data)\n",
    "\n",
    "  corrplot::corrplot(cor(training.cor), type=\"upper\", order=\"original\", \n",
    "           tl.col=\"black\", tl.srt=45, title =\"GDP Data\")"
   ]
  },
  {
   "cell_type": "code",
   "execution_count": null,
   "metadata": {},
   "outputs": [],
   "source": [
    "\n",
    "df.gdp.model <-\n",
    "  df.data[df.data$date >= dt.start.prediction &\n",
    "            df.data$date <= dt.end.prediction,]\n",
    "\n",
    "# I break the data into three sets: 50% for training, 25% for testing, and 25% for validation.\n",
    "set.seed(123456)\n",
    "in.train <- createDataPartition(y=df.gdp.model$GDP, p = 0.50, list=FALSE)\n",
    "df.train <- df.gdp.model[in.train,]\n",
    "df.data.rest <- df.gdp.model[-in.train,]\n",
    "in.val <- createDataPartition(y = df.data.rest$GDP, p = 0.50, list = FALSE)\n",
    "df.val <- df.data.rest[in.val,]\n",
    "df.test <- df.data.rest[-in.val,]\n",
    "rm(df.data.rest)\n",
    "\n",
    "# Perform the linear fit\n",
    "list.fit.reg.adv <- train(\n",
    "  GDP ~ INDPRO + PCE + RSAFS + ALTSALES + MSPUS.times.HOUST,\n",
    "  data = df.train,\n",
    "  method = \"lm\",\n",
    "  preProcess = c('center', 'scale')\n",
    ")\n"
   ]
  },
  {
   "cell_type": "code",
   "execution_count": null,
   "metadata": {},
   "outputs": [],
   "source": [
    "# Add linear prediction to the dataframe\n",
    "str.symbol <- \"GDP.lm.adv\"\n",
    "df.data[str.symbol] <-\n",
    "  predict(list.fit.reg.adv, newdata = df.data)\n",
    "\n",
    "# Add the linear model prediction to the symbols table\n",
    "df.symbols <-\n",
    "  rbind(\n",
    "    df.symbols,\n",
    "    data.frame(\n",
    "      string.symbol = str.symbol,\n",
    "      string.source = \"Predict\",\n",
    "      string.description = \"Linear Model Prediction\\nGDP given INDPRO,\\nPCE, RSAFS, auto sales,\\nand housing\",\n",
    "      string.label.y = getPlotYLabel(df.symbols, \"POPTHM\")[1],\n",
    "      float.expense.ratio = -1.00,\n",
    "      Max030 = FALSE,\n",
    "      Max180 = FALSE,\n",
    "      date.series.start = dt.start.prediction,\n",
    "      date.series.end = as.Date(Sys.Date())\n",
    "    )\n",
    "  )"
   ]
  },
  {
   "cell_type": "code",
   "execution_count": null,
   "metadata": {},
   "outputs": [],
   "source": [
    "\n",
    "datay <- \"GDP.lm.adv\"\n",
    "datay.aux <- \"GDP\"\n",
    "ylim <- c(0, 25000)\n",
    "dt.end <- Sys.Date()\n",
    "myPlot <- \n",
    "  plotSingle(\n",
    "    dfRecession,\n",
    "    df.data,\n",
    "    \"date\",\n",
    "    datay,\n",
    "    \"GDP Compared to GDP predicted using linear model\",\n",
    "    \"Date\",\n",
    "    getPlotYLabel(df.symbols, datay),\n",
    "    c(dt.start.prediction, dt.end),\n",
    "    ylim,\n",
    "    b.legend = TRUE,\n",
    "    b.percentile = FALSE,\n",
    "    b.long.legend = TRUE\n",
    "  )\n",
    "myPlot <- myPlot + geom_line(\n",
    "  data = df.data,\n",
    "  aes_string(\n",
    "    x = \"date\",\n",
    "    y = datay.aux,\n",
    "    colour = shQuote(getPlotTitle(df.symbols, datay.aux))\n",
    "  ),\n",
    "  na.rm = TRUE\n",
    ")\n",
    "\n",
    "print(myPlot)"
   ]
  },
  {
   "cell_type": "markdown",
   "metadata": {},
   "source": [
    "Looking at some more recent data points"
   ]
  },
  {
   "cell_type": "code",
   "execution_count": null,
   "metadata": {},
   "outputs": [],
   "source": [
    "datay <- \"GDP.lm.adv\"\n",
    "datay.aux <- \"GDP\"\n",
    "ylim <- c(10000, 25000)\n",
    "dt.end <- Sys.Date()\n",
    "dt.start <- as.Date(\"2018-01-01\")\n",
    "myPlot <-\n",
    "  plotSingle(\n",
    "    dfRecession,\n",
    "    df.data,\n",
    "    \"date\",\n",
    "    datay,\n",
    "    \"GDP Compared to GDP predicted using linear model\",\n",
    "    \"Date\",\n",
    "    getPlotYLabel(df.symbols, datay),\n",
    "    c(dt.start, dt.end),\n",
    "    ylim,\n",
    "    b.legend = TRUE,\n",
    "    b.percentile = FALSE,\n",
    "    b.long.legend = TRUE\n",
    "  )\n",
    "myPlot <- myPlot + geom_line(\n",
    "  data = df.data,\n",
    "  aes_string(\n",
    "    x = \"date\",\n",
    "    y = datay.aux,\n",
    "    colour = shQuote(getPlotTitle(df.symbols, datay.aux))\n",
    "  ),\n",
    "  na.rm = TRUE\n",
    ")\n",
    "\n",
    "print(myPlot)"
   ]
  },
  {
   "cell_type": "markdown",
   "metadata": {},
   "source": [
    "Look at how the GDP linear fit performed on the test data partition"
   ]
  },
  {
   "cell_type": "code",
   "execution_count": null,
   "metadata": {},
   "outputs": [],
   "source": [
    "d.test.resid.adv = (df.test$GDP - predict(list.fit.reg.adv, newdata = df.test))\n",
    "hist(d.test.resid, main=paste(\"Residual For\", str.symbol, sep=\" \"))\n",
    "sd.fit.gdp.lm.adv = sd(d.test.resid)\n"
   ]
  },
  {
   "cell_type": "code",
   "execution_count": null,
   "metadata": {},
   "outputs": [],
   "source": [
    "list.fit.reg.adv$finalModel"
   ]
  },
  {
   "cell_type": "markdown",
   "metadata": {},
   "source": [
    "Document the residual as well"
   ]
  },
  {
   "cell_type": "code",
   "execution_count": null,
   "metadata": {},
   "outputs": [],
   "source": [
    "str.symbol.res <- \"GDP.lm.adv.res\"\n",
    "df.data[str.symbol.res] <- df.data$GDP - df.data[str.symbol]\n",
    "\n",
    "# Add the GDP linear model prediction residual to the symbols table\n",
    "df.symbols <-\n",
    "  rbind(\n",
    "    df.symbols,\n",
    "    data.frame(\n",
    "      string.symbol = str.symbol.res,\n",
    "      string.source = \"Predict Resid.\",\n",
    "      string.description = \"Residual for \\nGDP given INDPRO,\\nPCE, and RSALESAGG\",\n",
    "      string.label.y = df.symbols[df.symbols$string.symbol==str.symbol,\"string.label.y\"],\n",
    "      float.expense.ratio = -1.00,\n",
    "      Max030 = FALSE,\n",
    "      Max180 = FALSE,\n",
    "      date.series.start = dt.start.prediction,\n",
    "      date.series.end = as.Date(Sys.Date())\n",
    "    )\n",
    "  )\n"
   ]
  },
  {
   "cell_type": "markdown",
   "metadata": {},
   "source": [
    "Plot the residual  GDP to the linear fit prediction. \n",
    "\n",
    "The residuals decrease quite a bit during the Covid numbers, at least as of Jun 2020. Probably indicates uncertainty in the numbers."
   ]
  },
  {
   "cell_type": "code",
   "execution_count": null,
   "metadata": {},
   "outputs": [],
   "source": [
    "datay <- str.symbol.res\n",
    "ylim <- c(-2000, 2000)\n",
    "myPlot <- plotSingle(\n",
    "  dfRecession,\n",
    "  df.data,\n",
    "  \"date\",\n",
    "  datay,\n",
    "  getPlotTitle(df.symbols, datay),\n",
    "  \"Date\",\n",
    "  getPlotYLabel(df.symbols, datay),\n",
    "  c(as.Date(\"1jan1967\", \"%d%b%Y\"), Sys.Date()),\n",
    "  ylim,\n",
    "  b.legend = TRUE,\n",
    "  b.percentile = TRUE,\n",
    "  b.long.legend = FALSE\n",
    ")\n",
    "\n",
    "myPlot <- myPlot + geom_hline(yintercept=(6*sd.fit.gdp.lm.adv), color = \"red\", linetype=\"dashed\")\n",
    "myPlot <- myPlot + geom_hline(yintercept=(-6*sd.fit.gdp.lm.adv), color = \"red\", linetype=\"dashed\")\n",
    "\n",
    "print(myPlot)\n"
   ]
  },
  {
   "cell_type": "code",
   "execution_count": null,
   "metadata": {},
   "outputs": [],
   "source": []
  }
 ],
 "metadata": {
  "kernelspec": {
   "display_name": "R",
   "language": "R",
   "name": "ir"
  },
  "language_info": {
   "codemirror_mode": "r",
   "file_extension": ".r",
   "mimetype": "text/x-r-source",
   "name": "R",
   "pygments_lexer": "r",
   "version": "3.6.3"
  }
 },
 "nbformat": 4,
 "nbformat_minor": 2
}
