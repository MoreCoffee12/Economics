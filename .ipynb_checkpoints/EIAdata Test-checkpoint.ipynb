{
 "cells": [
  {
   "cell_type": "markdown",
   "id": "fdc9b366",
   "metadata": {},
   "source": [
    "# Introduction\n",
    "I had trouble downloading data with EIAdata. With a valid key it returned an error: <br>\n",
    "PETA103600001M <- getEIA(key=key, ID=str.symbol.raw )<br>\n",
    "failed to load HTTP resource<br>\n",
    "Error: 1: failed to load HTTP resource\n",
    "\n",
    "This notebook exists to troubleshoot the problem"
   ]
  },
  {
   "cell_type": "markdown",
   "id": "81ca1785",
   "metadata": {},
   "source": [
    "## Production library\n"
   ]
  },
  {
   "cell_type": "code",
   "execution_count": 1,
   "id": "92ec7544",
   "metadata": {},
   "outputs": [
    {
     "name": "stderr",
     "output_type": "stream",
     "text": [
      "Loading required package: XML\n",
      "\n",
      "Loading required package: xts\n",
      "\n",
      "Loading required package: zoo\n",
      "\n",
      "\n",
      "Attaching package: 'zoo'\n",
      "\n",
      "\n",
      "The following objects are masked from 'package:base':\n",
      "\n",
      "    as.Date, as.Date.numeric\n",
      "\n",
      "\n",
      "Loading required package: httr\n",
      "\n"
     ]
    }
   ],
   "source": [
    "library(EIAdata)\n",
    "require(httr)"
   ]
  },
  {
   "cell_type": "markdown",
   "id": "610b839b",
   "metadata": {},
   "source": [
    "## Recommended implementation"
   ]
  },
  {
   "cell_type": "code",
   "execution_count": 2,
   "id": "3a638245",
   "metadata": {},
   "outputs": [
    {
     "name": "stdout",
     "output_type": "stream",
     "text": [
      "failed to load HTTP resource\n"
     ]
    },
    {
     "ename": "ERROR",
     "evalue": "Error: 1: failed to load HTTP resource\n\n",
     "output_type": "error",
     "traceback": [
      "Error: 1: failed to load HTTP resource\n\nTraceback:\n",
      "1. getEIA(key = key, ID = str.symbol.raw)",
      "2. .getMonEIA(ID, key = key)",
      "3. xmlParse(file = url, isURL = TRUE)",
      "4. (function (msg, ...) \n . {\n .     if (length(grep(\"\\\\\\n$\", msg)) == 0) \n .         paste(msg, \"\\n\", sep = \"\")\n .     if (immediate) \n .         cat(msg)\n .     if (length(msg) == 0) {\n .         e = simpleError(paste(1:length(messages), messages, sep = \": \", \n .             collapse = \"\"))\n .         class(e) = c(class, class(e))\n .         stop(e)\n .     }\n .     messages <<- c(messages, msg)\n . })(character(0))"
     ]
    }
   ],
   "source": [
    "str.symbol.raw = \"PET.A103600001.M\"\n",
    "key <- \"7a2672468131c5a95dffc487d741edf6\"\n",
    "ETA103600001M <- getEIA(key=key, ID=str.symbol.raw )"
   ]
  },
  {
   "cell_type": "markdown",
   "id": "43680362",
   "metadata": {},
   "source": [
    "## Work around"
   ]
  },
  {
   "cell_type": "markdown",
   "id": "e55989b9",
   "metadata": {},
   "source": [
    "### Set user agent"
   ]
  },
  {
   "cell_type": "code",
   "execution_count": 3,
   "id": "2ef0e3a8",
   "metadata": {},
   "outputs": [],
   "source": [
    "UA <- \"Mozilla/5.0 (Windows NT 6.1; WOW64) AppleWebKit/537.36 (KHTML, like Gecko) Chrome/41.0.2227.0 Safari/537.36\""
   ]
  },
  {
   "cell_type": "markdown",
   "id": "b9606c56",
   "metadata": {},
   "source": [
    "### Set the URL manually \n",
    "This works in my Chrome browser"
   ]
  },
  {
   "cell_type": "code",
   "execution_count": 10,
   "id": "0a19939c",
   "metadata": {},
   "outputs": [],
   "source": [
    "my.url <- \"https://api.eia.gov/series/?series_id=PET.A103600001.M&api_key=7a2672468131c5a95dffc487d741edf6&out=xml\""
   ]
  },
  {
   "cell_type": "code",
   "execution_count": 11,
   "id": "63169c8a",
   "metadata": {},
   "outputs": [],
   "source": [
    "page <- GET(my.url, user_agent(UA))"
   ]
  },
  {
   "cell_type": "markdown",
   "id": "851360aa",
   "metadata": {},
   "source": [
    "Parse the data"
   ]
  },
  {
   "cell_type": "code",
   "execution_count": 12,
   "id": "c5c58db0",
   "metadata": {},
   "outputs": [],
   "source": [
    "doc <- XML::xmlParse(content(page, \"text\"))"
   ]
  },
  {
   "cell_type": "code",
   "execution_count": 13,
   "id": "a8493401",
   "metadata": {},
   "outputs": [],
   "source": [
    "df <- data.frame(\n",
    "    date = sapply(doc[\"//data/row/date\"], XML::xmlValue),\n",
    "    value = sapply(doc[\"//data/row/value\"], XML::xmlValue)\n",
    "  )"
   ]
  },
  {
   "cell_type": "code",
   "execution_count": 15,
   "id": "0d88a199",
   "metadata": {},
   "outputs": [
    {
     "data": {
      "text/html": [
       "<table class=\"dataframe\">\n",
       "<caption>A data.frame: 6 × 2</caption>\n",
       "<thead>\n",
       "\t<tr><th></th><th scope=col>date</th><th scope=col>value</th></tr>\n",
       "\t<tr><th></th><th scope=col>&lt;chr&gt;</th><th scope=col>&lt;chr&gt;</th></tr>\n",
       "</thead>\n",
       "<tbody>\n",
       "\t<tr><th scope=row>462</th><td>198306</td><td>52517.2</td></tr>\n",
       "\t<tr><th scope=row>463</th><td>198305</td><td>52021.3</td></tr>\n",
       "\t<tr><th scope=row>464</th><td>198304</td><td>49093.7</td></tr>\n",
       "\t<tr><th scope=row>465</th><td>198303</td><td>54111.7</td></tr>\n",
       "\t<tr><th scope=row>466</th><td>198302</td><td>48906.1</td></tr>\n",
       "\t<tr><th scope=row>467</th><td>198301</td><td>46218.3</td></tr>\n",
       "</tbody>\n",
       "</table>\n"
      ],
      "text/latex": [
       "A data.frame: 6 × 2\n",
       "\\begin{tabular}{r|ll}\n",
       "  & date & value\\\\\n",
       "  & <chr> & <chr>\\\\\n",
       "\\hline\n",
       "\t462 & 198306 & 52517.2\\\\\n",
       "\t463 & 198305 & 52021.3\\\\\n",
       "\t464 & 198304 & 49093.7\\\\\n",
       "\t465 & 198303 & 54111.7\\\\\n",
       "\t466 & 198302 & 48906.1\\\\\n",
       "\t467 & 198301 & 46218.3\\\\\n",
       "\\end{tabular}\n"
      ],
      "text/markdown": [
       "\n",
       "A data.frame: 6 × 2\n",
       "\n",
       "| <!--/--> | date &lt;chr&gt; | value &lt;chr&gt; |\n",
       "|---|---|---|\n",
       "| 462 | 198306 | 52517.2 |\n",
       "| 463 | 198305 | 52021.3 |\n",
       "| 464 | 198304 | 49093.7 |\n",
       "| 465 | 198303 | 54111.7 |\n",
       "| 466 | 198302 | 48906.1 |\n",
       "| 467 | 198301 | 46218.3 |\n",
       "\n"
      ],
      "text/plain": [
       "    date   value  \n",
       "462 198306 52517.2\n",
       "463 198305 52021.3\n",
       "464 198304 49093.7\n",
       "465 198303 54111.7\n",
       "466 198302 48906.1\n",
       "467 198301 46218.3"
      ]
     },
     "metadata": {},
     "output_type": "display_data"
    }
   ],
   "source": [
    "tail(df)"
   ]
  },
  {
   "cell_type": "code",
   "execution_count": 14,
   "id": "84e42348",
   "metadata": {},
   "outputs": [
    {
     "data": {
      "image/png": "[encoded data removed]",
      "text/plain": [
       "plot without title"
      ]
     },
     "metadata": {
      "image/png": {
       "height": 420,
       "width": 420
      }
     },
     "output_type": "display_data"
    }
   ],
   "source": [
    "plot(df)"
   ]
  }
 ],
 "metadata": {
  "kernelspec": {
   "display_name": "R",
   "language": "R",
   "name": "ir"
  },
  "language_info": {
   "codemirror_mode": "r",
   "file_extension": ".r",
   "mimetype": "text/x-r-source",
   "name": "R",
   "pygments_lexer": "r",
   "version": "4.1.2"
  }
 },
 "nbformat": 4,
 "nbformat_minor": 5
}
