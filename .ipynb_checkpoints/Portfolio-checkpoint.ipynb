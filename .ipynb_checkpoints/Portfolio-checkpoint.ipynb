{
 "cells": [
  {
   "cell_type": "markdown",
   "metadata": {},
   "source": [
    "# Portfolio\n",
    "Brian Howard\n",
    "31 August 2020"
   ]
  },
  {
   "cell_type": "code",
   "execution_count": 1,
   "metadata": {},
   "outputs": [
    {
     "name": "stderr",
     "output_type": "stream",
     "text": [
      "Loading required package: MASS\n",
      "\n",
      "Loading required package: HistData\n",
      "\n",
      "Loading required package: Hmisc\n",
      "\n",
      "Loading required package: lattice\n",
      "\n",
      "Loading required package: survival\n",
      "\n",
      "Loading required package: Formula\n",
      "\n",
      "Loading required package: ggplot2\n",
      "\n",
      "\n",
      "Attaching package: 'Hmisc'\n",
      "\n",
      "\n",
      "The following objects are masked from 'package:base':\n",
      "\n",
      "    format.pval, units\n",
      "\n",
      "\n",
      "\n",
      "Attaching package: 'UsingR'\n",
      "\n",
      "\n",
      "The following object is masked from 'package:survival':\n",
      "\n",
      "    cancer\n",
      "\n",
      "\n",
      "Loading required package: xts\n",
      "\n",
      "Loading required package: zoo\n",
      "\n",
      "\n",
      "Attaching package: 'zoo'\n",
      "\n",
      "\n",
      "The following objects are masked from 'package:base':\n",
      "\n",
      "    as.Date, as.Date.numeric\n",
      "\n",
      "\n",
      "Loading required package: TTR\n",
      "\n",
      "Registered S3 method overwritten by 'quantmod':\n",
      "  method            from\n",
      "  as.zoo.data.frame zoo \n",
      "\n",
      "Version 0.4-0 included new data defaults. See ?getSymbols.\n",
      "\n",
      "\n",
      "Attaching package: 'quantmod'\n",
      "\n",
      "\n",
      "The following object is masked from 'package:Hmisc':\n",
      "\n",
      "    Lag\n",
      "\n",
      "\n",
      "\n",
      "Attaching package: 'signal'\n",
      "\n",
      "\n",
      "The following objects are masked from 'package:stats':\n",
      "\n",
      "    filter, poly\n",
      "\n",
      "\n",
      "corrplot 0.84 loaded\n",
      "\n",
      "\n",
      "Attaching package: 'caret'\n",
      "\n",
      "\n",
      "The following object is masked from 'package:survival':\n",
      "\n",
      "    cluster\n",
      "\n",
      "\n",
      "randomForest 4.6-14\n",
      "\n",
      "Type rfNews() to see new features/changes/bug fixes.\n",
      "\n",
      "\n",
      "Attaching package: 'randomForest'\n",
      "\n",
      "\n",
      "The following object is masked from 'package:gridExtra':\n",
      "\n",
      "    combine\n",
      "\n",
      "\n",
      "The following object is masked from 'package:ggplot2':\n",
      "\n",
      "    margin\n",
      "\n",
      "\n",
      "\n",
      "Attaching package: 'data.table'\n",
      "\n",
      "\n",
      "The following objects are masked from 'package:xts':\n",
      "\n",
      "    first, last\n",
      "\n",
      "\n"
     ]
    }
   ],
   "source": [
    "library(UsingR)\n",
    "library(quantmod)\n",
    "library(ggplot2)\n",
    "library(grid)\n",
    "library(gridExtra)\n",
    "library(knitr)\n",
    "library(kableExtra)\n",
    "library(tools)\n",
    "library(zoo)\n",
    "library(signal)\n",
    "library(stringr)\n",
    "library(corrplot)\n",
    "library(Hmisc)\n",
    "library(tseries)\n",
    "library(caret)\n",
    "library(rpart)\n",
    "library(rpart.plot)\n",
    "library(randomForest)\n",
    "library(Quandl)\n",
    "library(nnet)\n",
    "#library(devtools)\n",
    "#install_github(\"andrewuhl/RollingWindow\")\n",
    "library(RollingWindow)\n",
    "library(gtable)\n",
    "library(data.table)\n",
    "library(readxl)\n",
    "library(IRdisplay)"
   ]
  },
  {
   "cell_type": "markdown",
   "metadata": {},
   "source": [
    "Define the source of the data (local or web) and whether to update the models."
   ]
  },
  {
   "cell_type": "markdown",
   "metadata": {},
   "source": [
    "Call helper functions"
   ]
  },
  {
   "cell_type": "code",
   "execution_count": 2,
   "metadata": {},
   "outputs": [],
   "source": [
    "source(\"plotHelper.r\")"
   ]
  },
  {
   "cell_type": "markdown",
   "metadata": {},
   "source": [
    "These functions help organize tables in the document"
   ]
  },
  {
   "cell_type": "code",
   "execution_count": 3,
   "metadata": {},
   "outputs": [],
   "source": [
    "tblPort <- function(rrData, datay){\n",
    "  \n",
    "  df.port <- rrData[[1]][c(\"string.symbol\", \"string.description\", \"date.series.start\", \"float.expense.ratio\",\n",
    "                      datay, paste(datay, \"_Opt\", sep = \"\"))]\n",
    "  \n",
    "  string.colnames <- colnames(df.port);\n",
    "  string.colnames[1] <- \"Symbol\"\n",
    "  string.colnames[2] <- \"Description\"\n",
    "  string.colnames[3] <- \"Series Start\"\n",
    "  string.colnames[4] <- \"Expense Ratio (%)\"\n",
    "\n",
    "  kable(rrData[[1]][c(\"string.symbol\", \"string.description\", \"date.series.start\", \"float.expense.ratio\",\n",
    "                      datay, paste(datay, \"_Opt\", sep = \"\"))], digits=c(0,0,3,3,3,3)) %>%\n",
    "  kable_styling(bootstrap_options = c(\"striped\", \"hover\"))\n",
    "  \n",
    "}\n"
   ]
  },
  {
   "cell_type": "markdown",
   "metadata": {},
   "source": [
    "Define the source of the data (local or web) and whether to update the models."
   ]
  },
  {
   "cell_type": "code",
   "execution_count": 4,
   "metadata": {},
   "outputs": [],
   "source": [
    "b.refresh.models = FALSE"
   ]
  },
  {
   "cell_type": "markdown",
   "metadata": {},
   "source": [
    "Define the plotting ranges and vertical defaults"
   ]
  },
  {
   "cell_type": "code",
   "execution_count": 5,
   "metadata": {},
   "outputs": [],
   "source": [
    "dt.recent = as.Date(\"2017-01-01\")\n",
    "string.analysis.start <- \"2007-05-22\"\n",
    "iRetPd <- 180\n",
    "d.GSPC.max = 3500"
   ]
  },
  {
   "cell_type": "markdown",
   "metadata": {},
   "source": [
    "## Load the data and create the data frame\n",
    "Load up the off-line data"
   ]
  },
  {
   "cell_type": "code",
   "execution_count": 6,
   "metadata": {},
   "outputs": [],
   "source": [
    "load(\"C:/Users/Rainy/OneDrive/RecessionIndicator_Buffer.RData\")"
   ]
  },
  {
   "cell_type": "markdown",
   "metadata": {},
   "source": [
    "This snippet is needed because some of the ticker symbols include are invalid variable names so re-cast those variable names."
   ]
  },
  {
   "cell_type": "code",
   "execution_count": 7,
   "metadata": {},
   "outputs": [],
   "source": [
    "df.symbols$string.symbol <-\n",
    "  str_replace_all(df.symbols$string.symbol, \"[^[:alnum:]]\", \"\")"
   ]
  },
  {
   "cell_type": "markdown",
   "metadata": {},
   "source": [
    "Do the interpolation to daily samples and tidy the data"
   ]
  },
  {
   "cell_type": "code",
   "execution_count": 8,
   "metadata": {},
   "outputs": [],
   "source": [
    "source(\"calcInterpolate.r\")"
   ]
  },
  {
   "cell_type": "code",
   "execution_count": 9,
   "metadata": {},
   "outputs": [
    {
     "name": "stderr",
     "output_type": "stream",
     "text": [
      "Warning message in merge.xts(xtsData, get(df.symbols$string.symbol[idx])):\n",
      "\"NAs introduced by coercion\"\n"
     ]
    }
   ],
   "source": [
    "df.data <- calcInterpolate(df.data, df.symbols)"
   ]
  },
  {
   "cell_type": "markdown",
   "metadata": {},
   "source": [
    "Truncate the data. A very few data series do go back to 1854, but most don't even go past WWII so truncate the dataframe"
   ]
  },
  {
   "cell_type": "code",
   "execution_count": 10,
   "metadata": {},
   "outputs": [],
   "source": [
    "df.data <- df.data[as.Date(rownames(df.data)) > as.Date(\"1940-01-01\"),]"
   ]
  },
  {
   "cell_type": "markdown",
   "metadata": {},
   "source": [
    "Create aggreagate data series\n",
    "Some analysis requires that two or more series be combined. For example, normallizing debt by GDP to get a sense of the proportion of debt to the total economy helps understand the debt cycle."
   ]
  },
  {
   "cell_type": "markdown",
   "metadata": {},
   "source": [
    "## Normalize data\n",
    "Linearly interpolate the data, add normalized columns (this helps speed portfolio calcs)"
   ]
  },
  {
   "cell_type": "code",
   "execution_count": 11,
   "metadata": {},
   "outputs": [],
   "source": [
    "for (col_name in names(df.data))\n",
    "{\n",
    "    if (is.numeric(df.data[,col_name]))\n",
    "    {\n",
    "      # Normalize data\n",
    "      str.col.norm <- paste(col_name, \"_Norm\", sep=\"\") \n",
    "      d.den = df.data[as.Date(rownames(df.data)) == as.Date(string.analysis.start),col_name]\n",
    "        if (abs(d.den) > 0.00000001){\n",
    "            df.data[, str.col.norm] <- df.data[,col_name] / d.den\n",
    "        }else{\n",
    "            df.data[, str.col.norm] <- 1\n",
    "        }\n",
    "      \n",
    "        \n",
    "     # Descriptions must be associated with the root data series name. If the\n",
    "     # symbol table is empty and there is a \".\" in the name, look up the root\n",
    "     # symbol and use that.\n",
    "     str.symbol.root <- col_name\n",
    "       if (grepl(\"\\\\.\", col_name)) {\n",
    "         str.symbol.root <- substr(col_name, 1, regexpr(\"\\\\.\", col_name) - 1)\n",
    "       }\n",
    "        \n",
    "      # Add it to the symbols table\n",
    "      str.desc <- paste(df.symbols$string.description[df.symbols$string.symbol == str.symbol.root], \"\\nNormalized\", sep =\n",
    "                                       \"\")\n",
    "      df.symbols <-\n",
    "      rbind(\n",
    "        df.symbols,\n",
    "        data.frame(\n",
    "          string.symbol = str.col.norm,\n",
    "          string.source = \"Calc\",\n",
    "          string.description = str.desc,\n",
    "          string.label.y = \"-\",\n",
    "          float.expense.ratio = -1.00,\n",
    "          date.series.start = df.symbols$date.series.start[df.symbols$string.symbol == str.symbol.root],\n",
    "          date.series.end = df.symbols$date.series.end[df.symbols$string.symbol == str.symbol.root]\n",
    "        )\n",
    "      )\n",
    "    \n",
    "    }\n",
    "}"
   ]
  },
  {
   "cell_type": "code",
   "execution_count": 12,
   "metadata": {},
   "outputs": [],
   "source": [
    "source(\"calcAggregateSeries.r\")"
   ]
  },
  {
   "cell_type": "markdown",
   "metadata": {},
   "source": [
    "Calculate the year-over-year, 50 day moving average, and other features in the data"
   ]
  },
  {
   "cell_type": "code",
   "execution_count": 13,
   "metadata": {},
   "outputs": [],
   "source": [
    "source(\"calcFeatures.r\")"
   ]
  },
  {
   "cell_type": "code",
   "execution_count": 14,
   "metadata": {
    "scrolled": false
   },
   "outputs": [
    {
     "name": "stdout",
     "output_type": "stream",
     "text": [
      "[1] \"USREC has zero or negative values. Log series will be zero.\"\n",
      "[1] \"GSFTX.Volume has zero or negative values. Log series will be zero.\"\n",
      "[1] \"LFMIX.Volume has zero or negative values. Log series will be zero.\"\n",
      "[1] \"LFMCX.Volume has zero or negative values. Log series will be zero.\"\n",
      "[1] \"LFMAX.Volume has zero or negative values. Log series will be zero.\"\n",
      "[1] \"LCSIX.Volume has zero or negative values. Log series will be zero.\"\n",
      "[1] \"VBIRX.Volume has zero or negative values. Log series will be zero.\"\n",
      "[1] \"VFSUX.Volume has zero or negative values. Log series will be zero.\"\n",
      "[1] \"LTUIX.Volume has zero or negative values. Log series will be zero.\"\n",
      "[1] \"PTTPX.Volume has zero or negative values. Log series will be zero.\"\n",
      "[1] \"NERYX.Volume has zero or negative values. Log series will be zero.\"\n",
      "[1] \"STIGX.Volume has zero or negative values. Log series will be zero.\"\n",
      "[1] \"HLGAX.Volume has zero or negative values. Log series will be zero.\"\n",
      "[1] \"FTRGX.Volume has zero or negative values. Log series will be zero.\"\n",
      "[1] \"THIIX.Volume has zero or negative values. Log series will be zero.\"\n",
      "[1] \"PTTRX.Volume has zero or negative values. Log series will be zero.\"\n",
      "[1] \"BFIGX.Volume has zero or negative values. Log series will be zero.\"\n",
      "[1] \"EIFAX.Volume has zero or negative values. Log series will be zero.\"\n",
      "[1] \"ASDAX.Volume has zero or negative values. Log series will be zero.\"\n",
      "[1] \"TRBUX.Volume has zero or negative values. Log series will be zero.\"\n",
      "[1] \"PRWCX.Volume has zero or negative values. Log series will be zero.\"\n",
      "[1] \"ADOZX.Volume has zero or negative values. Log series will be zero.\"\n",
      "[1] \"MERFX.Volume has zero or negative values. Log series will be zero.\"\n",
      "[1] \"CMNIX.Volume has zero or negative values. Log series will be zero.\"\n",
      "[1] \"CIHEX.Volume has zero or negative values. Log series will be zero.\"\n",
      "[1] \"SRPSABSNNCB has zero or negative values. Log series will be zero.\"\n",
      "[1] \"TNX.Volume has zero or negative values. Log series will be zero.\"\n",
      "[1] \"CLF.Open has zero or negative values. Log series will be zero.\"\n",
      "[1] \"CLF.Low has zero or negative values. Log series will be zero.\"\n",
      "[1] \"CLF.Close has zero or negative values. Log series will be zero.\"\n",
      "[1] \"CLF.Volume has zero or negative values. Log series will be zero.\"\n",
      "[1] \"CLF.Adjusted has zero or negative values. Log series will be zero.\"\n",
      "[1] \"DTB3 has zero or negative values. Log series will be zero.\"\n",
      "[1] \"IRX.Open has zero or negative values. Log series will be zero.\"\n",
      "[1] \"IRX.High has zero or negative values. Log series will be zero.\"\n",
      "[1] \"IRX.Low has zero or negative values. Log series will be zero.\"\n",
      "[1] \"IRX.Close has zero or negative values. Log series will be zero.\"\n",
      "[1] \"IRX.Volume has zero or negative values. Log series will be zero.\"\n",
      "[1] \"IRX.Adjusted has zero or negative values. Log series will be zero.\"\n",
      "[1] \"DCOILWTICO has zero or negative values. Log series will be zero.\"\n",
      "[1] \"GSPC.Volume has zero or negative values. Log series will be zero.\"\n",
      "[1] \"RLG.Volume has zero or negative values. Log series will be zero.\"\n",
      "[1] \"STOXX50E.Volume has zero or negative values. Log series will be zero.\"\n",
      "[1] \"GDPNOW has zero or negative values. Log series will be zero.\"\n",
      "[1] \"VXX.Volume has zero or negative values. Log series will be zero.\"\n",
      "[1] \"FYFSD has zero or negative values. Log series will be zero.\"\n",
      "[1] \"FYFSGDA188S has zero or negative values. Log series will be zero.\"\n",
      "[1] \"GOLD.Open has zero or negative values. Log series will be zero.\"\n",
      "[1] \"GOLD.Volume has zero or negative values. Log series will be zero.\"\n",
      "[1] \"SOFR1 has zero or negative values. Log series will be zero.\"\n",
      "[1] \"RPONTSYD has zero or negative values. Log series will be zero.\"\n",
      "[1] \"EES.Volume has zero or negative values. Log series will be zero.\"\n",
      "[1] \"VGSTX.Volume has zero or negative values. Log series will be zero.\"\n",
      "[1] \"VFINX.Volume has zero or negative values. Log series will be zero.\"\n",
      "[1] \"TMFGX.Volume has zero or negative values. Log series will be zero.\"\n",
      "[1] \"HAINX.Volume has zero or negative values. Log series will be zero.\"\n",
      "[1] \"IVOO.Volume has zero or negative values. Log series will be zero.\"\n",
      "[1] \"VO.Volume has zero or negative values. Log series will be zero.\"\n",
      "[1] \"CZA.Volume has zero or negative values. Log series will be zero.\"\n",
      "[1] \"SLY.Volume has zero or negative values. Log series will be zero.\"\n",
      "[1] \"HYMB.Volume has zero or negative values. Log series will be zero.\"\n",
      "[1] \"BKR.Volume has zero or negative values. Log series will be zero.\"\n",
      "[1] \"HAL.Open has zero or negative values. Log series will be zero.\"\n",
      "[1] \"HAL.Volume has zero or negative values. Log series will be zero.\"\n",
      "[1] \"OPEARNINGSPERSHARE has zero or negative values. Log series will be zero.\"\n",
      "[1] \"AREARNINGSPERSHARE has zero or negative values. Log series will be zero.\"\n",
      "[1] \"OCCEquityVolume has zero or negative values. Log series will be zero.\"\n",
      "[1] \"OCCNonEquityVolume has zero or negative values. Log series will be zero.\"\n",
      "[1] \"SRPSABSNNCB_Norm has zero or negative values. Log series will be zero.\"\n",
      "[1] \"CLF.Open_Norm has zero or negative values. Log series will be zero.\"\n",
      "[1] \"CLF.Low_Norm has zero or negative values. Log series will be zero.\"\n",
      "[1] \"CLF.Close_Norm has zero or negative values. Log series will be zero.\"\n",
      "[1] \"CLF.Volume_Norm has zero or negative values. Log series will be zero.\"\n",
      "[1] \"CLF.Adjusted_Norm has zero or negative values. Log series will be zero.\"\n",
      "[1] \"DTB3_Norm has zero or negative values. Log series will be zero.\"\n",
      "[1] \"IRX.Open_Norm has zero or negative values. Log series will be zero.\"\n",
      "[1] \"IRX.High_Norm has zero or negative values. Log series will be zero.\"\n",
      "[1] \"IRX.Low_Norm has zero or negative values. Log series will be zero.\"\n",
      "[1] \"IRX.Close_Norm has zero or negative values. Log series will be zero.\"\n",
      "[1] \"IRX.Adjusted_Norm has zero or negative values. Log series will be zero.\"\n",
      "[1] \"DCOILWTICO_Norm has zero or negative values. Log series will be zero.\"\n",
      "[1] \"GSPC.Volume_Norm has zero or negative values. Log series will be zero.\"\n",
      "[1] \"GDPNOW_Norm has zero or negative values. Log series will be zero.\"\n",
      "[1] \"FYFSD_Norm has zero or negative values. Log series will be zero.\"\n",
      "[1] \"FYFSGDA188S_Norm has zero or negative values. Log series will be zero.\"\n",
      "[1] \"GOLD.Open_Norm has zero or negative values. Log series will be zero.\"\n",
      "[1] \"GOLD.Volume_Norm has zero or negative values. Log series will be zero.\"\n",
      "[1] \"SOFR1_Norm has zero or negative values. Log series will be zero.\"\n",
      "[1] \"RPONTSYD_Norm has zero or negative values. Log series will be zero.\"\n",
      "[1] \"EES.Volume_Norm has zero or negative values. Log series will be zero.\"\n",
      "[1] \"IVOO.Volume_Norm has zero or negative values. Log series will be zero.\"\n",
      "[1] \"VO.Volume_Norm has zero or negative values. Log series will be zero.\"\n",
      "[1] \"CZA.Volume_Norm has zero or negative values. Log series will be zero.\"\n",
      "[1] \"SLY.Volume_Norm has zero or negative values. Log series will be zero.\"\n",
      "[1] \"HYMB.Volume_Norm has zero or negative values. Log series will be zero.\"\n",
      "[1] \"BKR.Volume_Norm has zero or negative values. Log series will be zero.\"\n",
      "[1] \"HAL.Open_Norm has zero or negative values. Log series will be zero.\"\n",
      "[1] \"HAL.Volume_Norm has zero or negative values. Log series will be zero.\"\n",
      "[1] \"OPEARNINGSPERSHARE_Norm has zero or negative values. Log series will be zero.\"\n",
      "[1] \"AREARNINGSPERSHARE_Norm has zero or negative values. Log series will be zero.\"\n",
      "[1] \"OCCEquityVolume_Norm has zero or negative values. Log series will be zero.\"\n",
      "[1] \"OCCNonEquityVolume_Norm has zero or negative values. Log series will be zero.\"\n",
      "[1] \"BUSLOANS.minus.BUSLOANSNSA has zero or negative values. Log series will be zero.\"\n",
      "[1] \"BUSLOANS.minus.BUSLOANSNSA.by.GDP has zero or negative values. Log series will be zero.\"\n",
      "[1] \"EXPCH.minus.IMPCH has zero or negative values. Log series will be zero.\"\n",
      "[1] \"EXPMX.minus.IMPMX has zero or negative values. Log series will be zero.\"\n",
      "[1] \"SRPSABSNNCB.by.GDP has zero or negative values. Log series will be zero.\"\n",
      "[1] \"DGS30TO10 has zero or negative values. Log series will be zero.\"\n",
      "[1] \"DGS10TO1 has zero or negative values. Log series will be zero.\"\n",
      "[1] \"DGS10TO2 has zero or negative values. Log series will be zero.\"\n",
      "[1] \"DGS10TOTB3MS has zero or negative values. Log series will be zero.\"\n",
      "[1] \"DGS10TODTB3 has zero or negative values. Log series will be zero.\"\n",
      "[1] \"DCOILWTICO.by.PPIACO has zero or negative values. Log series will be zero.\"\n",
      "[1] \"GSPC.DailySwing has zero or negative values. Log series will be zero.\"\n"
     ]
    }
   ],
   "source": [
    "lst.df <- calcFeatures(df.data, df.symbols)\n",
    "df.data <- lst.df[[1]]\n",
    "df.symbols <- lst.df[[2]]"
   ]
  },
  {
   "cell_type": "markdown",
   "metadata": {},
   "source": [
    "These are auxilliary series that use the YoY and smoothed data."
   ]
  },
  {
   "cell_type": "code",
   "execution_count": 15,
   "metadata": {},
   "outputs": [],
   "source": [
    "source(\"calcFeaturesAggregate.r\")"
   ]
  },
  {
   "cell_type": "markdown",
   "metadata": {},
   "source": [
    "Build the recession data frame"
   ]
  },
  {
   "cell_type": "code",
   "execution_count": 16,
   "metadata": {},
   "outputs": [],
   "source": [
    "source(\"calcRecession.r\")"
   ]
  },
  {
   "cell_type": "markdown",
   "metadata": {},
   "source": [
    "Portfolio specific functions"
   ]
  },
  {
   "cell_type": "code",
   "execution_count": 17,
   "metadata": {},
   "outputs": [],
   "source": [
    "source(\"calcPort.r\")"
   ]
  },
  {
   "cell_type": "markdown",
   "metadata": {},
   "source": [
    "# Introduction\n",
    "This is a portfolio analysis, data pulled from yahoo. I’m trying to decide what a better mix would be for this old IRA account. These next few segments load the data into the R program."
   ]
  },
  {
   "cell_type": "markdown",
   "metadata": {},
   "source": [
    "## Define the symbols to be used in the analysis.\n",
    "\n",
    "This code defines stock ticker symbols that will be available for analysis. It includes descriptions and labels for the plots.\n",
    "\n",
    "The table uses the analysis start date as the series start date to instantiate the data frame. Once the data is pulled down into the zoo object the actual series start data will replace the analyis start."
   ]
  },
  {
   "cell_type": "markdown",
   "metadata": {},
   "source": [
    "## Truncate data\n",
    "\n",
    "A few last calculations to truncate and aggregrate the data"
   ]
  },
  {
   "cell_type": "code",
   "execution_count": 18,
   "metadata": {},
   "outputs": [],
   "source": [
    "df.data <- with(df.data, df.data[date>=string.analysis.start,])"
   ]
  },
  {
   "cell_type": "markdown",
   "metadata": {},
   "source": [
    "# Calculate the returns\n",
    "\n",
    "## Calculate the time based returns on annual basis\n",
    "\n",
    "In this analysis all the returns are calculated on an annual basis. It means there is a year of dead data, but it eliminates seasonal variation in data (think: Christmas)."
   ]
  },
  {
   "cell_type": "markdown",
   "metadata": {},
   "source": [
    "## Summarize returns\n",
    "\n",
    "In constructing the portfolio it is importance to understand the blend of funds. We want maximum returns for minimum volatility. That's not c\n"
   ]
  },
  {
   "cell_type": "code",
   "execution_count": 19,
   "metadata": {},
   "outputs": [],
   "source": [
    "# Add normalized columns (this helps speed portfolio calcs)\n",
    "for (col_name in names(df.data))\n",
    "{\n",
    "    if (is.numeric(df.data[,col_name]))\n",
    "    {\n",
    "\n",
    "      # Split the name (\"USGFG.Close\"\" is \"USGFG\"\" and \"Close\"\")\n",
    "      lstSyms <- lstSymSplit(col_name)\n",
    "        \n",
    "      # Only if there is two terms\n",
    "      if( length(lstSyms) > 1){\n",
    "\n",
    "        if( lstSyms[2] == 'Close_YoY' ){\n",
    "\n",
    "          # Return is the mean of the series\n",
    "          df.symbols[df.symbols$string.symbol==lstSyms[1],'ExpReturn'] <- mean(df.data[, col_name])\n",
    "\n",
    "          # Volatility is the standard deviation of the series.\n",
    "          df.symbols[df.symbols$string.symbol==lstSyms[1],'Volatility'] <- sd(df.data[, col_name])\n",
    "          \n",
    "        }\n",
    "      }\n",
    "\n",
    "    }\n",
    "}\n",
    "\n"
   ]
  },
  {
   "cell_type": "markdown",
   "metadata": {},
   "source": [
    "# Define the various portfolios\n",
    "\n",
    "This code is evaluating ROTH account portfolios. IVOO has a lower expense ratio than MDY, but performance is similar and MDY has a history that goes back to 1995 so I am using MDY as a substitute fo IVOO."
   ]
  },
  {
   "cell_type": "code",
   "execution_count": 20,
   "metadata": {},
   "outputs": [],
   "source": [
    "df.symbols$pf_Roth_Legacy <- 0\n",
    "df.symbols[df.symbols$string.symbol=='VTWO',]$pf_Roth_Legacy <-  0.0947\n",
    "df.symbols[df.symbols$string.symbol=='VFINX',]$pf_Roth_Legacy <-  0.5051\n",
    "df.symbols[df.symbols$string.symbol=='TMFGX',]$pf_Roth_Legacy <-  0.2568\n",
    "df.symbols[df.symbols$string.symbol=='IWM',]$pf_Roth_Legacy <-  0.0001\n",
    "df.symbols[df.symbols$string.symbol=='QQQ',]$pf_Roth_Legacy <-  0.0001\n",
    "df.symbols[df.symbols$string.symbol=='HAINX',]$pf_Roth_Legacy <-  0.0000\n",
    "df.symbols[df.symbols$string.symbol=='VEU',]$pf_Roth_Legacy <-  0.0000\n",
    "\n",
    "\n",
    "df.symbols$pf_Roth_New <- 0\n",
    "df.symbols[df.symbols$string.symbol=='VTWO',]$pf_Roth_New <-  0.0001\n",
    "df.symbols[df.symbols$string.symbol=='EES',]$pf_Roth_New <-  0.0000\n",
    "df.symbols[df.symbols$string.symbol=='IJR',]$pf_Roth_New <-  0.0000\n",
    "df.symbols[df.symbols$string.symbol=='VFINX',]$pf_Roth_New <-  0.0001\n",
    "df.symbols[df.symbols$string.symbol=='VOE',]$pf_Roth_New <-  0.0000\n",
    "df.symbols[df.symbols$string.symbol=='VOT',]$pf_Roth_New <-  0.0000\n",
    "df.symbols[df.symbols$string.symbol=='NOBL',]$pf_Roth_New <-  0.0000\n",
    "df.symbols[df.symbols$string.symbol=='VEU',]$pf_Roth_New <-  0.0000\n",
    "df.symbols[df.symbols$string.symbol=='IWM',]$pf_Roth_New <-  0.0000\n",
    "df.symbols[df.symbols$string.symbol=='QQQ',]$pf_Roth_New <-  0.0001\n",
    "df.symbols[df.symbols$string.symbol=='ONEQ',]$pf_Roth_New <-  0.0000\n",
    "df.symbols[df.symbols$string.symbol=='IVOO',]$pf_Roth_New <-  0.0000\n",
    "df.symbols[df.symbols$string.symbol=='MDY',]$pf_Roth_New <-  0.0000\n",
    "df.symbols[df.symbols$string.symbol=='VO',]$pf_Roth_New <-  0.0000\n",
    "df.symbols[df.symbols$string.symbol=='CZA',]$pf_Roth_New <-  0.0000\n",
    "df.symbols[df.symbols$string.symbol=='BIL',]$pf_Roth_New <-  0.0000\n",
    "df.symbols[df.symbols$string.symbol=='VYM',]$pf_Roth_New <-  0.0000\n",
    "df.symbols[df.symbols$string.symbol=='ACWI',]$pf_Roth_New <-  0.0000\n",
    "df.symbols[df.symbols$string.symbol=='VEU',]$pf_Roth_New <-  0.0000\n",
    "df.symbols[df.symbols$string.symbol=='DJI',]$pf_Roth_New <-  0.2000\n",
    "df.symbols[df.symbols$string.symbol=='RLG',]$pf_Roth_New <-  0.2000\n",
    "df.symbols[df.symbols$string.symbol=='SPY',]$pf_Roth_New <-  0.1000\n",
    "df.symbols[df.symbols$string.symbol=='PRWCX',]$pf_Roth_New <-  0.2000\n",
    "df.symbols[df.symbols$string.symbol=='BSV',]$pf_Roth_New <-  0.0000\n",
    "df.symbols[df.symbols$string.symbol=='BIV',]$pf_Roth_New <-  0.0001\n",
    "\n",
    "# From Dave's e-mail 30 Aug\n",
    "df.symbols$pf_LPL <- 0\n",
    "# Fixed income\n",
    "df.symbols[df.symbols$string.symbol=='VBIRX',]$pf_LPL <-  1.0/26.0\n",
    "df.symbols[df.symbols$string.symbol=='THIIX',]$pf_LPL <-  1.0/26.0\n",
    "df.symbols[df.symbols$string.symbol=='VFSUX',]$pf_LPL <-  1.0/26.0\n",
    "df.symbols[df.symbols$string.symbol=='LTUIX',]$pf_LPL <-  1.0/26.0\n",
    "df.symbols[df.symbols$string.symbol=='PTTPX',]$pf_LPL <-  1.0/26.0\n",
    "df.symbols[df.symbols$string.symbol=='NERYX',]$pf_LPL <-  1.0/26.0\n",
    "df.symbols[df.symbols$string.symbol=='STIGX',]$pf_LPL <-  1.0/26.0\n",
    "df.symbols[df.symbols$string.symbol=='HLGAX',]$pf_LPL <-  1.0/26.0\n",
    "df.symbols[df.symbols$string.symbol=='FTRGX',]$pf_LPL <-  1.0/26.0\n",
    "\n",
    "# Inflation hedges\n",
    "df.symbols[df.symbols$string.symbol=='BFIGX',]$pf_LPL <-  4/26\n",
    "df.symbols[df.symbols$string.symbol=='GOLD',]$pf_LPL <-  4/26\n",
    "\n",
    "# Equity/Equity Linked\n",
    "df.symbols[df.symbols$string.symbol=='GSFTX',]$pf_LPL <-  3/26\n",
    "df.symbols[df.symbols$string.symbol=='PRWCX',]$pf_LPL <-  3/26\n",
    "df.symbols[df.symbols$string.symbol=='ADOZX',]$pf_LPL <-  3/26\n"
   ]
  },
  {
   "cell_type": "markdown",
   "metadata": {},
   "source": [
    "This part normalizes all the data, in case there is a typo or numerical rounding that results in somthing less than 100%\n"
   ]
  },
  {
   "cell_type": "code",
   "execution_count": 21,
   "metadata": {},
   "outputs": [],
   "source": [
    "for (col_name in names(df.symbols)){\n",
    "  \n",
    "  if( length(grep('pf_', col_name))){\n",
    "    df.symbols[,col_name] <- df.symbols[,col_name] / sum(df.symbols[,col_name])\n",
    "  }\n",
    "  \n",
    "}\n"
   ]
  },
  {
   "cell_type": "markdown",
   "metadata": {},
   "source": [
    "Update the returns"
   ]
  },
  {
   "cell_type": "code",
   "execution_count": 22,
   "metadata": {},
   "outputs": [],
   "source": [
    "df.data <- pfUpdateReturn(\"pf_Roth_Legacy\", df.data, df.symbols)\n",
    "df.data <- pfUpdateReturn(\"pf_Roth_New\", df.data, df.symbols)\n",
    "df.data <- pfUpdateReturn(\"pf_LPL\", df.data, df.symbols)"
   ]
  },
  {
   "cell_type": "markdown",
   "metadata": {},
   "source": [
    "# Display the portfolios"
   ]
  },
  {
   "cell_type": "markdown",
   "metadata": {},
   "source": [
    "\n",
    "Display the two portfolios. A great resource for kable formatting: https://haozhu233.github.io/kableExtra/awesome_table_in_html.html"
   ]
  },
  {
   "cell_type": "code",
   "execution_count": 23,
   "metadata": {},
   "outputs": [],
   "source": [
    "string.colnames <- colnames(df.symbols);\n",
    "string.colnames[1] <- \"Symbol\"\n",
    "string.colnames[2] <- \"Source\"\n",
    "string.colnames[3] <- \"Description\"\n",
    "string.colnames[4] <- \"Label\"\n",
    "string.colnames[5] <- \"Expense Ratio (%)\"\n",
    "string.colnames[6] <- \"Series Start\"\n",
    "string.colnames[7] <- \"Expected Return\""
   ]
  },
  {
   "cell_type": "markdown",
   "metadata": {},
   "source": [
    "## Legacy portfolio\n",
    "\n",
    "### Portfolio description"
   ]
  },
  {
   "cell_type": "code",
   "execution_count": 30,
   "metadata": {},
   "outputs": [
    {
     "data": {
      "text/html": [
       "<table class=\"table table-striped table-hover\" style=\"margin-left: auto; margin-right: auto;\">\n",
       " <thead>\n",
       "  <tr>\n",
       "   <th style=\"text-align:left;\">   </th>\n",
       "   <th style=\"text-align:left;\"> Symbol </th>\n",
       "   <th style=\"text-align:left;\"> Source </th>\n",
       "   <th style=\"text-align:left;\"> Description </th>\n",
       "   <th style=\"text-align:left;\"> Label </th>\n",
       "   <th style=\"text-align:right;\"> Expense Ratio (%) </th>\n",
       "   <th style=\"text-align:left;\"> Series Start </th>\n",
       "   <th style=\"text-align:left;\"> Expected Return </th>\n",
       "   <th style=\"text-align:left;\"> Max030 </th>\n",
       "   <th style=\"text-align:left;\"> Max180 </th>\n",
       "   <th style=\"text-align:right;\"> ExpReturn </th>\n",
       "   <th style=\"text-align:right;\"> Volatility </th>\n",
       "   <th style=\"text-align:right;\"> pf_Roth_Legacy </th>\n",
       "   <th style=\"text-align:right;\"> pf_Roth_New </th>\n",
       "   <th style=\"text-align:right;\"> pf_LPL </th>\n",
       "  </tr>\n",
       " </thead>\n",
       "<tbody>\n",
       "  <tr>\n",
       "   <td style=\"text-align:left;\"> 36 </td>\n",
       "   <td style=\"text-align:left;\"> VTWO </td>\n",
       "   <td style=\"text-align:left;\"> yahoo </td>\n",
       "   <td style=\"text-align:left;\"> Vanguard Russell 2000 Index Fund ETF Shares </td>\n",
       "   <td style=\"text-align:left;\"> Dollars </td>\n",
       "   <td style=\"text-align:right;\"> 0.10 </td>\n",
       "   <td style=\"text-align:left;\"> 2010-09-22 </td>\n",
       "   <td style=\"text-align:left;\"> 2020-09-01 </td>\n",
       "   <td style=\"text-align:left;\"> NA </td>\n",
       "   <td style=\"text-align:left;\"> NA </td>\n",
       "   <td style=\"text-align:right;\"> 7.155 </td>\n",
       "   <td style=\"text-align:right;\"> 12.678 </td>\n",
       "   <td style=\"text-align:right;\"> 0.1105 </td>\n",
       "   <td style=\"text-align:right;\"> 0 </td>\n",
       "   <td style=\"text-align:right;\"> 0 </td>\n",
       "  </tr>\n",
       "  <tr>\n",
       "   <td style=\"text-align:left;\"> 176 </td>\n",
       "   <td style=\"text-align:left;\"> VFINX </td>\n",
       "   <td style=\"text-align:left;\"> yahoo </td>\n",
       "   <td style=\"text-align:left;\"> Vanguard 500 Index Investor </td>\n",
       "   <td style=\"text-align:left;\"> Dollars </td>\n",
       "   <td style=\"text-align:right;\"> 0.14 </td>\n",
       "   <td style=\"text-align:left;\"> 1980-01-02 </td>\n",
       "   <td style=\"text-align:left;\"> 2020-09-01 </td>\n",
       "   <td style=\"text-align:left;\"> NA </td>\n",
       "   <td style=\"text-align:left;\"> NA </td>\n",
       "   <td style=\"text-align:right;\"> 7.682 </td>\n",
       "   <td style=\"text-align:right;\"> 16.086 </td>\n",
       "   <td style=\"text-align:right;\"> 0.5895 </td>\n",
       "   <td style=\"text-align:right;\"> 0 </td>\n",
       "   <td style=\"text-align:right;\"> 0 </td>\n",
       "  </tr>\n",
       "  <tr>\n",
       "   <td style=\"text-align:left;\"> 179 </td>\n",
       "   <td style=\"text-align:left;\"> TMFGX </td>\n",
       "   <td style=\"text-align:left;\"> yahoo </td>\n",
       "   <td style=\"text-align:left;\"> Motley Fool Great America Investor </td>\n",
       "   <td style=\"text-align:left;\"> Dollars </td>\n",
       "   <td style=\"text-align:right;\"> 1.16 </td>\n",
       "   <td style=\"text-align:left;\"> 2010-11-02 </td>\n",
       "   <td style=\"text-align:left;\"> 2020-09-01 </td>\n",
       "   <td style=\"text-align:left;\"> NA </td>\n",
       "   <td style=\"text-align:left;\"> NA </td>\n",
       "   <td style=\"text-align:right;\"> 7.819 </td>\n",
       "   <td style=\"text-align:right;\"> 11.647 </td>\n",
       "   <td style=\"text-align:right;\"> 0.2997 </td>\n",
       "   <td style=\"text-align:right;\"> 0 </td>\n",
       "   <td style=\"text-align:right;\"> 0 </td>\n",
       "  </tr>\n",
       "  <tr>\n",
       "   <td style=\"text-align:left;\"> 180 </td>\n",
       "   <td style=\"text-align:left;\"> IWM </td>\n",
       "   <td style=\"text-align:left;\"> yahoo </td>\n",
       "   <td style=\"text-align:left;\"> iShares Russell 2000 </td>\n",
       "   <td style=\"text-align:left;\"> Dollars </td>\n",
       "   <td style=\"text-align:right;\"> 0.19 </td>\n",
       "   <td style=\"text-align:left;\"> 2000-05-26 </td>\n",
       "   <td style=\"text-align:left;\"> 2020-09-01 </td>\n",
       "   <td style=\"text-align:left;\"> NA </td>\n",
       "   <td style=\"text-align:left;\"> NA </td>\n",
       "   <td style=\"text-align:right;\"> 6.966 </td>\n",
       "   <td style=\"text-align:right;\"> 19.226 </td>\n",
       "   <td style=\"text-align:right;\"> 0.0001 </td>\n",
       "   <td style=\"text-align:right;\"> 0 </td>\n",
       "   <td style=\"text-align:right;\"> 0 </td>\n",
       "  </tr>\n",
       "  <tr>\n",
       "   <td style=\"text-align:left;\"> 191 </td>\n",
       "   <td style=\"text-align:left;\"> QQQ </td>\n",
       "   <td style=\"text-align:left;\"> yahoo </td>\n",
       "   <td style=\"text-align:left;\"> Invesco QQQ Trust </td>\n",
       "   <td style=\"text-align:left;\"> Dollars </td>\n",
       "   <td style=\"text-align:right;\"> -1.00 </td>\n",
       "   <td style=\"text-align:left;\"> 1999-03-10 </td>\n",
       "   <td style=\"text-align:left;\"> 2020-09-01 </td>\n",
       "   <td style=\"text-align:left;\"> NA </td>\n",
       "   <td style=\"text-align:left;\"> NA </td>\n",
       "   <td style=\"text-align:right;\"> 14.955 </td>\n",
       "   <td style=\"text-align:right;\"> 18.389 </td>\n",
       "   <td style=\"text-align:right;\"> 0.0001 </td>\n",
       "   <td style=\"text-align:right;\"> 0 </td>\n",
       "   <td style=\"text-align:right;\"> 0 </td>\n",
       "  </tr>\n",
       "</tbody>\n",
       "</table>"
      ]
     },
     "metadata": {},
     "output_type": "display_data"
    }
   ],
   "source": [
    "kable(df.symbols[df.symbols$pf_Roth_Legacy > 0.0, ],\n",
    "      col.names = string.colnames,\n",
    "      digits = c(0, 0, 0, 0, 2, 0, 2, 2, 3, 3, 3, 4)) %>%\n",
    "  kable_styling(bootstrap_options = c(\"striped\", \"hover\")) %>%\n",
    "  as.character() %>%\n",
    "  display_html()"
   ]
  },
  {
   "cell_type": "markdown",
   "metadata": {},
   "source": [
    "### Time series analysis\n",
    "\n",
    "This one is performing much worse than I expected. Data in this section is for reference only."
   ]
  },
  {
   "cell_type": "code",
   "execution_count": 25,
   "metadata": {},
   "outputs": [
    {
     "data": {
      "image/png": "[encoded data removed]",
      "text/plain": [
       "plot without title"
      ]
     },
     "metadata": {
      "image/png": {
       "height": 1800,
       "width": 2910
      }
     },
     "output_type": "display_data"
    }
   ],
   "source": [
    "options(repr.plot.width = 9.7, repr.plot.height = 6, repr.plot.res = 600)\n",
    "datay.legacy <- \"pf_Roth_Legacy\"\n",
    "ylim <- c(0, 4)\n",
    "plotSingleBench(dfRecession, datay.legacy, ylim, df.symbols, df.data, string.analysis.start)"
   ]
  },
  {
   "cell_type": "markdown",
   "metadata": {},
   "source": [
    "### Risk return analysis\n",
    "\n",
    "This section plots the funds on return and volatility axis. An ideal fund would be in the upper left corner of the plot."
   ]
  },
  {
   "cell_type": "code",
   "execution_count": 26,
   "metadata": {
    "scrolled": true
   },
   "outputs": [
    {
     "name": "stdout",
     "output_type": "stream",
     "text": [
      "[1] \"Failed to find efficiency boundary\"\n"
     ]
    },
    {
     "ename": "ERROR",
     "evalue": "Error in solve.QP(Dmat, dvec, Amat, bvec = b0, meq = 2): constraints are inconsistent, no solution!\n",
     "output_type": "error",
     "traceback": [
      "Error in solve.QP(Dmat, dvec, Amat, bvec = b0, meq = 2): constraints are inconsistent, no solution!\nTraceback:\n",
      "1. plotReturnVolatility(datay.legacy, df.data, df.symbols)",
      "2. portfolio.optim(as.matrix(dfPort), ExpRet_pf)",
      "3. portfolio.optim.default(as.matrix(dfPort), ExpRet_pf)",
      "4. solve.QP(Dmat, dvec, Amat, bvec = b0, meq = 2)",
      "5. stop(\"constraints are inconsistent, no solution!\")"
     ]
    }
   ],
   "source": [
    "rrData.legacy <- plotReturnVolatility(datay.legacy, df.data, df.symbols)"
   ]
  },
  {
   "cell_type": "code",
   "execution_count": 31,
   "metadata": {},
   "outputs": [],
   "source": [
    "string.portfolio.in <- datay.legacy\n",
    "df.data.in <- df.data\n",
    "df.symbols.in <- df.symbols"
   ]
  },
  {
   "cell_type": "code",
   "execution_count": 32,
   "metadata": {},
   "outputs": [],
   "source": [
    "    # Setup a local dataframe with the symbols in the portfolio\n",
    "    dfRR <- df.symbols.in[df.symbols.in[string.portfolio.in] > 0, ]"
   ]
  },
  {
   "cell_type": "code",
   "execution_count": 33,
   "metadata": {},
   "outputs": [],
   "source": [
    "    # Need a data table with just the ticker and data\n",
    "    strCols <-\n",
    "      paste(dfRR$string.symbol, \".Close_Norm_YoY\", sep = \"\")\n",
    "    dfPort <- data.table(df.data.in[, strCols])"
   ]
  },
  {
   "cell_type": "code",
   "execution_count": 34,
   "metadata": {},
   "outputs": [],
   "source": [
    "    # Range of expected returns from the porfolio\n",
    "    er_vals <-\n",
    "      seq(\n",
    "        from = min(dfRR$ExpReturn),\n",
    "        to = max(dfRR$ExpReturn),\n",
    "        length.out = 1000\n",
    "      )"
   ]
  },
  {
   "cell_type": "code",
   "execution_count": 35,
   "metadata": {},
   "outputs": [
    {
     "name": "stdout",
     "output_type": "stream",
     "text": [
      "[1] \"Failed to find efficiency boundary\"\n"
     ]
    }
   ],
   "source": [
    "    # find an optimal portfolio for each possible possible expected return\n",
    "    # (note that the values are explicitly set between the minimum and maximum of\n",
    "    # the expected returns per asset)\n",
    "    sd_vals <- rep(0, length(er_vals))\n",
    "    tryCatch({\n",
    "      sd_vals <- sapply(er_vals, function(er) {\n",
    "        op <- portfolio.optim(as.matrix(dfPort), er)\n",
    "        return(op$ps)\n",
    "      })\n",
    "    }, error = function(e) {\n",
    "      print(\"Failed to find efficiency boundary\")\n",
    "    })\n",
    "    \n",
    "    # Collect in a table\n",
    "    plot_dt <- data.table(sd = sd_vals, er = er_vals)\n",
    "    \n",
    "    # find the lower and the upper frontier\n",
    "    minsd <- min(plot_dt$sd)\n",
    "    minsd_er <- plot_dt[sd == minsd, er]\n",
    "    minsd_er <- minsd_er[1]\n",
    "    plot_dt[, efficient := er >= minsd_er]"
   ]
  },
  {
   "cell_type": "code",
   "execution_count": 38,
   "metadata": {},
   "outputs": [
    {
     "name": "stdout",
     "output_type": "stream",
     "text": [
      "[1] 8.838823\n",
      "[1] 3.310228\n"
     ]
    }
   ],
   "source": [
    "    # Data for the actual portfolio mix\n",
    "    dfPortRet <- df.data.in[string.portfolio.in]\n",
    "    strPfYoY <- paste(string.portfolio.in, \"_YoY\", sep = \"\")\n",
    "    dfPortRet[strPfYoY] <-\n",
    "      CalcYoY(dfPortRet, string.portfolio.in, iRetPd)\n",
    "    Vol_pf <- sd(dfPortRet[, strPfYoY])\n",
    "    ExpRet_pf <- mean(dfPortRet[, strPfYoY])\n",
    "    print(Vol_pf)\n",
    "    print(ExpRet_pf)"
   ]
  },
  {
   "cell_type": "code",
   "execution_count": 40,
   "metadata": {},
   "outputs": [
    {
     "ename": "ERROR",
     "evalue": "Error in solve.QP(Dmat, dvec, Amat, bvec = b0, meq = 2): constraints are inconsistent, no solution!\n",
     "output_type": "error",
     "traceback": [
      "Error in solve.QP(Dmat, dvec, Amat, bvec = b0, meq = 2): constraints are inconsistent, no solution!\nTraceback:\n",
      "1. portfolio.optim(as.matrix(dfPort), 1)",
      "2. portfolio.optim.default(as.matrix(dfPort), 1)",
      "3. solve.QP(Dmat, dvec, Amat, bvec = b0, meq = 2)",
      "4. stop(\"constraints are inconsistent, no solution!\")"
     ]
    }
   ],
   "source": [
    "    # Data for the portfolio mix with same returns, but lower volatility\n",
    "    op_pf <- portfolio.optim(as.matrix(dfPort), ExpRet_pf)\n",
    "    dfRR[paste(string.portfolio.in, \"_Opt\", sep = \"\")] <- op_pf$pw"
   ]
  },
  {
   "cell_type": "code",
   "execution_count": null,
   "metadata": {},
   "outputs": [],
   "source": []
  },
  {
   "cell_type": "code",
   "execution_count": null,
   "metadata": {},
   "outputs": [],
   "source": [
    "options(repr.plot.width = 9.7, repr.plot.height = 6, repr.plot.res = 600)\n",
    "rrData.legacy[[2]]"
   ]
  },
  {
   "cell_type": "markdown",
   "metadata": {},
   "source": [
    "This table shows the portfolio. Column `r datay.legacy` shows the inputted portfolio and `r paste(datay.legacy,\"_Opt\", sep=\"\")` shows the portfolio with the same returns, but less risk."
   ]
  },
  {
   "cell_type": "code",
   "execution_count": null,
   "metadata": {},
   "outputs": [],
   "source": [
    "tblPort(rrData.legacy, datay.legacy)  %>%\n",
    "  as.character() %>%\n",
    "  display_html()"
   ]
  },
  {
   "cell_type": "code",
   "execution_count": null,
   "metadata": {},
   "outputs": [],
   "source": [
    " df.port <- rrData[[1]][c(\"string.symbol\", \"string.description\", \"date.series.start\", \"float.expense.ratio\",\n",
    "                      datay, paste(datay, \"_Opt\", sep = \"\"))]"
   ]
  },
  {
   "cell_type": "code",
   "execution_count": null,
   "metadata": {},
   "outputs": [],
   "source": []
  },
  {
   "cell_type": "code",
   "execution_count": null,
   "metadata": {},
   "outputs": [],
   "source": [
    "rrData.legacy[[1]]"
   ]
  },
  {
   "cell_type": "code",
   "execution_count": null,
   "metadata": {},
   "outputs": [],
   "source": [
    "datay.legacy.opt <- \"pf_Roth_Legacy_Opt\"\n",
    "df.data <- pfUpdateReturn(datay.legacy.opt, df.data, df.symbols)"
   ]
  },
  {
   "cell_type": "code",
   "execution_count": null,
   "metadata": {},
   "outputs": [],
   "source": [
    "options(repr.plot.width = 9.7, repr.plot.height = 6, repr.plot.res = 600)\n",
    "ylim <- c(0, 4)\n",
    "plotSingleBench(dfRecession, datay.legacy, ylim, df.symbols, df.data, string.analysis.start)"
   ]
  },
  {
   "cell_type": "markdown",
   "metadata": {},
   "source": [
    "## New Roth Portfolio\n",
    "### Portfolio description"
   ]
  },
  {
   "cell_type": "code",
   "execution_count": null,
   "metadata": {},
   "outputs": [],
   "source": [
    "kable(df.symbols[df.symbols$pf_Roth_New > 0.0, ],\n",
    "      col.names = string.colnames,\n",
    "      digits = c(0, 0, 0, 0, 2, 0, 2, 2, 3, 3)) %>%\n",
    "  kable_styling(bootstrap_options = c(\"striped\", \"hover\")) %>%\n",
    "  as.character() %>%\n",
    "  display_html()"
   ]
  },
  {
   "cell_type": "markdown",
   "metadata": {},
   "source": [
    "### Time series analysis"
   ]
  },
  {
   "cell_type": "code",
   "execution_count": null,
   "metadata": {},
   "outputs": [],
   "source": [
    "options(repr.plot.width = 9.7, repr.plot.height = 6, repr.plot.res = 600)\n",
    "datay.legacy <- \"pf_Roth_New\"\n",
    "ylim <- c(0, 4)\n",
    "plotSingleBench(dfRecession, datay.legacy, ylim, df.symbols, df.data, string.analysis.start)"
   ]
  },
  {
   "cell_type": "code",
   "execution_count": null,
   "metadata": {},
   "outputs": [],
   "source": [
    "options(repr.plot.width = 9.7, repr.plot.height = 6, repr.plot.res = 600)\n",
    "datay.legacy <- \"pf_LPL\"\n",
    "ylim <- c(0, 4)\n",
    "plotSingleBench(dfRecession, datay.legacy, ylim, df.symbols, df.data, string.analysis.start)"
   ]
  },
  {
   "cell_type": "markdown",
   "metadata": {},
   "source": [
    "## Risk return analysis\n",
    "\n",
    "This section plots the funds on return and volatility axis. An ideal fund would be in the upper left corner of the plot."
   ]
  },
  {
   "cell_type": "code",
   "execution_count": null,
   "metadata": {},
   "outputs": [],
   "source": [
    "dfRR <- df.symbols[df.symbols[datay.legacy] > 0, ]\n",
    "dfRR"
   ]
  },
  {
   "cell_type": "code",
   "execution_count": null,
   "metadata": {
    "scrolled": true
   },
   "outputs": [],
   "source": [
    "rrData <- plotReturnVolatility(datay.legacy, df.data, df.symbols)"
   ]
  },
  {
   "cell_type": "code",
   "execution_count": null,
   "metadata": {},
   "outputs": [],
   "source": [
    "options(repr.plot.width = 9.7, repr.plot.height = 6, repr.plot.res = 600)\n",
    "rrData[[2]]"
   ]
  },
  {
   "cell_type": "markdown",
   "metadata": {},
   "source": [
    "This table shows the portfolio. Column `r datay.legacy` shows the inputted portfolio and `r paste(datay.legacy,\"_Opt\", sep=\"\")` shows the portfolio with the same returns, but less risk."
   ]
  },
  {
   "cell_type": "code",
   "execution_count": null,
   "metadata": {},
   "outputs": [],
   "source": [
    "tblPort(rrData, datay.legacy)  %>%\n",
    "  as.character() %>%\n",
    "  display_html()"
   ]
  },
  {
   "cell_type": "code",
   "execution_count": null,
   "metadata": {},
   "outputs": [],
   "source": [
    "tail(df.data)"
   ]
  },
  {
   "cell_type": "code",
   "execution_count": null,
   "metadata": {},
   "outputs": [],
   "source": []
  },
  {
   "cell_type": "code",
   "execution_count": null,
   "metadata": {},
   "outputs": [],
   "source": []
  }
 ],
 "metadata": {
  "kernelspec": {
   "display_name": "R",
   "language": "R",
   "name": "ir"
  },
  "language_info": {
   "codemirror_mode": "r",
   "file_extension": ".r",
   "mimetype": "text/x-r-source",
   "name": "R",
   "pygments_lexer": "r",
   "version": "3.6.3"
  }
 },
 "nbformat": 4,
 "nbformat_minor": 2
}
