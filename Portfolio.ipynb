{
 "cells": [
  {
   "cell_type": "markdown",
   "metadata": {},
   "source": [
    "# Portfolio\n",
    "Brian Howard\n",
    "26 March 2022"
   ]
  },
  {
   "cell_type": "code",
   "execution_count": 1,
   "metadata": {},
   "outputs": [
    {
     "name": "stderr",
     "output_type": "stream",
     "text": [
      "Loading required package: MASS\n",
      "\n",
      "Loading required package: HistData\n",
      "\n",
      "Loading required package: Hmisc\n",
      "\n",
      "Loading required package: lattice\n",
      "\n",
      "Loading required package: survival\n",
      "\n",
      "Loading required package: Formula\n",
      "\n",
      "Loading required package: ggplot2\n",
      "\n",
      "\n",
      "Attaching package: 'Hmisc'\n",
      "\n",
      "\n",
      "The following objects are masked from 'package:base':\n",
      "\n",
      "    format.pval, units\n",
      "\n",
      "\n",
      "\n",
      "Attaching package: 'UsingR'\n",
      "\n",
      "\n",
      "The following object is masked from 'package:survival':\n",
      "\n",
      "    cancer\n",
      "\n",
      "\n",
      "Loading required package: xts\n",
      "\n",
      "Loading required package: zoo\n",
      "\n",
      "\n",
      "Attaching package: 'zoo'\n",
      "\n",
      "\n",
      "The following objects are masked from 'package:base':\n",
      "\n",
      "    as.Date, as.Date.numeric\n",
      "\n",
      "\n",
      "Loading required package: TTR\n",
      "\n",
      "Registered S3 method overwritten by 'quantmod':\n",
      "  method            from\n",
      "  as.zoo.data.frame zoo \n",
      "\n",
      "\n",
      "Attaching package: 'quantmod'\n",
      "\n",
      "\n",
      "The following object is masked from 'package:Hmisc':\n",
      "\n",
      "    Lag\n",
      "\n",
      "\n",
      "\n",
      "Attaching package: 'signal'\n",
      "\n",
      "\n",
      "The following objects are masked from 'package:stats':\n",
      "\n",
      "    filter, poly\n",
      "\n",
      "\n",
      "corrplot 0.92 loaded\n",
      "\n",
      "Warning message:\n",
      "\"package 'tseries' was built under R version 4.1.3\"\n",
      "\n",
      "Attaching package: 'caret'\n",
      "\n",
      "\n",
      "The following object is masked from 'package:survival':\n",
      "\n",
      "    cluster\n",
      "\n",
      "\n",
      "randomForest 4.7-1\n",
      "\n",
      "Type rfNews() to see new features/changes/bug fixes.\n",
      "\n",
      "\n",
      "Attaching package: 'randomForest'\n",
      "\n",
      "\n",
      "The following object is masked from 'package:gridExtra':\n",
      "\n",
      "    combine\n",
      "\n",
      "\n",
      "The following object is masked from 'package:ggplot2':\n",
      "\n",
      "    margin\n",
      "\n",
      "\n",
      "\n",
      "Attaching package: 'data.table'\n",
      "\n",
      "\n",
      "The following objects are masked from 'package:xts':\n",
      "\n",
      "    first, last\n",
      "\n",
      "\n"
     ]
    }
   ],
   "source": [
    "library(UsingR)\n",
    "library(quantmod)\n",
    "library(ggplot2)\n",
    "library(grid)\n",
    "library(gridExtra)\n",
    "library(knitr)\n",
    "library(kableExtra)\n",
    "library(tools)\n",
    "library(zoo)\n",
    "library(signal)\n",
    "library(stringr)\n",
    "library(corrplot)\n",
    "library(Hmisc)\n",
    "library(tseries)\n",
    "library(caret)\n",
    "library(rpart)\n",
    "library(rpart.plot)\n",
    "library(randomForest)\n",
    "library(Quandl)\n",
    "library(nnet)\n",
    "#library(devtools)\n",
    "#install_github(\"andrewuhl/RollingWindow\")\n",
    "library(RollingWindow)\n",
    "library(gtable)\n",
    "library(data.table)\n",
    "library(readxl)\n",
    "library(IRdisplay)"
   ]
  },
  {
   "cell_type": "markdown",
   "metadata": {},
   "source": [
    "Define the source of the data (local or web) and whether to update the models."
   ]
  },
  {
   "cell_type": "markdown",
   "metadata": {},
   "source": [
    "Call helper functions"
   ]
  },
  {
   "cell_type": "code",
   "execution_count": 2,
   "metadata": {},
   "outputs": [],
   "source": [
    "source(\"plotHelper.r\")"
   ]
  },
  {
   "cell_type": "markdown",
   "metadata": {},
   "source": [
    "These functions help organize tables in the document"
   ]
  },
  {
   "cell_type": "code",
   "execution_count": 3,
   "metadata": {},
   "outputs": [],
   "source": [
    "tblPort <- function(rrData, datay){\n",
    "  \n",
    "  df.port <- rrData[[1]][c(\"string.symbol\", \"string.description\", \"date.series.start\", \"float.expense.ratio\",\n",
    "                      datay, paste(datay, \"_Opt\", sep = \"\"))]\n",
    "  \n",
    "  string.colnames <- colnames(df.port);\n",
    "  string.colnames[1] <- \"Symbol\"\n",
    "  string.colnames[2] <- \"Description\"\n",
    "  string.colnames[3] <- \"Series Start\"\n",
    "  string.colnames[4] <- \"Expense Ratio (%)\"\n",
    "\n",
    "  kable(rrData[[1]][c(\"string.symbol\", \"string.description\", \"date.series.start\", \"float.expense.ratio\",\n",
    "                      datay, paste(datay, \"_Opt\", sep = \"\"))], digits=c(0,0,3,3,3,3)) %>%\n",
    "  kable_styling(bootstrap_options = c(\"striped\", \"hover\"))\n",
    "  \n",
    "}\n"
   ]
  },
  {
   "cell_type": "markdown",
   "metadata": {},
   "source": [
    "Define the source of the data (local or web) and whether to update the models."
   ]
  },
  {
   "cell_type": "code",
   "execution_count": 4,
   "metadata": {},
   "outputs": [],
   "source": [
    "b.refresh.models = FALSE"
   ]
  },
  {
   "cell_type": "markdown",
   "metadata": {},
   "source": [
    "Define the plotting ranges and vertical defaults"
   ]
  },
  {
   "cell_type": "code",
   "execution_count": 5,
   "metadata": {},
   "outputs": [],
   "source": [
    "dt.recent = as.Date(\"2015-01-01\")\n",
    "string.analysis.start <- \"2007-05-22\"\n",
    "iRetPd <- 180\n",
    "d.GSPC.max = 3500"
   ]
  },
  {
   "cell_type": "markdown",
   "metadata": {},
   "source": [
    "## Load the data and create the data frame\n",
    "Load up the off-line data"
   ]
  },
  {
   "cell_type": "code",
   "execution_count": 6,
   "metadata": {},
   "outputs": [],
   "source": [
    "load(\"C:/Users/Rainy/OneDrive/RecessionIndicator_Buffer.RData\")"
   ]
  },
  {
   "cell_type": "markdown",
   "metadata": {},
   "source": [
    "This snippet is needed because some of the ticker symbols include are invalid variable names so re-cast those variable names."
   ]
  },
  {
   "cell_type": "code",
   "execution_count": 7,
   "metadata": {},
   "outputs": [],
   "source": [
    "df.symbols$string.symbol <-\n",
    "  str_replace_all(df.symbols$string.symbol, \"[^[:alnum:]]\", \"\")"
   ]
  },
  {
   "cell_type": "markdown",
   "metadata": {},
   "source": [
    "Do the interpolation to daily samples and tidy the data"
   ]
  },
  {
   "cell_type": "code",
   "execution_count": 8,
   "metadata": {},
   "outputs": [],
   "source": [
    "source(\"calcInterpolate.r\")"
   ]
  },
  {
   "cell_type": "code",
   "execution_count": 9,
   "metadata": {},
   "outputs": [
    {
     "name": "stderr",
     "output_type": "stream",
     "text": [
      "Warning message in merge.xts(xtsData, get(df.symbols$string.symbol[idx])):\n",
      "\"NAs introduced by coercion\"\n"
     ]
    }
   ],
   "source": [
    "df.data <- calcInterpolate(df.symbols)"
   ]
  },
  {
   "cell_type": "markdown",
   "metadata": {},
   "source": [
    "Truncate the data. A very few data series do go back to 1854, but most don't even go past WWII so truncate the dataframe"
   ]
  },
  {
   "cell_type": "code",
   "execution_count": 10,
   "metadata": {},
   "outputs": [],
   "source": [
    "df.data <- df.data[as.Date(rownames(df.data)) > as.Date(\"1940-01-01\"),]"
   ]
  },
  {
   "cell_type": "markdown",
   "metadata": {},
   "source": [
    "Create aggreagate data series\n",
    "Some analysis requires that two or more series be combined. For example, normallizing debt by GDP to get a sense of the proportion of debt to the total economy helps understand the debt cycle."
   ]
  },
  {
   "cell_type": "markdown",
   "metadata": {},
   "source": [
    "## Normalize data\n",
    "Linearly interpolate the data, add normalized columns (this helps speed portfolio calcs)"
   ]
  },
  {
   "cell_type": "code",
   "execution_count": 11,
   "metadata": {},
   "outputs": [],
   "source": [
    "for (col_name in names(df.data))\n",
    "{\n",
    "    if (is.numeric(df.data[,col_name]))\n",
    "    {\n",
    "      # Normalize data\n",
    "      str.col.norm <- paste(col_name, \"_Norm\", sep=\"\") \n",
    "      d.den = df.data[as.Date(rownames(df.data)) == as.Date(string.analysis.start),col_name]\n",
    "        if (abs(d.den) > 0.00000001){\n",
    "            df.data[, str.col.norm] <- df.data[,col_name] / d.den\n",
    "        }else{\n",
    "            df.data[, str.col.norm] <- 1\n",
    "        }\n",
    "      \n",
    "        \n",
    "     # Descriptions must be associated with the root data series name. If the\n",
    "     # symbol table is empty and there is a \".\" in the name, look up the root\n",
    "     # symbol and use that.\n",
    "     str.symbol.root <- col_name\n",
    "       if (grepl(\"\\\\.\", col_name)) {\n",
    "         str.symbol.root <- substr(col_name, 1, regexpr(\"\\\\.\", col_name) - 1)\n",
    "       }\n",
    "        \n",
    "      # Add it to the symbols table\n",
    "      str.desc <- paste(df.symbols$string.description[df.symbols$string.symbol == str.symbol.root], \"\\nNormalized\", sep =\n",
    "                                       \"\")\n",
    "      df.symbols <-\n",
    "      rbind(\n",
    "        df.symbols,\n",
    "        data.frame(\n",
    "          string.symbol = str.col.norm,\n",
    "          string.source = \"Calc\",\n",
    "          string.description = str.desc,\n",
    "          string.label.y = \"-\",\n",
    "          float.expense.ratio = -1.00,\n",
    "          date.series.start = df.symbols$date.series.start[df.symbols$string.symbol == str.symbol.root],\n",
    "          date.series.end = df.symbols$date.series.end[df.symbols$string.symbol == str.symbol.root]\n",
    "        )\n",
    "      )\n",
    "    \n",
    "    }\n",
    "}"
   ]
  },
  {
   "cell_type": "code",
   "execution_count": 12,
   "metadata": {},
   "outputs": [],
   "source": [
    "source(\"calcAggregateSeries.r\")"
   ]
  },
  {
   "cell_type": "markdown",
   "metadata": {},
   "source": [
    "Calculate the year-over-year, 50 day moving average, and other features in the data"
   ]
  },
  {
   "cell_type": "code",
   "execution_count": 13,
   "metadata": {},
   "outputs": [],
   "source": [
    "source(\"calcFeatures.r\")"
   ]
  },
  {
   "cell_type": "code",
   "execution_count": null,
   "metadata": {
    "scrolled": false
   },
   "outputs": [],
   "source": [
    "lst.df <- calcFeatures(df.data, df.symbols)\n",
    "df.data <- lst.df[[1]]\n",
    "df.symbols <- lst.df[[2]]"
   ]
  },
  {
   "cell_type": "markdown",
   "metadata": {},
   "source": [
    "These are auxilliary series that use the YoY and smoothed data."
   ]
  },
  {
   "cell_type": "code",
   "execution_count": null,
   "metadata": {},
   "outputs": [],
   "source": [
    "source(\"calcFeaturesAggregate.r\")"
   ]
  },
  {
   "cell_type": "markdown",
   "metadata": {},
   "source": [
    "Build the recession data frame"
   ]
  },
  {
   "cell_type": "code",
   "execution_count": null,
   "metadata": {},
   "outputs": [],
   "source": [
    "source(\"calcRecession.r\")"
   ]
  },
  {
   "cell_type": "markdown",
   "metadata": {},
   "source": [
    "Portfolio specific functions"
   ]
  },
  {
   "cell_type": "code",
   "execution_count": null,
   "metadata": {},
   "outputs": [],
   "source": [
    "source(\"calcPort.r\")"
   ]
  },
  {
   "cell_type": "markdown",
   "metadata": {},
   "source": [
    "# Introduction\n",
    "This is a portfolio analysis, data pulled from yahoo. I’m trying to decide what a better mix would be for this old IRA account. These next few segments load the data into the R program."
   ]
  },
  {
   "cell_type": "markdown",
   "metadata": {},
   "source": [
    "## Define the symbols to be used in the analysis.\n",
    "\n",
    "This code defines stock ticker symbols that will be available for analysis. It includes descriptions and labels for the plots.\n",
    "\n",
    "The table uses the analysis start date as the series start date to instantiate the data frame. Once the data is pulled down into the zoo object the actual series start data will replace the analyis start."
   ]
  },
  {
   "cell_type": "markdown",
   "metadata": {},
   "source": [
    "## Truncate data\n",
    "\n",
    "A few last calculations to truncate and aggregrate the data"
   ]
  },
  {
   "cell_type": "code",
   "execution_count": null,
   "metadata": {},
   "outputs": [],
   "source": [
    "df.data <- with(df.data, df.data[date>=string.analysis.start,])"
   ]
  },
  {
   "cell_type": "markdown",
   "metadata": {},
   "source": [
    "# Calculate the returns\n",
    "\n",
    "## Calculate the time based returns on annual basis\n",
    "\n",
    "In this analysis all the returns are calculated on an annual basis. It means there is a year of dead data, but it eliminates seasonal variation in data (think: Christmas)."
   ]
  },
  {
   "cell_type": "markdown",
   "metadata": {},
   "source": [
    "## Summarize returns\n",
    "\n",
    "In constructing the portfolio it is importance to understand the blend of funds. We want maximum returns for minimum volatility. That's not c\n"
   ]
  },
  {
   "cell_type": "code",
   "execution_count": null,
   "metadata": {},
   "outputs": [],
   "source": [
    "# Add normalized columns (this helps speed portfolio calcs)\n",
    "for (col_name in names(df.data))\n",
    "{\n",
    "    if (is.numeric(df.data[,col_name]))\n",
    "    {\n",
    "\n",
    "      # Split the name (\"USGFG.Close\"\" is \"USGFG\"\" and \"Close\"\")\n",
    "      lstSyms <- lstSymSplit(col_name)\n",
    "        \n",
    "      # Only if there is two terms\n",
    "      if( length(lstSyms) > 1){\n",
    "\n",
    "        if( lstSyms[2] == 'Close_YoY' ){\n",
    "\n",
    "          # Return is the mean of the series\n",
    "          df.symbols[df.symbols$string.symbol==lstSyms[1],'ExpReturn'] <- mean(df.data[, col_name])\n",
    "\n",
    "          # Volatility is the standard deviation of the series.\n",
    "          df.symbols[df.symbols$string.symbol==lstSyms[1],'Volatility'] <- sd(df.data[, col_name])\n",
    "          \n",
    "        }\n",
    "      }\n",
    "\n",
    "    }\n",
    "}\n",
    "\n"
   ]
  },
  {
   "cell_type": "markdown",
   "metadata": {},
   "source": [
    "# Define the various portfolios\n",
    "\n",
    "This code is evaluating ROTH account portfolios. IVOO has a lower expense ratio than MDY, but performance is similar and MDY has a history that goes back to 1995 so I am using MDY as a substitute fo IVOO."
   ]
  },
  {
   "cell_type": "code",
   "execution_count": null,
   "metadata": {},
   "outputs": [],
   "source": [
    "df.symbols$pf_Roth_Legacy <- 0\n",
    "df.symbols[df.symbols$string.symbol=='VTWO',]$pf_Roth_Legacy <-  0.0000\n",
    "df.symbols[df.symbols$string.symbol=='VFINX',]$pf_Roth_Legacy <-  0.5051\n",
    "df.symbols[df.symbols$string.symbol=='TMFGX',]$pf_Roth_Legacy <-  0.0000\n",
    "df.symbols[df.symbols$string.symbol=='IWM',]$pf_Roth_Legacy <-  0.0001\n",
    "df.symbols[df.symbols$string.symbol=='QQQ',]$pf_Roth_Legacy <-  0.0001\n",
    "df.symbols[df.symbols$string.symbol=='HAINX',]$pf_Roth_Legacy <-  0.0001\n",
    "df.symbols[df.symbols$string.symbol=='VEU',]$pf_Roth_Legacy <-  0.0000\n",
    "\n",
    "\n",
    "df.symbols$pf_Roth_IRA <- 0\n",
    "df.symbols[df.symbols$string.symbol=='VTWO',]$pf_Roth_IRA <-  0.0000\n",
    "df.symbols[df.symbols$string.symbol=='EES',]$pf_Roth_IRA <-  0.0000\n",
    "df.symbols[df.symbols$string.symbol=='IJR',]$pf_Roth_IRA <-  0.0000\n",
    "df.symbols[df.symbols$string.symbol=='VFINX',]$pf_Roth_IRA <-  0.0000\n",
    "df.symbols[df.symbols$string.symbol=='VOE',]$pf_Roth_IRA <-  0.0000\n",
    "df.symbols[df.symbols$string.symbol=='VOT',]$pf_Roth_IRA <-  0.0000\n",
    "df.symbols[df.symbols$string.symbol=='NOBL',]$pf_Roth_IRA <-  0.283\n",
    "df.symbols[df.symbols$string.symbol=='GDX',]$pf_Roth_IRA <-  0.0566\n",
    "df.symbols[df.symbols$string.symbol=='SCHD',]$pf_Roth_IRA <-  0.283\n",
    "df.symbols[df.symbols$string.symbol=='XLE',]$pf_Roth_IRA <-  0.0943\n",
    "df.symbols[df.symbols$string.symbol=='PFF',]$pf_Roth_IRA <-  0.0000\n",
    "df.symbols[df.symbols$string.symbol=='HPI',]$pf_Roth_IRA <-  0.0000\n",
    "df.symbols[df.symbols$string.symbol=='VEU',]$pf_Roth_IRA <-  0.0000\n",
    "df.symbols[df.symbols$string.symbol=='IWM',]$pf_Roth_IRA <-  0.0000\n",
    "df.symbols[df.symbols$string.symbol=='QQQ',]$pf_Roth_IRA <-  0.0000\n",
    "df.symbols[df.symbols$string.symbol=='ONEQ',]$pf_Roth_IRA <-  0.0000\n",
    "df.symbols[df.symbols$string.symbol=='IVOO',]$pf_Roth_IRA <-  0.0000\n",
    "df.symbols[df.symbols$string.symbol=='MDY',]$pf_Roth_IRA <-  0.0000\n",
    "df.symbols[df.symbols$string.symbol=='VO',]$pf_Roth_IRA <-  0.0000\n",
    "df.symbols[df.symbols$string.symbol=='CZA',]$pf_Roth_IRA <-  0.0000\n",
    "df.symbols[df.symbols$string.symbol=='BIL',]$pf_Roth_IRA <-  0.0000\n",
    "df.symbols[df.symbols$string.symbol=='VYM',]$pf_Roth_IRA <-  0.0000\n",
    "df.symbols[df.symbols$string.symbol=='ACWI',]$pf_Roth_IRA <-  0.0000\n",
    "df.symbols[df.symbols$string.symbol=='VEU',]$pf_Roth_IRA <-  0.0000\n",
    "df.symbols[df.symbols$string.symbol=='DJI',]$pf_Roth_IRA <-  0.0000\n",
    "df.symbols[df.symbols$string.symbol=='RLG',]$pf_Roth_IRA <-  0.0000\n",
    "df.symbols[df.symbols$string.symbol=='SPY',]$pf_Roth_IRA <-  0.0000\n",
    "df.symbols[df.symbols$string.symbol=='PRWCX',]$pf_Roth_IRA <-  0.0000\n",
    "df.symbols[df.symbols$string.symbol=='BSV',]$pf_Roth_IRA <-  0.0000\n",
    "df.symbols[df.symbols$string.symbol=='BIV',]$pf_Roth_IRA <-  0.283\n",
    "\n",
    "# Amy's 401K\n",
    "df.symbols$pf_Fidelity <- 0\n",
    "# Fixed income\n",
    "df.symbols[df.symbols$string.symbol=='FXAIX',]$pf_Fidelity <-  1.0/26.0\n",
    "df.symbols[df.symbols$string.symbol=='HNACX',]$pf_Fidelity <-  1.0/26.0\n",
    "df.symbols[df.symbols$string.symbol=='VEIRX',]$pf_Fidelity <-  1.0/26.0\n",
    "df.symbols[df.symbols$string.symbol=='FSMAX',]$pf_Fidelity <-  1.0/26.0\n",
    "df.symbols[df.symbols$string.symbol=='PRVIX',]$pf_Fidelity <-  1.0/26.0\n",
    "df.symbols[df.symbols$string.symbol=='FTIHX',]$pf_Fidelity <-  1.0/26.0\n",
    "df.symbols[df.symbols$string.symbol=='MDIZX',]$pf_Fidelity <-  1.0/26.0\n",
    "df.symbols[df.symbols$string.symbol=='DODIX',]$pf_Fidelity <-  1.0/26.0\n",
    "df.symbols[df.symbols$string.symbol=='FXNAX',]$pf_Fidelity <-  1.0/26.0\n",
    "\n",
    "# Inflation hedges\n",
    "df.symbols[df.symbols$string.symbol=='BFIGX',]$pf_LPL <-  4/26\n",
    "df.symbols[df.symbols$string.symbol=='GOLD',]$pf_LPL <-  4/26\n",
    "\n",
    "# Equity/Equity Linked\n",
    "df.symbols[df.symbols$string.symbol=='GSFTX',]$pf_LPL <-  3/26\n",
    "df.symbols[df.symbols$string.symbol=='PRWCX',]$pf_LPL <-  3/26\n",
    "df.symbols[df.symbols$string.symbol=='ADOZX',]$pf_LPL <-  3/26\n"
   ]
  },
  {
   "cell_type": "markdown",
   "metadata": {},
   "source": [
    "This part normalizes all the data, in case there is a typo or numerical rounding that results in somthing less than 100%\n"
   ]
  },
  {
   "cell_type": "code",
   "execution_count": null,
   "metadata": {},
   "outputs": [],
   "source": [
    "for (col_name in names(df.symbols)){\n",
    "  \n",
    "  if( length(grep('pf_', col_name))){\n",
    "    df.symbols[,col_name] <- df.symbols[,col_name] / sum(df.symbols[,col_name])\n",
    "  }\n",
    "  \n",
    "}\n"
   ]
  },
  {
   "cell_type": "markdown",
   "metadata": {},
   "source": [
    "Update the returns"
   ]
  },
  {
   "cell_type": "code",
   "execution_count": null,
   "metadata": {},
   "outputs": [],
   "source": [
    "df.data <- pfUpdateReturn(\"pf_Roth_Legacy\", df.data, df.symbols)\n",
    "df.data <- pfUpdateReturn(\"pf_Roth_IRA\", df.data, df.symbols)\n",
    "df.data <- pfUpdateReturn(\"pf_LPL\", df.data, df.symbols)"
   ]
  },
  {
   "cell_type": "markdown",
   "metadata": {},
   "source": [
    "# Display the portfolios"
   ]
  },
  {
   "cell_type": "markdown",
   "metadata": {},
   "source": [
    "\n",
    "Display the two portfolios. A great resource for kable formatting: https://haozhu233.github.io/kableExtra/awesome_table_in_html.html"
   ]
  },
  {
   "cell_type": "code",
   "execution_count": null,
   "metadata": {},
   "outputs": [],
   "source": [
    "string.colnames <- colnames(df.symbols);\n",
    "string.colnames[1] <- \"Symbol\"\n",
    "string.colnames[2] <- \"Source\"\n",
    "string.colnames[3] <- \"Description\"\n",
    "string.colnames[4] <- \"Label\"\n",
    "string.colnames[5] <- \"Expense Ratio (%)\"\n",
    "string.colnames[6] <- \"Series Start\"\n",
    "string.colnames[7] <- \"Expected Return\""
   ]
  },
  {
   "cell_type": "markdown",
   "metadata": {},
   "source": [
    "## Legacy portfolio\n",
    "\n",
    "### Portfolio description"
   ]
  },
  {
   "cell_type": "code",
   "execution_count": null,
   "metadata": {},
   "outputs": [],
   "source": [
    "kable(df.symbols[df.symbols$pf_Roth_Legacy > 0.0, ],\n",
    "      col.names = string.colnames,\n",
    "      digits = c(0, 0, 0, 0, 2, 0, 2, 2, 3, 3, 3, 4)) %>%\n",
    "  kable_styling(bootstrap_options = c(\"striped\", \"hover\")) %>%\n",
    "  as.character() %>%\n",
    "  display_html()"
   ]
  },
  {
   "cell_type": "markdown",
   "metadata": {},
   "source": [
    "### Time series analysis\n",
    "\n",
    "This one is performing much worse than I expected. Data in this section is for reference only."
   ]
  },
  {
   "cell_type": "code",
   "execution_count": null,
   "metadata": {},
   "outputs": [],
   "source": [
    "options(repr.plot.width = 9.7, repr.plot.height = 6, repr.plot.res = 600)\n",
    "datay.legacy <- \"NOBL.Close_Norm\"\n",
    "ylim <- c(0, 4)\n",
    "plotSingleBench(dfRecession, datay.legacy, ylim, df.symbols, df.data, string.analysis.start)"
   ]
  },
  {
   "cell_type": "code",
   "execution_count": null,
   "metadata": {},
   "outputs": [],
   "source": [
    "options(repr.plot.width = 9.7, repr.plot.height = 6, repr.plot.res = 600)\n",
    "datay.legacy <- \"pf_Roth_Legacy\"\n",
    "ylim <- c(0, 5)\n",
    "plotSingleBench(dfRecession, datay.legacy, ylim, df.symbols, df.data, string.analysis.start)"
   ]
  },
  {
   "cell_type": "markdown",
   "metadata": {},
   "source": [
    "### Risk return analysis\n",
    "\n",
    "This section plots the funds on return and volatility axis. An ideal fund would be in the upper left corner of the plot."
   ]
  },
  {
   "cell_type": "code",
   "execution_count": null,
   "metadata": {
    "scrolled": true
   },
   "outputs": [],
   "source": [
    "rrData.legacy <- plotReturnVolatility(datay.legacy, df.data, df.symbols)"
   ]
  },
  {
   "cell_type": "code",
   "execution_count": null,
   "metadata": {},
   "outputs": [],
   "source": [
    "options(repr.plot.width = 9.7, repr.plot.height = 6, repr.plot.res = 600)\n",
    "rrData.legacy[[2]]"
   ]
  },
  {
   "cell_type": "markdown",
   "metadata": {},
   "source": [
    "This table shows the portfolio. Column `r datay.legacy` shows the inputted portfolio and `r paste(datay.legacy,\"_Opt\", sep=\"\")` shows the portfolio with the same returns, but less risk."
   ]
  },
  {
   "cell_type": "code",
   "execution_count": null,
   "metadata": {},
   "outputs": [],
   "source": [
    "tblPort(rrData.legacy, datay.legacy)  %>%\n",
    "  as.character() %>%\n",
    "  display_html()"
   ]
  },
  {
   "cell_type": "code",
   "execution_count": null,
   "metadata": {},
   "outputs": [],
   "source": [
    " df.port <- rrData.legacy[[1]][c(\"string.symbol\", \"string.description\", \"date.series.start\", \"float.expense.ratio\",\n",
    "                      datay.legacy, paste(datay.legacy, \"_Opt\", sep = \"\"))]"
   ]
  },
  {
   "cell_type": "code",
   "execution_count": null,
   "metadata": {},
   "outputs": [],
   "source": [
    "rrData.legacy[[1]]"
   ]
  },
  {
   "cell_type": "markdown",
   "metadata": {},
   "source": [
    "Setup the optimized portfolio and display the time series"
   ]
  },
  {
   "cell_type": "code",
   "execution_count": null,
   "metadata": {},
   "outputs": [],
   "source": [
    "datay.legacy.opt <- \"pf_Roth_Legacy_Opt\"\n",
    "df.data <- pfUpdateReturn(datay.legacy.opt, df.data, df.symbols)"
   ]
  },
  {
   "cell_type": "code",
   "execution_count": null,
   "metadata": {},
   "outputs": [],
   "source": [
    "tail(df.data)"
   ]
  },
  {
   "cell_type": "code",
   "execution_count": null,
   "metadata": {
    "scrolled": true
   },
   "outputs": [],
   "source": [
    "options(repr.plot.width = 5.7, repr.plot.height = 4, repr.plot.res = 300)\n",
    "ylim <- c(0, 5)\n",
    "plotSingleBench(dfRecession, datay.legacy.opt, ylim, df.symbols, df.data, string.analysis.start)"
   ]
  },
  {
   "cell_type": "markdown",
   "metadata": {},
   "source": [
    "## IRA Roth Portfolio\n",
    "### Portfolio description"
   ]
  },
  {
   "cell_type": "code",
   "execution_count": null,
   "metadata": {},
   "outputs": [],
   "source": [
    "kable(df.symbols[df.symbols$pf_Roth_IRA > 0.0, ],\n",
    "      col.names = string.colnames,\n",
    "      digits = c(0, 0, 0, 0, 2, 0, 2, 2, 3, 3)) %>%\n",
    "  kable_styling(bootstrap_options = c(\"striped\", \"hover\")) %>%\n",
    "  as.character() %>%\n",
    "  display_html()"
   ]
  },
  {
   "cell_type": "markdown",
   "metadata": {},
   "source": [
    "### Time series analysis"
   ]
  },
  {
   "cell_type": "code",
   "execution_count": null,
   "metadata": {},
   "outputs": [],
   "source": [
    "options(repr.plot.width = 9.7, repr.plot.height = 6, repr.plot.res = 600)\n",
    "datay.legacy <- \"pf_Roth_IRA\"\n",
    "ylim <- c(0, 4)\n",
    "plotSingleBench(dfRecession, datay.legacy, ylim, df.symbols, df.data, string.analysis.start)"
   ]
  },
  {
   "cell_type": "markdown",
   "metadata": {},
   "source": [
    "### Risk return analysis\n",
    "\n",
    "This section plots the funds on return and volatility axis. An ideal fund would be in the upper left corner of the plot."
   ]
  },
  {
   "cell_type": "code",
   "execution_count": null,
   "metadata": {
    "scrolled": true
   },
   "outputs": [],
   "source": [
    "rrData.legacy <- plotReturnVolatility(datay.legacy, df.data, df.symbols)"
   ]
  },
  {
   "cell_type": "code",
   "execution_count": null,
   "metadata": {},
   "outputs": [],
   "source": [
    "options(repr.plot.width = 9.7, repr.plot.height = 6, repr.plot.res = 600)\n",
    "rrData.legacy[[2]]"
   ]
  },
  {
   "cell_type": "code",
   "execution_count": null,
   "metadata": {},
   "outputs": [],
   "source": [
    "tblPort(rrData.legacy, datay.legacy)  %>%\n",
    "  as.character() %>%\n",
    "  display_html()"
   ]
  },
  {
   "cell_type": "code",
   "execution_count": null,
   "metadata": {},
   "outputs": [],
   "source": [
    " df.port <- rrData.legacy[[1]][c(\"string.symbol\", \"string.description\", \"date.series.start\", \"float.expense.ratio\",\n",
    "                      datay.legacy, paste(datay.legacy, \"_Opt\", sep = \"\"))]"
   ]
  },
  {
   "cell_type": "code",
   "execution_count": null,
   "metadata": {},
   "outputs": [],
   "source": [
    "rrData.legacy[[1]]"
   ]
  },
  {
   "cell_type": "markdown",
   "metadata": {},
   "source": [
    "Setup the optimized portfolio and display the time series"
   ]
  },
  {
   "cell_type": "code",
   "execution_count": null,
   "metadata": {},
   "outputs": [],
   "source": [
    "datay.legacy.opt <- \"pf_Roth_IRA_Opt\"\n",
    "df.data <- pfUpdateReturn(datay.legacy.opt, df.data, df.symbols)"
   ]
  },
  {
   "cell_type": "code",
   "execution_count": null,
   "metadata": {},
   "outputs": [],
   "source": [
    "tail(df.data)"
   ]
  },
  {
   "cell_type": "code",
   "execution_count": null,
   "metadata": {
    "scrolled": false
   },
   "outputs": [],
   "source": [
    "options(repr.plot.width = 9.7, repr.plot.height = 6, repr.plot.res = 600)\n",
    "ylim <- c(0, 4)\n",
    "plotSingleBench(dfRecession, datay.legacy, ylim, df.symbols, df.data, string.analysis.start)"
   ]
  },
  {
   "cell_type": "markdown",
   "metadata": {},
   "source": [
    "### Stop loss bounds"
   ]
  },
  {
   "cell_type": "code",
   "execution_count": null,
   "metadata": {},
   "outputs": [],
   "source": [
    "# returns for the portfolio\n",
    "for (str.sym in rrData.legacy[[1]]$string.symbol){\n",
    "    \n",
    "    # Create the actual field names\n",
    "    str.sym.lookup <- paste(str.sym, '.Close', sep=\"\");\n",
    "    print(str.sym)\n",
    "    str.sym.store <- paste(str.sym, '.Close_ClCl', sep=\"\")\n",
    "    print(str.sym.store)\n",
    "    str.desc <- df.symbols[grep(paste('^',str.sym,'$', sep=\"\"), df.symbols$string.symbol),]$string.description\n",
    "    print(str.desc)\n",
    "    \n",
    "    df.data[str.sym.store] <- quantmod::ClCl(df.data[str.sym.lookup])*100\n",
    "    df.data[str.sym.store][is.na(df.data[str.sym.store])] <- 0\n",
    "    df.symbols <-\n",
    "      rbind(\n",
    "        df.symbols,\n",
    "        data.frame(\n",
    "          string.symbol = str.sym.store,\n",
    "          string.source = \"Calc\",\n",
    "          string.description =  paste(str.desc, '(ClCl)'),\n",
    "          string.label.y = \"Percent\",\n",
    "          float.expense.ratio = -1.00,\n",
    "          date.series.start = df.symbols[grep(paste('^',str.sym,'$', sep=\"\"), df.symbols$string.symbol),]$date.series.start,\n",
    "          date.series.end = df.symbols[grep(paste('^',str.sym,'$', sep=\"\"), df.symbols$string.symbol),]$date.series.end,\n",
    "          Max030 = FALSE,\n",
    "          Max180 = FALSE,\n",
    "          ExpReturn = 0,\n",
    "          Volatility = 0,\n",
    "          pf_Roth_Legacy = 0,\n",
    "          pf_Roth_IRA = 0,\n",
    "          pf_LPL = 0\n",
    "        )\n",
    "      )\n",
    "    \n",
    "}"
   ]
  },
  {
   "cell_type": "code",
   "execution_count": null,
   "metadata": {},
   "outputs": [],
   "source": [
    "options(repr.plot.width = 9.7, repr.plot.height = 9, repr.plot.res = 600)\n",
    "datay <- \"NOBL.Close_ClCl\"\n",
    "ylim <- c(-5, 10)\n",
    "b.legend <- FALSE\n",
    "b.percentile <- FALSE\n",
    "p1 <-\n",
    "  plotSingle(\n",
    "    dfRecession,\n",
    "    df.data,\n",
    "    \"date\",\n",
    "    datay,\n",
    "    getPlotTitle(df.symbols, datay),\n",
    "    \"Date\",\n",
    "    getPlotYLabel(df.symbols, datay),\n",
    "    c(dt.recent, Sys.Date()),\n",
    "    ylim,\n",
    "    b.legend,\n",
    "    b.percentile = TRUE\n",
    "  )\n",
    "\n",
    "datay <- \"SCHD.Close_ClCl\"\n",
    "ylim <- c(-5, 10)\n",
    "b.legend <- FALSE\n",
    "b.percentile <- TRUE\n",
    "p2 <-\n",
    "  plotSingle(\n",
    "    dfRecession,\n",
    "    df.data,\n",
    "    \"date\",\n",
    "    datay,\n",
    "    getPlotTitle(df.symbols, datay),\n",
    "    \"Date\",\n",
    "    getPlotYLabel(df.symbols, datay),\n",
    "    c(dt.recent, Sys.Date()),\n",
    "    ylim,\n",
    "    b.legend,\n",
    "    b.percentile\n",
    "  )\n",
    "\n",
    "datay <- \"GDX.Close_ClCl\"\n",
    "ylim <- c(-5, 10)\n",
    "b.legend <- TRUE\n",
    "b.percentile <- TRUE\n",
    "p3 <-\n",
    "  plotSingle(\n",
    "    dfRecession,\n",
    "    df.data,\n",
    "    \"date\",\n",
    "    datay,\n",
    "    getPlotTitle(df.symbols, datay),\n",
    "    \"Date\",\n",
    "    getPlotYLabel(df.symbols, datay),\n",
    "    c(dt.recent, Sys.Date()),\n",
    "    ylim,\n",
    "    b.legend,\n",
    "    b.percentile\n",
    "  )\n",
    "\n",
    "grid.arrange(p1, p2, p3, ncol = 1, top = \"Historical performance of IRA/ROTH portfolio\")"
   ]
  },
  {
   "cell_type": "markdown",
   "metadata": {},
   "source": [
    "## Amy's Fidelity Portfolio"
   ]
  },
  {
   "cell_type": "code",
   "execution_count": null,
   "metadata": {},
   "outputs": [],
   "source": [
    "kable(df.symbols[df.symbols$pf_Fidelity > 0.0, ],\n",
    "      col.names = string.colnames,\n",
    "      digits = c(0, 0, 0, 0, 2, 0, 2, 2, 3, 3)) %>%\n",
    "  kable_styling(bootstrap_options = c(\"striped\", \"hover\")) %>%\n",
    "  as.character() %>%\n",
    "  display_html()"
   ]
  },
  {
   "cell_type": "markdown",
   "metadata": {},
   "source": [
    "### Time series analysis"
   ]
  },
  {
   "cell_type": "code",
   "execution_count": null,
   "metadata": {},
   "outputs": [],
   "source": [
    "options(repr.plot.width = 9.7, repr.plot.height = 6, repr.plot.res = 600)\n",
    "datay.legacy <- \"pf_Fidelity\"\n",
    "ylim <- c(0, 5)\n",
    "plotSingleBench(dfRecession, datay.legacy, ylim, df.symbols, df.data, string.analysis.start)"
   ]
  },
  {
   "cell_type": "code",
   "execution_count": null,
   "metadata": {
    "scrolled": true
   },
   "outputs": [],
   "source": [
    "rrData <- plotReturnVolatility(datay.legacy, df.data, df.symbols)"
   ]
  },
  {
   "cell_type": "code",
   "execution_count": null,
   "metadata": {},
   "outputs": [],
   "source": [
    "options(repr.plot.width = 9.7, repr.plot.height = 6, repr.plot.res = 600)\n",
    "rrData[[2]]"
   ]
  },
  {
   "cell_type": "markdown",
   "metadata": {},
   "source": [
    "This table shows the portfolio. Column `r datay.legacy` shows the inputted portfolio and `r paste(datay.legacy,\"_Opt\", sep=\"\")` shows the portfolio with the same returns, but less risk."
   ]
  },
  {
   "cell_type": "code",
   "execution_count": null,
   "metadata": {},
   "outputs": [],
   "source": [
    "tblPort(rrData, datay.legacy)  %>%\n",
    "  as.character() %>%\n",
    "  display_html()"
   ]
  }
 ],
 "metadata": {
  "kernelspec": {
   "display_name": "R",
   "language": "R",
   "name": "ir"
  },
  "language_info": {
   "codemirror_mode": "r",
   "file_extension": ".r",
   "mimetype": "text/x-r-source",
   "name": "R",
   "pygments_lexer": "r",
   "version": "4.1.2"
  }
 },
 "nbformat": 4,
 "nbformat_minor": 2
}
