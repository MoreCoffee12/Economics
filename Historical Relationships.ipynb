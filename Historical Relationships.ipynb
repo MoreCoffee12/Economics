{
 "cells": [
  {
   "cell_type": "markdown",
   "metadata": {},
   "source": [
    "# Unemployment Models\n"
   ]
  },
  {
   "cell_type": "code",
   "execution_count": 1,
   "metadata": {},
   "outputs": [
    {
     "name": "stderr",
     "output_type": "stream",
     "text": [
      "Loading required package: MASS\n",
      "\n",
      "Loading required package: HistData\n",
      "\n",
      "Loading required package: Hmisc\n",
      "\n",
      "Loading required package: lattice\n",
      "\n",
      "Loading required package: survival\n",
      "\n",
      "Loading required package: Formula\n",
      "\n",
      "Loading required package: ggplot2\n",
      "\n",
      "\n",
      "Attaching package: 'Hmisc'\n",
      "\n",
      "\n",
      "The following objects are masked from 'package:base':\n",
      "\n",
      "    format.pval, units\n",
      "\n",
      "\n",
      "\n",
      "Attaching package: 'UsingR'\n",
      "\n",
      "\n",
      "The following object is masked from 'package:survival':\n",
      "\n",
      "    cancer\n",
      "\n",
      "\n",
      "Loading required package: xts\n",
      "\n",
      "Loading required package: zoo\n",
      "\n",
      "\n",
      "Attaching package: 'zoo'\n",
      "\n",
      "\n",
      "The following objects are masked from 'package:base':\n",
      "\n",
      "    as.Date, as.Date.numeric\n",
      "\n",
      "\n",
      "Loading required package: TTR\n",
      "\n",
      "Registered S3 method overwritten by 'quantmod':\n",
      "  method            from\n",
      "  as.zoo.data.frame zoo \n",
      "\n",
      "Version 0.4-0 included new data defaults. See ?getSymbols.\n",
      "\n",
      "\n",
      "Attaching package: 'quantmod'\n",
      "\n",
      "\n",
      "The following object is masked from 'package:Hmisc':\n",
      "\n",
      "    Lag\n",
      "\n",
      "\n",
      "\n",
      "Attaching package: 'signal'\n",
      "\n",
      "\n",
      "The following objects are masked from 'package:stats':\n",
      "\n",
      "    filter, poly\n",
      "\n",
      "\n",
      "corrplot 0.84 loaded\n",
      "\n",
      "\n",
      "Attaching package: 'caret'\n",
      "\n",
      "\n",
      "The following object is masked from 'package:survival':\n",
      "\n",
      "    cluster\n",
      "\n",
      "\n",
      "randomForest 4.6-14\n",
      "\n",
      "Type rfNews() to see new features/changes/bug fixes.\n",
      "\n",
      "\n",
      "Attaching package: 'randomForest'\n",
      "\n",
      "\n",
      "The following object is masked from 'package:gridExtra':\n",
      "\n",
      "    combine\n",
      "\n",
      "\n",
      "The following object is masked from 'package:ggplot2':\n",
      "\n",
      "    margin\n",
      "\n",
      "\n",
      "Loading required package: XML\n",
      "\n",
      "\n",
      "Attaching package: 'XML'\n",
      "\n",
      "\n",
      "The following object is masked from 'package:tools':\n",
      "\n",
      "    toHTML\n",
      "\n",
      "\n",
      "\n",
      "Attaching package: 'data.table'\n",
      "\n",
      "\n",
      "The following objects are masked from 'package:xts':\n",
      "\n",
      "    first, last\n",
      "\n",
      "\n",
      "\n",
      "Attaching package: 'plotly'\n",
      "\n",
      "\n",
      "The following object is masked from 'package:signal':\n",
      "\n",
      "    filter\n",
      "\n",
      "\n",
      "The following object is masked from 'package:Hmisc':\n",
      "\n",
      "    subplot\n",
      "\n",
      "\n",
      "The following object is masked from 'package:ggplot2':\n",
      "\n",
      "    last_plot\n",
      "\n",
      "\n",
      "The following object is masked from 'package:MASS':\n",
      "\n",
      "    select\n",
      "\n",
      "\n",
      "The following object is masked from 'package:stats':\n",
      "\n",
      "    filter\n",
      "\n",
      "\n",
      "The following object is masked from 'package:graphics':\n",
      "\n",
      "    layout\n",
      "\n",
      "\n"
     ]
    }
   ],
   "source": [
    "library(UsingR)\n",
    "library(quantmod)\n",
    "library(ggplot2)\n",
    "library(grid)\n",
    "library(gridExtra)\n",
    "library(knitr)\n",
    "library(kableExtra)\n",
    "library(tools)\n",
    "library(zoo)\n",
    "library(signal)\n",
    "library(stringr)\n",
    "library(corrplot)\n",
    "library(caret)\n",
    "library(rpart)\n",
    "library(rpart.plot)\n",
    "library(randomForest)\n",
    "library(Quandl)\n",
    "library(nnet)\n",
    "library(readr)\n",
    "#library(devtools)\n",
    "#install_github(\"andrewuhl/RollingWindow\")\n",
    "library(RollingWindow)\n",
    "#install.packages(\"EIAdata\")\n",
    "library(EIAdata)\n",
    "library(gtable)\n",
    "library(data.table)\n",
    "library(readxl)\n",
    "library(plotly)"
   ]
  },
  {
   "cell_type": "markdown",
   "metadata": {},
   "source": [
    "Call helper functions"
   ]
  },
  {
   "cell_type": "code",
   "execution_count": 2,
   "metadata": {},
   "outputs": [],
   "source": [
    "source(\"plotHelper.r\")"
   ]
  },
  {
   "cell_type": "markdown",
   "metadata": {},
   "source": [
    "Define the source of the data (local or web) and whether to update the models."
   ]
  },
  {
   "cell_type": "code",
   "execution_count": 3,
   "metadata": {},
   "outputs": [],
   "source": [
    "b.refresh.models = FALSE"
   ]
  },
  {
   "cell_type": "markdown",
   "metadata": {},
   "source": [
    "Define the plotting ranges and vertical defaults"
   ]
  },
  {
   "cell_type": "code",
   "execution_count": 4,
   "metadata": {},
   "outputs": [],
   "source": [
    "dt.recent = as.Date(\"2017-01-01\")\n",
    "d.GSPC.max = 3500"
   ]
  },
  {
   "cell_type": "markdown",
   "metadata": {},
   "source": [
    "Load up the off-line data"
   ]
  },
  {
   "cell_type": "code",
   "execution_count": 5,
   "metadata": {},
   "outputs": [],
   "source": [
    "load(\"C:/Users/Rainy/OneDrive//RecessionIndicator_Buffer.RData\")"
   ]
  },
  {
   "cell_type": "markdown",
   "metadata": {},
   "source": [
    "This snippet is needed because some of the ticker symbols include are invalid variable names so re-cast those variable names."
   ]
  },
  {
   "cell_type": "code",
   "execution_count": 6,
   "metadata": {},
   "outputs": [],
   "source": [
    "df.symbols$string.symbol <-\n",
    "  str_replace_all(df.symbols$string.symbol, \"[^[:alnum:]]\", \"\")"
   ]
  },
  {
   "cell_type": "markdown",
   "metadata": {},
   "source": [
    "Do the interpolation to daily samples and tidy the data"
   ]
  },
  {
   "cell_type": "code",
   "execution_count": 7,
   "metadata": {},
   "outputs": [],
   "source": [
    "source(\"calcInterpolate.r\")"
   ]
  },
  {
   "cell_type": "code",
   "execution_count": 8,
   "metadata": {},
   "outputs": [
    {
     "name": "stderr",
     "output_type": "stream",
     "text": [
      "Warning message in merge.xts(xtsData, get(df.symbols$string.symbol[idx])):\n",
      "\"NAs introduced by coercion\"\n"
     ]
    }
   ],
   "source": [
    "df.data <- calcInterpolate(df.data, df.symbols)"
   ]
  },
  {
   "cell_type": "markdown",
   "metadata": {},
   "source": [
    "Truncate the data. A very few data series do go back to 1854, but most don't even go past WWII so truncate the dataframe"
   ]
  },
  {
   "cell_type": "code",
   "execution_count": 9,
   "metadata": {},
   "outputs": [],
   "source": [
    "df.data <- df.data[as.Date(rownames(df.data)) > as.Date(\"1940-01-01\"),]"
   ]
  },
  {
   "cell_type": "markdown",
   "metadata": {},
   "source": [
    "Create aggreagate data series\n",
    "Some analysis requires that two or more series be combined. For example, normallizing debt by GDP to get a sense of the proportion of debt to the total economy helps understand the debt cycle."
   ]
  },
  {
   "cell_type": "code",
   "execution_count": 10,
   "metadata": {},
   "outputs": [],
   "source": [
    "source(\"calcAggregateSeries.r\")"
   ]
  },
  {
   "cell_type": "markdown",
   "metadata": {},
   "source": [
    "Calculate the year-over-year, 50 day moving average, and other features in the data"
   ]
  },
  {
   "cell_type": "code",
   "execution_count": 11,
   "metadata": {},
   "outputs": [],
   "source": [
    "source(\"calcFeatures.r\")"
   ]
  },
  {
   "cell_type": "code",
   "execution_count": null,
   "metadata": {},
   "outputs": [],
   "source": [
    "lst.df <- calcFeatures(df.data, df.symbols)\n",
    "df.data <- lst.df[[1]]\n",
    "df.symbols <- lst.df[[2]]"
   ]
  },
  {
   "cell_type": "markdown",
   "metadata": {},
   "source": [
    "These are auxilliary series that use the YoY and smoothed data."
   ]
  },
  {
   "cell_type": "code",
   "execution_count": null,
   "metadata": {},
   "outputs": [],
   "source": [
    "source(\"calcFeaturesAggregate.r\")"
   ]
  },
  {
   "cell_type": "markdown",
   "metadata": {},
   "source": [
    "Build the recession data frame"
   ]
  },
  {
   "cell_type": "code",
   "execution_count": null,
   "metadata": {},
   "outputs": [],
   "source": [
    "source(\"calcRecession.r\")"
   ]
  },
  {
   "cell_type": "markdown",
   "metadata": {},
   "source": [
    "\n",
    "## Historical statistics\n",
    "\n",
    "### Year over year\n",
    "\n",
    "\n",
    "How much did the market change in a year, or 4, or 5? This data is used to evaluate the probability of a XX% decline in a certain period.\n",
    "\n",
    "Start with year-over-year"
   ]
  },
  {
   "cell_type": "code",
   "execution_count": null,
   "metadata": {},
   "outputs": [],
   "source": [
    "options(repr.plot.width = 9.7, repr.plot.height = 6, repr.plot.res = 600)\n",
    "datay.in <- \"GSPC.Close_YoY\"\n",
    "datay.aux.1 <- \"DJI.Close_YoY\"\n",
    "datay.aux.2 <- \"RLG.Close_YoY\"\n",
    "ylim.in <- c(-75, 75)\n",
    "dt.start <- as.Date('1940-01-01')\n",
    "p1 <- plotSingle(datadf_rec=dfRecession,\n",
    "           datadf=df.data,\n",
    "           datax=\"date\",\n",
    "           datay = datay.in,\n",
    "           titlelabel = getPlotTitle(df.symbols, datay.in),\n",
    "           xlabel = \"Date\",\n",
    "           ylabel = getPlotYLabel(df.symbols, datay.in),\n",
    "           xlim = c(dt.start, Sys.Date()),\n",
    "           ylim = ylim.in,\n",
    "           b.legend = TRUE,\n",
    "           b.percentile = TRUE,\n",
    "           b.long.legend = TRUE) \n",
    "p1 <-p1 + geom_line(\n",
    "  data = df.data,\n",
    "  aes_string(\n",
    "    x = \"date\",\n",
    "    y = datay.aux.1,\n",
    "    colour = shQuote(datay.aux.1)\n",
    "  ),\n",
    "  na.rm = TRUE\n",
    ")\n",
    "\n",
    "p1 + geom_line(\n",
    "  data = df.data,\n",
    "  aes_string(\n",
    "    x = \"date\",\n",
    "    y = datay.aux.2,\n",
    "    colour = shQuote(datay.aux.2)\n",
    "  ),\n",
    "  na.rm = TRUE\n",
    ")"
   ]
  },
  {
   "cell_type": "code",
   "execution_count": null,
   "metadata": {},
   "outputs": [],
   "source": [
    "options(repr.plot.width = 9.7, repr.plot.height = 6, repr.plot.res = 600)\n",
    "datay.in <- \"GSPC.Close_YoY\"\n",
    "datay.aux.1 <- \"STOXX50E.Close_YoY\"\n",
    "datay.aux.2 <- \"EFA.Close_YoY\"\n",
    "ylim.in <- c(-75, 75)\n",
    "dt.start <- as.Date('2000-01-01')\n",
    "p1 <- plotSingle(datadf_rec=dfRecession,\n",
    "           datadf=df.data,\n",
    "           datax=\"date\",\n",
    "           datay = datay.in,\n",
    "           titlelabel = getPlotTitle(df.symbols, datay.in),\n",
    "           xlabel = \"Date\",\n",
    "           ylabel = getPlotYLabel(df.symbols, datay.in),\n",
    "           xlim = c(dt.start, Sys.Date()),\n",
    "           ylim = ylim.in,\n",
    "           b.legend = TRUE,\n",
    "           b.percentile = TRUE,\n",
    "           b.long.legend = TRUE) \n",
    "p1 <-p1 + geom_line(\n",
    "  data = df.data,\n",
    "  aes_string(\n",
    "    x = \"date\",\n",
    "    y = datay.aux.1,\n",
    "    colour = shQuote(datay.aux.1)\n",
    "  ),\n",
    "  na.rm = TRUE\n",
    ")\n",
    "\n",
    "p1 + geom_line(\n",
    "  data = df.data,\n",
    "  aes_string(\n",
    "    x = \"date\",\n",
    "    y = datay.aux.2,\n",
    "    colour = shQuote(datay.aux.2)\n",
    "  ),\n",
    "  na.rm = TRUE\n",
    ")"
   ]
  },
  {
   "cell_type": "markdown",
   "metadata": {},
   "source": [
    "## Unployment models\n",
    "\n",
    "### Labor force normalization\n",
    "\n",
    "The BLS statistics (U3, U6, etc.) calculates labor force by summing the number of employed and unemployed people (https://www.bls.gov/cps/lfcharacteristics.htm#laborforce). The problem is that when the survey is troubled, as it was during Covid19, the labor force shows a sudden drop. For example, during the Covid19 outbreak in the spring of 2020 the labor force dropped from 164MM to 155MM. In reality, the labor force did not really drop by this much. In other words there were approximately the same number of people who wanted to work on March 1st of 2020 as there were on June 1st of 2020.\n",
    "\n",
    "This makes the BLS measures of labor force less useful when I want to normalized by working force population. To get around this I do a linear fit of BLS labor force to general U.S. population (POPTHM) and take the slope of that fit as the average labor force participation rate. I then multiply POPTHM this value to get a constant labor force rate. This has some drawbacks, especially in that it cannot account for demographic shifts. But it should be an okay first order approximation."
   ]
  },
  {
   "cell_type": "code",
   "execution_count": null,
   "metadata": {},
   "outputs": [],
   "source": [
    "options(repr.plot.width = 9.7, repr.plot.height = 6, repr.plot.res = 600)\n",
    "datay.in <- \"GSPC.Close_YoY\"\n",
    "datay.aux.1 <- \"DJI.Close_YoY\"\n",
    "datay.aux.2 <- \"RLG.Close_YoY\"\n",
    "ylim.in <- c(-75, 75)\n",
    "dt.start <- as.Date('1940-01-01')\n",
    "p1 <- plotSingle(datadf_rec=dfRecession,\n",
    "           datadf=df.data,\n",
    "           datax=\"date\",\n",
    "           datay = datay.in,\n",
    "           titlelabel = \"Equity performance, YoY\",\n",
    "           xlabel = \"Date\",\n",
    "           ylabel = getPlotYLabel(df.symbols, datay.in),\n",
    "           xlim = c(dt.start, Sys.Date()),\n",
    "           ylim = ylim.in,\n",
    "           b.legend = TRUE,\n",
    "           b.percentile = TRUE,\n",
    "           b.long.legend = TRUE) \n",
    "p1 <-p1 + geom_line(\n",
    "  data = df.data,\n",
    "  aes_string(\n",
    "    x = \"date\",\n",
    "    y = datay.aux.1,\n",
    "    colour = shQuote(datay.aux.1)\n",
    "  ),\n",
    "  na.rm = TRUE\n",
    ")\n",
    "\n",
    "p1 + geom_line(\n",
    "  data = df.data,\n",
    "  aes_string(\n",
    "    x = \"date\",\n",
    "    y = datay.aux.2,\n",
    "    colour = shQuote(datay.aux.2)\n",
    "  ),\n",
    "  na.rm = TRUE\n",
    ")"
   ]
  },
  {
   "cell_type": "code",
   "execution_count": null,
   "metadata": {},
   "outputs": [],
   "source": [
    "datay.in <- \"GSPC.Close_YoY4\"\n",
    "datay.aux.1 <- \"DJI.Close_YoY4\"\n",
    "datay.aux.2 <- \"RLG.Close_YoY4\"\n",
    "ylim.in <- c(-100, 200)\n",
    "dt.start <- as.Date('1940-01-01')\n",
    "p1 <- plotSingle(datadf_rec=dfRecession,\n",
    "           datadf=df.data,\n",
    "           datax=\"date\",\n",
    "           datay = datay.in,\n",
    "           titlelabel = \"4 Year - 4 Year change, GSPC, DJI, RLS\",\n",
    "           xlabel = \"Date\",\n",
    "           ylabel = getPlotYLabel(df.symbols, datay.in),\n",
    "           xlim = c(dt.start, Sys.Date()),\n",
    "           ylim = ylim.in,\n",
    "           b.legend = TRUE,\n",
    "           b.percentile = TRUE,\n",
    "           b.long.legend = TRUE) \n",
    "p1 <-p1 + geom_line(\n",
    "  data = df.data,\n",
    "  aes_string(\n",
    "    x = \"date\",\n",
    "    y = datay.aux.1,\n",
    "    colour = shQuote(getPlotTitle(df.symbols, datay.aux.1))\n",
    "  ),\n",
    "  na.rm = TRUE\n",
    ")\n",
    "p1 <- p1 + geom_hline(yintercept = -40,\n",
    "                      linetype = \"dashed\",\n",
    "                      color = \"red\")\n",
    "p1 + geom_line(\n",
    "  data = df.data,\n",
    "  aes_string(\n",
    "    x = \"date\",\n",
    "    y = datay.aux.2,\n",
    "    colour = shQuote(getPlotTitle(df.symbols, datay.aux.2))\n",
    "  ),\n",
    "  na.rm = TRUE\n",
    ")"
   ]
  },
  {
   "cell_type": "code",
   "execution_count": null,
   "metadata": {},
   "outputs": [],
   "source": [
    "data.hist <- df.data$GSPC.Close_YoY4[df.data$date>dt.start]\n",
    "data.hist <- data.hist[abs(data.hist)>0]\n",
    "my.h <- hist(data.hist,breaks=500,main=\"S&P 500 4 year returns\")\n",
    "abline(v = median(data.hist), col = \"blue\", lwd = 2)\n",
    "my.h$counts=100*my.h$counts/sum(my.h$counts)"
   ]
  },
  {
   "cell_type": "markdown",
   "metadata": {},
   "source": [
    "Really interested in how likely a 40% decline is 4 years after a peak"
   ]
  },
  {
   "cell_type": "code",
   "execution_count": null,
   "metadata": {},
   "outputs": [],
   "source": [
    "datay1 <- \"GSPC.Open\"\n",
    "ylim1 <- c(0, d.GSPC.max)\n",
    "\n",
    "datay2 <- \"GSPC.Close_YoY4\"\n",
    "ylim2 <- c(-100, 200)\n",
    "\n",
    "dtStart <- as.Date(\"1jan2003\",\"%d%b%Y\")\n",
    "\n",
    "w <- 365\n",
    "corrName <- calcRollingCorr(dfRecession, df.data, df.symbols, datay1, ylim1, datay2, ylim2, w, dtStart)\n"
   ]
  },
  {
   "cell_type": "code",
   "execution_count": null,
   "metadata": {},
   "outputs": [],
   "source": [
    "datay.in <- \"GSPC.Close_YoY5\"\n",
    "datay.aux.1 <- \"DJI.Close_YoY5\"\n",
    "datay.aux.2 <- \"RLG.Close_YoY5\"\n",
    "ylim.in <- c(-100, 300)\n",
    "dt.start <- as.Date('1930-01-01')\n",
    "p1 <- plotSingle(datadf_rec=dfRecession,\n",
    "           datadf=df.data,\n",
    "           datax=\"date\",\n",
    "           datay = datay.in,\n",
    "           titlelabel = \"5 Year - 5 Year change, GSPC, DJI, RLS\",\n",
    "           xlabel = \"Date\",\n",
    "           ylabel = getPlotYLabel(df.symbols, datay.in),\n",
    "           xlim = c(dt.start, Sys.Date()),\n",
    "           ylim = ylim.in,\n",
    "           b.legend = TRUE,\n",
    "           b.percentile = TRUE,\n",
    "           b.long.legend = TRUE) \n",
    "p1 <-p1 + geom_line(\n",
    "  data = df.data,\n",
    "  aes_string(\n",
    "    x = \"date\",\n",
    "    y = datay.aux.1,\n",
    "    colour = shQuote(getPlotTitle(df.symbols, datay.aux.1))\n",
    "  ),\n",
    "  na.rm = TRUE\n",
    ")\n",
    "p1 <- p1 + geom_hline(yintercept = -40,\n",
    "                      linetype = \"dashed\",\n",
    "                      color = \"red\")\n",
    "p1 + geom_line(\n",
    "  data = df.data,\n",
    "  aes_string(\n",
    "    x = \"date\",\n",
    "    y = datay.aux.2,\n",
    "    colour = shQuote(getPlotTitle(df.symbols, datay.aux.2))\n",
    "  ),\n",
    "  na.rm = TRUE\n",
    ")"
   ]
  },
  {
   "cell_type": "code",
   "execution_count": null,
   "metadata": {},
   "outputs": [],
   "source": [
    "data.hist <- df.data$GSPC.Close_YoY5[df.data$date>dt.start]\n",
    "data.hist <- data.hist[abs(data.hist)>0]\n",
    "my.h <- hist(data.hist,breaks=500,main=\"S&P 500 5 year returns\")\n",
    "abline(v = median(data.hist), col = \"blue\", lwd = 2)\n",
    "my.h$counts=100*my.h$counts/sum(my.h$counts)"
   ]
  },
  {
   "cell_type": "code",
   "execution_count": null,
   "metadata": {},
   "outputs": [],
   "source": [
    "data.hist <- df.data$STOXX50E.Open_YoY5[df.data$date>dt.start]\n",
    "data.hist <- data.hist[abs(data.hist)>0]\n",
    "data.med <- median(data.hist)\n",
    "my.h <- hist(data.hist,breaks=500,\n",
    "             main=paste(\"Euro Stoxx 50 5 year returns. Median value:\",format(round(data.med, 2), nsmall = 2)))\n",
    "abline(v = data.med, col = \"blue\", lwd = 2)\n",
    "my.h$counts=100*my.h$counts/sum(my.h$counts)"
   ]
  },
  {
   "cell_type": "code",
   "execution_count": null,
   "metadata": {},
   "outputs": [],
   "source": [
    "datay1 <- \"GSPC.Open\"\n",
    "ylim1 <- c(0, d.GSPC.max)\n",
    "\n",
    "datay2 <- \"GSPC.Close_YoY5\"\n",
    "ylim2 <- c(-100, 250)\n",
    "\n",
    "dtStart <- as.Date(\"1jan1993\",\"%d%b%Y\")\n",
    "\n",
    "w <- 365\n",
    "corrName <- calcRollingCorr(dfRecession, df.data, df.symbols, datay1, ylim1, datay2, ylim2, w, dtStart)\n"
   ]
  },
  {
   "cell_type": "markdown",
   "metadata": {},
   "source": [
    "Compare the 1-, 4- and 5- year returns for the S&P"
   ]
  },
  {
   "cell_type": "code",
   "execution_count": null,
   "metadata": {},
   "outputs": [],
   "source": [
    "datay.in <- \"GSPC.Close_YoY\"\n",
    "datay.aux.1 <- \"GSPC.Close_YoY4\"\n",
    "datay.aux.2 <- \"GSPC.Close_YoY5\"\n",
    "ylim.in <- c(-75, 250)\n",
    "dt.start <- as.Date('1940-01-01')\n",
    "p1 <- plotSingle(datadf_rec=dfRecession,\n",
    "           datadf=df.data,\n",
    "           datax=\"date\",\n",
    "           datay = datay.in,\n",
    "           titlelabel = \"S&P 500, 1-, 4- and 5-YoY growth\",\n",
    "           xlabel = \"Date\",\n",
    "           ylabel = getPlotYLabel(df.symbols, datay.in),\n",
    "           xlim = c(dt.start, Sys.Date()),\n",
    "           ylim = ylim.in,\n",
    "           b.legend = TRUE,\n",
    "           b.percentile = TRUE,\n",
    "           b.long.legend = TRUE) \n",
    "p1 <-p1 + geom_line(\n",
    "  data = df.data,\n",
    "  aes_string(\n",
    "    x = \"date\",\n",
    "    y = df.data[[datay.aux.1]],\n",
    "    colour = shQuote(datay.aux.1)\n",
    "  ),\n",
    "  na.rm = TRUE\n",
    ")\n",
    "p1 <- p1 + geom_hline(yintercept = -40,\n",
    "                      linetype = \"dashed\",\n",
    "                      color = \"red\")\n",
    "\n",
    "p1 + geom_line(\n",
    "  data = df.data,\n",
    "  aes_string(\n",
    "    x = \"date\",\n",
    "    y = datay.aux.2,\n",
    "    colour = shQuote(datay.aux.2)\n",
    "  ),\n",
    "  na.rm = TRUE\n",
    ")"
   ]
  },
  {
   "cell_type": "code",
   "execution_count": null,
   "metadata": {},
   "outputs": [],
   "source": [
    "head(df.data)"
   ]
  },
  {
   "cell_type": "code",
   "execution_count": null,
   "metadata": {},
   "outputs": [],
   "source": [
    "2.0^0.25"
   ]
  },
  {
   "cell_type": "code",
   "execution_count": null,
   "metadata": {},
   "outputs": [],
   "source": [
    "1.5^0.2"
   ]
  },
  {
   "cell_type": "code",
   "execution_count": null,
   "metadata": {},
   "outputs": [],
   "source": []
  }
 ],
 "metadata": {
  "kernelspec": {
   "display_name": "R",
   "language": "R",
   "name": "ir"
  },
  "language_info": {
   "codemirror_mode": "r",
   "file_extension": ".r",
   "mimetype": "text/x-r-source",
   "name": "R",
   "pygments_lexer": "r",
   "version": "3.6.3"
  }
 },
 "nbformat": 4,
 "nbformat_minor": 2
}
