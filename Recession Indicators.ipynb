{
 "cells": [
  {
   "cell_type": "markdown",
   "metadata": {},
   "source": [
    "The derivative data suggests a way to improve the indicator by adding a single rule: if there is a negative slope zero crossing before the default training period, move the training date to that point. This approach will allow the algorithm to capture more of the gains of the market. It is also going to be a more challenging fit."
   ]
  },
  {
   "cell_type": "code",
   "execution_count": null,
   "metadata": {},
   "outputs": [],
   "source": [
    "dPeakGSPC <- diff(sign(df.data$GSPC.Open_SmoothDer))\n",
    "dPeakGSPC <- append(dPeakGSPC, tail(dPeakGSPC,1))\n",
    "df.data$dPeakGSPC <- dPeakGSPC\n",
    "\n",
    "# keep only the negative slopes and get rid of any dates\n",
    "# while the fixed recession indicator is zero\n",
    "df.data$dPeakGSPC[df.data$dPeakGSPC>0] <- 0\n",
    "df.data$dPeakGSPC <- (df.data$dPeakGSPC * df.data$RecInit)\n",
    "dtPeakRec <- df.data$date[which(df.data$dPeakGSPC<0)]\n",
    "\n",
    "dfRecession$initStartMod <- dfRecession$initStart\n",
    "for (idxRec in 1: nrow(dfRecession)){\n",
    "  for( idx in 1:length(dtPeakRec)){\n",
    "    \n",
    "    if( dtPeakRec[idx]>dfRecession$initStart[idxRec] & dtPeakRec[idx]<dfRecession$initEnd[idxRec] ){\n",
    "      \n",
    "      dfRecession$initStartMod[idxRec] <- dtPeakRec[idx]\n",
    "\n",
    "    }\n",
    "    \n",
    "  }\n",
    "}\n",
    "\n",
    "dfRecession$initEndMod <- dfRecession$start + floor((dfRecession$end-dfRecession$start)/2)\n",
    "\n",
    "# Add the recession initiation date as a time series\n",
    "df.data$RecInitMod <- rep(0, nrow(df.data))\n",
    "\n",
    "for (idx in 1:nrow(dfRecession)) {\n",
    "  df.data$RecInitMod[which(df.data$date > dfRecession$initStartMod[idx] &\n",
    "                            df.data$date < dfRecession$initEndMod[idx])] = 1\n",
    "}\n",
    "df.symbols <-\n",
    "  rbind(\n",
    "    df.symbols,\n",
    "    data.frame(\n",
    "      string.symbol = \"RecInitMod\",\n",
    "      string.source = \"Calc\",\n",
    "      string.description =  \"1 for Recession Initiation Period, 0 For All Else (Modified)\",\n",
    "      string.label.y = \"(-)\",\n",
    "      float.expense.ratio = -1.00,\n",
    "      Max030 = FALSE,\n",
    "      Max180 = FALSE,\n",
    "      date.series.start = as.Date(df.data$date[1]),\n",
    "      date.series.end = as.Date(tail(df.data$date, 1))\n",
    "    )\n",
    "  )\n",
    "\n",
    "\n",
    "datay <- \"RecInitMod\"\n",
    "ylim <- c(0.00, 1.00)\n",
    "myPlot <- plotSingle(dfRecession, df.data, \"date\", \n",
    "                     datay, paste(datay, \" | \", df.symbols[grep(paste(\"^\",datay,\"$\", sep=\"\"), df.symbols$string.symbol),]$string.description), \n",
    "                     \"Date\", df.symbols[grep(paste(\"^\",datay,\"$\", sep=\"\"), df.symbols$string.symbol),]$yLabel, \n",
    "                     c(as.Date(\"1jan1945\",\"%d%b%Y\"), Sys.Date()), ylim, FALSE)\n",
    "myPlot + geom_rect(data=dfRecession,  aes(xmin=initStartMod, xmax=initEndMod, ymin=-Inf, ymax=Inf),\n",
    "              fill=\"green\", alpha=0.25, na.rm = TRUE)\n",
    "\n",
    "datay <- \"GSPC.Open_Log_SmoothDer\"\n",
    "ylim <- c(-0.0025, 0.0025)\n",
    "myPlot <- plotSingle(dfRecession, df.data, \"date\", \n",
    "                     datay, paste(datay, \" | \", df.symbols[grep(paste(\"^\",datay,\"$\", sep=\"\"), df.symbols$string.symbol),]$string.description), \n",
    "                     \"Date\", df.symbols[grep(paste(\"^\",datay,\"$\", sep=\"\"), df.symbols$string.symbol),]$yLabel, \n",
    "                     c(as.Date(\"1jan1945\",\"%d%b%Y\"), Sys.Date()), ylim, FALSE)\n",
    "myPlot + geom_rect(data=dfRecession,  aes(xmin=initStartMod, xmax=initEndMod, ymin=-Inf, ymax=Inf),\n",
    "              fill=\"green\", alpha=0.25, na.rm = TRUE)"
   ]
  },
  {
   "cell_type": "code",
   "execution_count": null,
   "metadata": {},
   "outputs": [],
   "source": [
    "datay <- \"GSPC.Open_Log_SmoothDerDer\"\n",
    "ylim <- c(-0.000025, 0.000025)\n",
    "myPlot <- plotSingleQuick(dfRecession, df.data, datay, ylim)\n",
    "myPlot + geom_rect(data=dfRecession,  aes(xmin=initStartMod, xmax=initEndMod, ymin=-Inf, ymax=Inf),\n",
    "              fill=\"green\", alpha=0.25, na.rm = TRUE)"
   ]
  },
  {
   "cell_type": "markdown",
   "metadata": {},
   "source": [
    "Take a look at year-over-year as related to the recessions"
   ]
  },
  {
   "cell_type": "code",
   "execution_count": null,
   "metadata": {},
   "outputs": [],
   "source": [
    "datay <- \"GSPC.Open_YoY\"\n",
    "ylim <- c(-75, 50)\n",
    "dt.start <- as.Date(\"1jan1950\", \"%d%b%Y\")\n",
    "b.percentile <- TRUE\n",
    "plotSingleQuick(dfRecession, df.data, datay, ylim, dt.start, b.percentile)"
   ]
  },
  {
   "cell_type": "markdown",
   "metadata": {},
   "source": [
    "# Prior art"
   ]
  },
  {
   "cell_type": "markdown",
   "metadata": {},
   "source": [
    "There are some models out there with claims to predict recessions. This section summarizes some of those."
   ]
  },
  {
   "cell_type": "markdown",
   "metadata": {},
   "source": [
    "## NY Federal Reserve"
   ]
  },
  {
   "cell_type": "markdown",
   "metadata": {},
   "source": [
    "I really like this for the simplicity; however, it is recently not the best predictor. Refer to the website https://www.newyorkfed.org/research/capital_markets/ycfaq.html for details. I had to read through the reference papers to understand how the alpha and beta factors were used. \n",
    "\n",
    "The fed shifts their data so the predictor aligns with the recessions; however I wanted the predictor to appear before the recessions so I do not shift it."
   ]
  },
  {
   "cell_type": "code",
   "execution_count": null,
   "metadata": {},
   "outputs": [],
   "source": [
    "pdf(file = paste(\"Fed_Model\",\".pdf\",sep=\"\"),  width = 8, height = 6)   \n",
    "\n",
    "datay <- \"nyfed.recession\"\n",
    "ylim <- c(0, 1)\n",
    "myPlot <- plotSingleQuick(dfRecession, df.data, datay, ylim)\n",
    "dev.off()\n",
    "\n",
    "myPlot\n",
    "\n"
   ]
  },
  {
   "cell_type": "markdown",
   "metadata": {},
   "source": [
    "# Machine Learning"
   ]
  },
  {
   "cell_type": "markdown",
   "metadata": {},
   "source": [
    "## Select data and date range for testing"
   ]
  },
  {
   "cell_type": "markdown",
   "metadata": {},
   "source": [
    "The data series have different start dates and they are not updated at the same time. This bit of code selects a valid data range to develop the model."
   ]
  },
  {
   "cell_type": "code",
   "execution_count": null,
   "metadata": {},
   "outputs": [],
   "source": [
    "model.features <- list(\n",
    "  c(\"DGS10TOTB3MS\"),\n",
    "  c(\"DGS10TOTB3MS\", \"UNRATE\"),\n",
    "  c(\"DGS10TOTB3MS\", \"W875RX1_YoY\"),\n",
    "  c(\"DGS10TOTB3MS\", \"ICSA_YoY\"),\n",
    "  c(\"DGS10TOTB3MS\", \"GDPBYCPIAUCSLBYPOPTHM_SmoothDer\"),\n",
    "  c(\"DGS10TOTB3MS\", \"HSN1FNSA_YoY\"),\n",
    "  c(\"DGS10TOTB3MS\", \"UNRATE\", \"W875RX1_YoY\"),\n",
    "  c(\"DGS10TOTB3MS\", \"UNRATE\", \"ICSA_YoY\"),\n",
    "  c(\"DGS10TOTB3MS\", \"W875RX1_YoY\", \"ICSA_YoY\"),\n",
    "  c(\n",
    "    \"DGS10TOTB3MS\",\n",
    "    \"W875RX1_YoY\",\n",
    "    \"ICSA_YoY\",\n",
    "    \"GDPBYCPIAUCSLBYPOPTHM_SmoothDer\"\n",
    "  ),\n",
    "  c(\"DGS10TOTB3MS\",\n",
    "    \"UNRATE\",\n",
    "    \"W875RX1_YoY\",\n",
    "    \"ICSA_YoY\"),\n",
    "  c(\"DGS10TOTB3MS\",\n",
    "    \"UNRATE\",\n",
    "    \"W875RX1_YoY\",\n",
    "    \"ICSA_YoY\",\n",
    "    \"HSN1FNSA_YoY\"),\n",
    "  c(\"DGS10TODTB3\", \"UNRATE\", \"W875RX1_YoY\", \"ICSA_YoY\"),\n",
    "  c(\n",
    "    \"DGS10TOTB3MS\",\n",
    "    \"UNRATE\",\n",
    "    \"W875RX1_YoY\",\n",
    "    \"ICSA_YoY\" ,\n",
    "    \"GDPBYCPIAUCSLBYPOPTHM_SmoothDer\"\n",
    "  ),\n",
    "  c(\n",
    "    \"DGS10TOTB3MS\",\n",
    "    \"UNRATE\",\n",
    "    \"W875RX1_YoY\",\n",
    "    \"ICSA_YoY\" ,\n",
    "    \"GDPBYCPIAUCSLBYPOPTHM_SmoothDer\",\n",
    "    \"HSN1FNSA_YoY\"\n",
    "  ))\n",
    "i.model.count <- length(model.features)\n",
    "\n",
    "# Pick the most recent data sample. TODO: this is done manually, but needs to be automated\n",
    "#dt.start.prediction <- index(get(model.features[1])[1])\n",
    "dt.start.prediction <- as.Date(\"01/02/1962\", \"%d/%m/%Y\")\n",
    "\n",
    "# If the series was downloaded as a zoo object, check that the start date is valid\n",
    "for (strSeries in model.features[-1]){\n",
    "  result = tryCatch({\n",
    "    dtThis <- index(get(strSeries)[1])\n",
    "    if( dtThis > dt.start.prediction){\n",
    "      dtStart <- dtThis\n",
    "    }\n",
    "  }, error = function(e){\n",
    "    # do nothing for now...TO DO: adjust dates.\n",
    "  })\n",
    "}\n",
    "\n",
    "dt.end.prediction <- as.Date(\"2018-06-30\")\n",
    "df.dataModel <-\n",
    "  df.data[df.data$date >= dt.start.prediction &\n",
    "            df.data$date <= dt.end.prediction, ]\n",
    "str.training.date.range <-\n",
    "  paste(\"Training Date Range: \",\n",
    "        dt.start.prediction,\n",
    "        \" to \",\n",
    "        dt.end.prediction,\n",
    "        sep = \"\")\n",
    "print(str.training.date.range)"
   ]
  },
  {
   "cell_type": "markdown",
   "metadata": {},
   "source": [
    "## Partition the data"
   ]
  },
  {
   "cell_type": "markdown",
   "metadata": {},
   "source": [
    "I break the data into three sets: 50% for training, 25% for testing, and 25% for validation."
   ]
  },
  {
   "cell_type": "code",
   "execution_count": null,
   "metadata": {},
   "outputs": [],
   "source": [
    "set.seed(123456)\n",
    "inTrain <- createDataPartition(y=df.dataModel$RecInit, p = 0.50, list=FALSE)\n",
    "dfTrain <- df.dataModel[inTrain,]\n",
    "df.data.rest <- df.dataModel[-inTrain,]\n",
    "inVal <- createDataPartition(y = df.data.rest$RecInit, p = 0.50, list = FALSE)\n",
    "dfVal <- df.data.rest[inVal,]\n",
    "dfTest <- df.data.rest[-inVal,]\n",
    "rm(df.data.rest)"
   ]
  },
  {
   "cell_type": "markdown",
   "metadata": {},
   "source": [
    "## Create the model (Switch, 10 Year to 3 Month)"
   ]
  },
  {
   "cell_type": "markdown",
   "metadata": {},
   "source": [
    "This section builds the model with just the 10 Year to 3 Month feature."
   ]
  },
  {
   "cell_type": "code",
   "execution_count": null,
   "metadata": {},
   "outputs": [],
   "source": [
    "string.equation.partition <- paste(\"RecInit ~ \", paste(model.features[[1]], collapse = \"+\", sep=\"\"))\n",
    "model.fit <- rpart( string.equation.partition, data=dfTrain)"
   ]
  },
  {
   "cell_type": "markdown",
   "metadata": {},
   "source": [
    "The plot below summarizes the correlations in a graphical format. The tree itself is a little more complicated than I like."
   ]
  },
  {
   "cell_type": "code",
   "execution_count": null,
   "metadata": {},
   "outputs": [],
   "source": [
    "rpart.plot(model.fit, main=paste(\"Recession Indicator (Switch, 10 year to 3 Month)\\n\", str.training.date.range), type = 2, extra = 1)"
   ]
  },
  {
   "cell_type": "markdown",
   "metadata": {},
   "source": [
    "## Validation (Switch, 10 Year to 3 Month)"
   ]
  },
  {
   "cell_type": "markdown",
   "metadata": {},
   "source": [
    "Plot the data against the NEBR recessions and the recession initiation indicator."
   ]
  },
  {
   "cell_type": "code",
   "execution_count": null,
   "metadata": {},
   "outputs": [],
   "source": [
    "df.data$RecInitPred <- predict(model.fit, newdata = df.data)\n",
    "df.symbols <-\n",
    "  rbind(\n",
    "    df.symbols,\n",
    "    data.frame(\n",
    "      string.symbol = \"RecInitPred\",\n",
    "      string.source = \"Calc\",\n",
    "      string.description =  \"Prediction. 1 for Recession Initiation Period \\n 0 For All Else\",\n",
    "      string.label.y = \"(-)\",\n",
    "      float.expense.ratio = -1.00,\n",
    "      Max030 = FALSE,\n",
    "      Max180 = FALSE,\n",
    "      date.series.start = dt.start.prediction,\n",
    "      date.series.end = as.Date(Sys.Date())\n",
    "    )\n",
    "  )\n",
    "\n",
    "\n",
    "datay <- \"RecInitPred\"\n",
    "datay_aux <- \"RecInit\"\n",
    "ylim <- c(0, 1)\n",
    "myPlot <- plotSingleQuick(dfRecession, df.data, datay, ylim, dt.start.prediction)\n",
    "myPlot + geom_rect(\n",
    "  data = dfRecession,\n",
    "  aes(\n",
    "    xmin = initStart,\n",
    "    xmax = initEnd,\n",
    "    ymin = -Inf,\n",
    "    ymax = Inf\n",
    "  ),\n",
    "  fill = \"blue\",\n",
    "  alpha = 0.2,\n",
    "  na.rm = TRUE\n",
    ")"
   ]
  },
  {
   "cell_type": "markdown",
   "metadata": {},
   "source": [
    "## Create the model (Switch, all features)"
   ]
  },
  {
   "cell_type": "markdown",
   "metadata": {},
   "source": [
    "This section builds the model with all features (Unemployment rate, 10 Year to 3 Month, Real personal income excluding current transfer receipts year-over-year, andd Initial jobless claims year over year)."
   ]
  },
  {
   "cell_type": "code",
   "execution_count": null,
   "metadata": {},
   "outputs": [],
   "source": [
    "string.equation.partition <- paste(\"RecInit ~ \", paste(tail(model.features, n=1)[[1]], collapse = \"+\", sep=\"\"))\n",
    "model.fit <- rpart( string.equation.partition, data=dfTrain)"
   ]
  },
  {
   "cell_type": "markdown",
   "metadata": {},
   "source": [
    "The plot below summarizes the correlations in a graphical format. The tree itself is a little more complicated than I like."
   ]
  },
  {
   "cell_type": "code",
   "execution_count": null,
   "metadata": {},
   "outputs": [],
   "source": [
    "rpart.plot(model.fit, main=paste(\"Recession Indicator (Switch)\\n\", str.training.date.range), type = 2, extra = 1)"
   ]
  },
  {
   "cell_type": "markdown",
   "metadata": {},
   "source": [
    "## Validation (Switch, all features)"
   ]
  },
  {
   "cell_type": "markdown",
   "metadata": {},
   "source": [
    "Rather than step through a quantitative validation I am going going to plot the data against the NEBR recessions and the recession initiation indicator. There is good agreement between the model and indicator. We can create a buy signal anytime that the indicator is above 0.5"
   ]
  },
  {
   "cell_type": "code",
   "execution_count": null,
   "metadata": {},
   "outputs": [],
   "source": [
    "df.data$RecInitPred <- predict(model.fit, newdata = df.data)\n",
    "df.symbols <-\n",
    "  rbind(\n",
    "    df.symbols,\n",
    "    data.frame(\n",
    "      string.symbol = \"RecInitPred\",\n",
    "      string.source = \"Calc\",\n",
    "      string.description =  \"Prediction 1 for Recession Initiation Period, 0 For All Else\",\n",
    "      string.label.y = \"(-)\",\n",
    "      float.expense.ratio = -1.00,\n",
    "      Max030 = FALSE,\n",
    "      Max180 = FALSE,\n",
    "      date.series.start = dt.start.prediction ,\n",
    "      date.series.end = as.Date(Sys.Date())\n",
    "    )\n",
    "  )\n",
    "\n",
    "\n",
    "datay <- \"RecInitPred\"\n",
    "datay_aux <- \"RecInit\"\n",
    "ylim <- c(0, 1)\n",
    "myPlot <- plotSingleQuick(dfRecession, df.data, datay, ylim, dt.start.prediction)\n",
    "myPlot + geom_rect(\n",
    "  data = dfRecession,\n",
    "  aes(\n",
    "    xmin = initStart,\n",
    "    xmax = initEnd,\n",
    "    ymin = -Inf,\n",
    "    ymax = Inf\n",
    "  ),\n",
    "  fill = \"blue\",\n",
    "  alpha = 0.2,\n",
    "  na.rm = TRUE\n",
    ")"
   ]
  },
  {
   "cell_type": "markdown",
   "metadata": {},
   "source": [
    "## Explore how the features relate to the smooth model"
   ]
  },
  {
   "cell_type": "markdown",
   "metadata": {},
   "source": [
    "Some exploration to see how the features relate to the smoothed recesession predictor"
   ]
  },
  {
   "cell_type": "code",
   "execution_count": null,
   "metadata": {},
   "outputs": [],
   "source": [
    "ggplot(df.dataModel, aes(x = UNRATE, y = DGS10TO1) ) + geom_point(aes(color = RecInit_Smooth))"
   ]
  },
  {
   "cell_type": "code",
   "execution_count": null,
   "metadata": {},
   "outputs": [],
   "source": [
    "ggplot(df.dataModel, aes(x = UNRATE, y = DGS10TOTB3MS) ) + geom_point(aes(color = RecInit_Smooth))"
   ]
  },
  {
   "cell_type": "markdown",
   "metadata": {},
   "source": [
    "## Create the models (Smooth)"
   ]
  },
  {
   "cell_type": "markdown",
   "metadata": {},
   "source": [
    "These models take some time to build and, as long as the dates do not change, we can just load them from a local copy rather re-building them."
   ]
  },
  {
   "cell_type": "code",
   "execution_count": null,
   "metadata": {},
   "outputs": [],
   "source": [
    "b.refresh.models = FALSE"
   ]
  },
  {
   "cell_type": "code",
   "execution_count": null,
   "metadata": {},
   "outputs": [],
   "source": [
    "str.model.file <- \"RecessionModels.pkl\"\n",
    "\n",
    "# Either train the models or load them from the local copy\n",
    "if (b.refresh.models){\n",
    "  \n",
    "  list.equations.smooth <- list()\n",
    "  knn.smooth.list <- list()\n",
    "  list.column.name <- list()\n",
    "  list.nn.smooth <- list()\n",
    "  list.column.name.nn <- list()\n",
    "  list.lm.smooth <- list()\n",
    "  list.column.name.lm <- list()\n",
    "  \n",
    "  \n",
    "  # Loop through the features\n",
    "  for (idx.feature in seq_along(model.features)){\n",
    "    list.feature <- model.features[[idx.feature]]\n",
    "    print(list.feature)\n",
    "    list.equations.smooth[[idx.feature]] <- paste(\"RecInit_Smooth ~ \", paste(list.feature, collapse = \"+\", sep=\"\"))\n",
    "    \n",
    "    # Train the KNN model\n",
    "    print(\"Training KNN\")\n",
    "    knn.smooth.list[[idx.feature]] <- train(as.formula(list.equations.smooth[[idx.feature]]), \n",
    "                                            data=dfTrain, method=\"knn\", \n",
    "                                            preProcess = c('center', 'scale'), tunelength = 2)\n",
    "    \n",
    "    # Train the nueral net.\n",
    "    print(\"Training Neural Net\")\n",
    "    #my.grid <- expand.grid(.decay = c(0.01, 0.001), .size = c(5, 6, 7))\n",
    "    list.nn.smooth[[idx.feature]] <- train(as.formula(list.equations.smooth[[idx.feature]]), data=dfTrain, \n",
    "                                           method=\"nnet\", \n",
    "                                           preProcess = c('center', 'scale'),\n",
    "                                           trace = FALSE)\n",
    "  \n",
    "  \n",
    "    # Train the linear model.\n",
    "    print(\"Training Linear Model\")\n",
    "    list.lm.smooth[[idx.feature]] <- train(as.formula(list.equations.smooth[[idx.feature]]), data=dfTrain, \n",
    "                                           method=\"lm\", \n",
    "                                           preProcess = c('center', 'scale'))\n",
    "  \n",
    "  }\n",
    "  \n",
    "  # Save off the models and features\n",
    "  vector.save.variables <- c('list.equations.smooth', 'knn.smooth.list','list.column.name',\n",
    "    'list.nn.smooth', 'list.column.name.nn', 'list.lm.smooth', 'list.column.name.lm',\n",
    "    'list.equations.smooth')\n",
    "  save(list=vector.save.variables, file=str.model.file)\n",
    "  \n",
    "}else{\n",
    "  \n",
    "  # Retrieve the model and features from the local copy\n",
    "  load(file=str.model.file)\n",
    "  \n",
    "}"
   ]
  },
  {
   "cell_type": "markdown",
   "metadata": {},
   "source": [
    "# With the models trained, perform the predictions"
   ]
  },
  {
   "cell_type": "code",
   "execution_count": null,
   "metadata": {},
   "outputs": [],
   "source": [
    "# Create the average model column\n",
    "df.data$recession.initiation.smooth.avg <- df.data$U6RATE * 0\n",
    "# Add the prediction to the symbols table\n",
    "df.symbols <-\n",
    "  rbind(\n",
    "    df.symbols,\n",
    "    data.frame(\n",
    "      string.symbol = \"recession.initiation.smooth.avg\",\n",
    "      string.source = \"Predict\",\n",
    "      string.description =  \"Prediction of Recession within 12 Months.\\nAll Models Averaged\",\n",
    "      string.label.y = \"Probability\",\n",
    "      float.expense.ratio = -1.00,\n",
    "      Max030 = FALSE,\n",
    "      Max180 = FALSE,\n",
    "      date.series.start = dt.start.prediction,\n",
    "      date.series.end = as.Date(Sys.Date())\n",
    "    )\n",
    "  )\n",
    "\n",
    "# Use the models to calculate the predicted values\n",
    "for (idx.feature in seq_along(model.features)) {\n",
    "    \n",
    "  # Predict using the KNN model on the entire dataframe using the knn model and normalize to 0 to 1\n",
    "  list.column.name[[idx.feature]] <-\n",
    "    paste(\"recession.initiation.smooth.knn\", idx.feature, sep = \"\")\n",
    "  df.data[[list.column.name[[idx.feature]]]] <-\n",
    "    predict(knn.smooth.list[[idx.feature]], newdata = df.data)\n",
    "  df.data[[list.column.name[[idx.feature]]]] <-\n",
    "    ((df.data[[list.column.name[[idx.feature]]]] -\n",
    "        min(df.data[[list.column.name[[idx.feature]]]])) /\n",
    "       (max(df.data[[list.column.name[[idx.feature]]]]) -\n",
    "          min(df.data[[list.column.name[[idx.feature]]]])))\n",
    "  \n",
    "  # Add the knn model prediction to the symbols table\n",
    "  df.symbols <-\n",
    "    rbind(\n",
    "      df.symbols,\n",
    "      data.frame(\n",
    "        string.symbol = list.column.name[[idx.feature]],\n",
    "        string.source = \"Predict\",\n",
    "        string.description = paste(\n",
    "          \"Knn Prediction 1 for Recession\\nInitiation Period, 0 For All Else (Smooth)\\n\",\n",
    "          get.formula.formatted(list.equations.smooth[[idx.feature]]),\n",
    "          sep = \" \"\n",
    "        ),\n",
    "        string.label.y = \"(-)\",\n",
    "        float.expense.ratio = -1.00,\n",
    "        Max030 = FALSE,\n",
    "        Max180 = FALSE,\n",
    "        date.series.start = dt.start.prediction,\n",
    "        date.series.end = as.Date(Sys.Date())\n",
    "      )\n",
    "    )\n",
    "  \n",
    "  # Add it to the knn average column\n",
    "  df.data$recession.initiation.smooth.avg <-\n",
    "    (df.data$recession.initiation.smooth.avg +\n",
    "       df.data[[list.column.name[[idx.feature]]]])\n",
    "  \n",
    "  \n",
    "  \n",
    "  # Predict on the entire dataframe using the nn model, normalized on 0 to 1\n",
    "  list.column.name.nn[[idx.feature]] <-\n",
    "    paste(\"recession.initiation.smooth.nn\", idx.feature, sep = \"\")\n",
    "  df.data[[list.column.name.nn[[idx.feature]]]] <-\n",
    "    predict(list.nn.smooth[[idx.feature]], newdata = df.data)\n",
    "  df.data[[list.column.name.nn[[idx.feature]]]] <-\n",
    "    ((df.data[[list.column.name.nn[[idx.feature]]]] -\n",
    "        min(df.data[[list.column.name.nn[[idx.feature]]]])) /\n",
    "       (max(df.data[[list.column.name.nn[[idx.feature]]]]) -\n",
    "          min(df.data[[list.column.name.nn[[idx.feature]]]])))\n",
    "  \n",
    "  \n",
    "  # Add the neural net model prediction to the symbols table\n",
    "  df.symbols <-\n",
    "    rbind(\n",
    "      df.symbols,\n",
    "      data.frame(\n",
    "        string.symbol = list.column.name.nn[[idx.feature]],\n",
    "        string.source = \"Predict\",\n",
    "        string.description = paste(\n",
    "          \"Neural Net Prediction 1 for Recession\\nInitiation Period, 0 For All Else (Smooth)\\n\",\n",
    "          list.equations.smooth[[idx.feature]],\n",
    "          sep = \" \"\n",
    "        ),\n",
    "        string.label.y = \"(-)\",\n",
    "        float.expense.ratio = -1.00,\n",
    "        Max030 = FALSE,\n",
    "        Max180 = FALSE,\n",
    "        date.series.start = dt.start.prediction,\n",
    "        date.series.end = as.Date(Sys.Date())\n",
    "      )\n",
    "    )\n",
    "  \n",
    "  # Add it to the average column\n",
    "  df.data$recession.initiation.smooth.avg <-\n",
    "    (df.data$recession.initiation.smooth.avg +\n",
    "       df.data[[list.column.name.nn[[idx.feature]]]])\n",
    "  \n",
    "  \n",
    "  \n",
    "  # Predict on the entire dataframe using the lm model, normalized on 0 to 1\n",
    "  list.column.name.lm[[idx.feature]] <-\n",
    "    paste(\"recession.initiation.smooth.lm\", idx.feature, sep = \"\")\n",
    "  df.data[[list.column.name.lm[[idx.feature]]]] <-\n",
    "    predict(list.lm.smooth[[idx.feature]], newdata = df.data)\n",
    "  df.data[[list.column.name.lm[[idx.feature]]]] <-\n",
    "    ((df.data[[list.column.name.lm[[idx.feature]]]] -\n",
    "        min(df.data[[list.column.name.lm[[idx.feature]]]])) /\n",
    "       (max(df.data[[list.column.name.lm[[idx.feature]]]]) -\n",
    "          min(df.data[[list.column.name.lm[[idx.feature]]]])))\n",
    "  \n",
    "  \n",
    "  # Add the linear model model prediction to the symbols table\n",
    "  df.symbols <-\n",
    "    rbind(\n",
    "      df.symbols,\n",
    "      data.frame(\n",
    "        string.symbol = list.column.name.lm[[idx.feature]],\n",
    "        string.source = \"Predict\",\n",
    "        string.description = paste(\n",
    "          \"Linear Model Prediction 1 for Recession\\nInitiation Period, 0 For All Else (Smooth)\\n\",\n",
    "          list.equations.smooth[[idx.feature]],\n",
    "          sep = \" \"\n",
    "        ),\n",
    "        string.label.y = \"(-)\",\n",
    "        float.expense.ratio = -1.00,\n",
    "        Max030 = FALSE,\n",
    "        Max180 = FALSE,\n",
    "        date.series.start = dt.start.prediction,\n",
    "        date.series.end = as.Date(Sys.Date())\n",
    "      )\n",
    "    )\n",
    "  \n",
    "  # The linear model performance is not great so I am not adding it to the average\n",
    "  #  df.data$recession.initiation.smooth.avg <- (df.data$recession.initiation.smooth.avg +\n",
    "  #                                                   df.data[[list.column.name.lm[[idx.feature]]]])\n",
    "  \n",
    "  \n",
    "  \n",
    "}\n",
    "  \n",
    "# Divide by the number of models to get the average\n",
    "df.data$recession.initiation.smooth.avg <- (df.data$recession.initiation.smooth.avg / (2 * i.model.count))\n"
   ]
  },
  {
   "cell_type": "markdown",
   "metadata": {},
   "source": [
    "## Print out the model results."
   ]
  },
  {
   "cell_type": "code",
   "execution_count": null,
   "metadata": {},
   "outputs": [],
   "source": [
    "ylim <- c(0, 1)\n",
    "for (idx.feature in seq_along(model.features)){\n",
    "  \n",
    "  # KNN Data\n",
    "  datay <- list.column.name[[idx.feature]]\n",
    "  pdf(file = paste(\"KNN_\",datay,\".pdf\",sep=\"\"),  width = 8, height = 6)   \n",
    "  myPlot <- plotSingle(dfRecession, df.data, \"date\", datay, getPlotTitle(df.symbols, datay), \"Date\", \n",
    "              getPlotYLabel(df.symbols, datay), c(dt.start.prediction, Sys.Date()), ylim, TRUE)\n",
    "  print(myPlot)\n",
    "  dev.off()\n",
    "    \n",
    "  myPlot <- plotSingle(dfRecession, df.data, \"date\", datay, getPlotTitle(df.symbols, datay), \"Date\", \n",
    "              getPlotYLabel(df.symbols, datay), c(dt.recent, Sys.Date()), ylim, TRUE)\n",
    "  print(myPlot)\n",
    "  \n",
    "  # Neural Net Data\n",
    "  datay <- list.column.name.nn[[idx.feature]]\n",
    "  pdf(file = paste(\"NN_\",datay,\".pdf\",sep=\"\"),  width = 8, height = 6)   \n",
    "  myPlot <- plotSingle(dfRecession, df.data, \"date\", datay, getPlotTitle(df.symbols, datay), \"Date\", \n",
    "              getPlotYLabel(df.symbols, datay), c(dt.start.prediction, Sys.Date()), ylim, TRUE)\n",
    "  print(myPlot)\n",
    "  dev.off()\n",
    "  \n",
    "  # Neural Net Visualization  \n",
    "  pdf(file = paste(\"NN_\", list.column.name.nn[[idx.feature]], \"_Weight.pdf\",sep=\"\"), width = 8, height = 6)   \n",
    "  plotnet(list.nn.smooth[[idx.feature]])\n",
    "  title(main = paste(\"NN_\", list.column.name.nn[[idx.feature]], sep=\"\") )\n",
    "  dev.off()\n",
    "    \n",
    "  myPlot <- plotSingle(dfRecession, df.data, \"date\", datay, getPlotTitle(df.symbols, datay), \"Date\", \n",
    "              getPlotYLabel(df.symbols, datay), c(dt.recent, Sys.Date()), ylim, TRUE)\n",
    "  print(myPlot)\n",
    "\n",
    "  # Linear Model Data\n",
    "  datay <- list.column.name.lm[[idx.feature]]\n",
    "  pdf(file = paste(\"LM_\",datay,\".pdf\",sep=\"\"),  width = 8, height = 6)   \n",
    "  myPlot <- plotSingle(dfRecession, df.data, \"date\", datay, getPlotTitle(df.symbols, datay), \"Date\", \n",
    "              getPlotYLabel(df.symbols, datay), c(dt.start.prediction, Sys.Date()), ylim, TRUE)\n",
    "  print(myPlot)\n",
    "  dev.off()\n",
    "\n",
    "  # Linear Model Visualization  \n",
    "  d_lm_coefficients <- list.lm.smooth[[idx.feature]]$finalModel$coefficients  \n",
    "  pdf(file = paste(\"LM_\",list.column.name.lm[[idx.feature]],\"_Weight.pdf\",sep=\"\"), width = 8, height = 6)   \n",
    "  barplot(d_lm_coefficients, horiz=TRUE, cex.names=0.5, main = paste(\"LM_\", list.column.name.lm[[idx.feature]], sep=\"\") )\n",
    "  dev.off()\n",
    "    \n",
    "  myPlot <- plotSingle(dfRecession, df.data, \"date\", datay, getPlotTitle(df.symbols, datay), \"Date\", \n",
    "              getPlotYLabel(df.symbols, datay), c(dt.recent, Sys.Date()), ylim, TRUE)\n",
    "  print(myPlot)\n",
    "\n",
    "}\n",
    "\n",
    "datay <- \"recession.initiation.smooth.avg\"\n",
    "myPlot <- plotSingle(dfRecession, df.data, \"date\", datay, getPlotTitle(df.symbols, datay), \"Date\", \n",
    "            getPlotYLabel(df.symbols, datay), c(dt.start.prediction, Sys.Date()), ylim, TRUE)\n",
    "print(myPlot)"
   ]
  },
  {
   "cell_type": "markdown",
   "metadata": {},
   "source": [
    "## Average Model vs. Fed"
   ]
  },
  {
   "cell_type": "markdown",
   "metadata": {},
   "source": [
    "Zoom into the last couple of years and compare the FED benchmark series. Both are stongly dependant on the 10 year to 3 month inversion so behavior is similar."
   ]
  },
  {
   "cell_type": "code",
   "execution_count": null,
   "metadata": {},
   "outputs": [],
   "source": [
    "datay <- \"recession.initiation.smooth.avg\"\n",
    "datay.aux <- \"nyfed.recession\"\n",
    "myPlot <-\n",
    "  plotSingle(\n",
    "    dfRecession,\n",
    "    df.data,\n",
    "    \"date\",\n",
    "    datay,\n",
    "    getPlotTitle(df.symbols, datay),\n",
    "    \"Date\",\n",
    "    getPlotYLabel(df.symbols, datay),\n",
    "    c(dt.recent, Sys.Date()),\n",
    "    ylim = c(0, 1.0),\n",
    "    b.legend = TRUE\n",
    "  )\n",
    "\n",
    "myPlot <-\n",
    "  myPlot + geom_line(\n",
    "    data = df.data,\n",
    "    aes_string(\n",
    "      x = \"date\",\n",
    "      y = datay.aux,\n",
    "      colour = shQuote(datay.aux)\n",
    "    ),\n",
    "    na.rm = TRUE\n",
    "  )\n",
    "\n",
    "myPlot\n",
    "\n"
   ]
  },
  {
   "cell_type": "markdown",
   "metadata": {},
   "source": [
    "Much like the previous section, create the tree model for the smooth recessesion indicator."
   ]
  },
  {
   "cell_type": "code",
   "execution_count": null,
   "metadata": {},
   "outputs": [],
   "source": [
    "model.fitSmooth <- rpart( tail(list.equations.smooth, n=1)[[1]], data=dfTrain)"
   ]
  },
  {
   "cell_type": "markdown",
   "metadata": {},
   "source": [
    "Add the prediction to the dataframe"
   ]
  },
  {
   "cell_type": "code",
   "execution_count": null,
   "metadata": {},
   "outputs": [],
   "source": [
    "df.data$RecInitPredSmooth <-\n",
    "  predict(model.fitSmooth, newdata = df.data)\n",
    "df.symbols <-\n",
    "  rbind(\n",
    "    df.symbols,\n",
    "    data.frame(\n",
    "      string.symbol = \"RecInitPredSmooth\",\n",
    "      string.source = \"Calc\",\n",
    "      string.description =  \"Prediction 1 for Recession Initiation Period, 0 For All Else (Smooth)\",\n",
    "      string.label.y = \"(-)\",\n",
    "      float.expense.ratio = -1.00,\n",
    "      Max030 = FALSE,\n",
    "      Max180 = FALSE,\n",
    "      date.series.start = dt.start.prediction ,\n",
    "      date.series.end = as.Date(Sys.Date())\n",
    "    )\n",
    "  )"
   ]
  },
  {
   "cell_type": "markdown",
   "metadata": {},
   "source": [
    "The plot below summarizes the correlations in a graphical format. The tree itself is a little more complicated than I like."
   ]
  },
  {
   "cell_type": "code",
   "execution_count": null,
   "metadata": {},
   "outputs": [],
   "source": [
    "rpart.plot(\n",
    "  model.fitSmooth,\n",
    "  main = paste(\"Recession Indicator (Smooth)\\n\", str.training.date.range),\n",
    "  type = 2,\n",
    "  extra = 1\n",
    ")"
   ]
  },
  {
   "cell_type": "markdown",
   "metadata": {},
   "source": [
    "# Creating the Trading Rules "
   ]
  },
  {
   "cell_type": "markdown",
   "metadata": {},
   "source": [
    "The strategy here will be to go long when the recesion initiation signal is below 0.5. When it crosses 0.5 I will exit the market. I need a signal that will tell me when to get back in. From the data exploration section I noted that the second derivative of the unemployment rate crosses zero right in the middle of most recessions That zero crossing will serve as the buy signal to get back in the market."
   ]
  },
  {
   "cell_type": "markdown",
   "metadata": {},
   "source": [
    "## Create the trade rule for recession initiation"
   ]
  },
  {
   "cell_type": "code",
   "execution_count": null,
   "metadata": {},
   "outputs": [],
   "source": [
    "# Round off the prediction, add to datadframe and the symbols table\n",
    "df.data$RecInitPredRd <- round(df.data$RecInitPred, digits = 0)\n",
    "df.symbols <-\n",
    "  rbind(\n",
    "    df.symbols,\n",
    "    data.frame(\n",
    "      string.symbol = \"RecInitPredRd\",\n",
    "      string.source = \"Calc\",\n",
    "      string.description =  \"Rounded Prediction 1 for Recession Initiation\\n Period, 0 For All Else\",\n",
    "      string.label.y = \"(-)\",\n",
    "      float.expense.ratio = -1.00,\n",
    "      Max030 = FALSE,\n",
    "      Max180 = FALSE,\n",
    "      date.series.start = dt.start.prediction,\n",
    "      date.series.end = as.Date(Sys.Date())\n",
    "    )\n",
    "  )"
   ]
  },
  {
   "cell_type": "code",
   "execution_count": null,
   "metadata": {},
   "outputs": [],
   "source": [
    "# Extract the dates from the prediction\n",
    "dtStartPred <- df.data$date[which(diff(df.data$RecInitPredRd)==1)+1]\n",
    "dtStartPred <- dtStartPred+30\n",
    "dt.end.predictionPred <- df.data$date[which(diff(df.data$RecInitPredRd)==-1)]"
   ]
  },
  {
   "cell_type": "code",
   "execution_count": null,
   "metadata": {},
   "outputs": [],
   "source": [
    "# Zero crossings of the 2nd derivative of the unemployment rate\n",
    "dZeroUNRATE <- diff(sign(df.data$UNRATE_SmoothDer2))\n",
    "dZeroUNRATE <- append(dZeroUNRATE, tail(dZeroUNRATE,1))\n",
    "df.data$dZeroUNRATE <- dZeroUNRATE\n"
   ]
  },
  {
   "cell_type": "code",
   "execution_count": null,
   "metadata": {},
   "outputs": [],
   "source": [
    "# keep only the negative slopes and get rid of any dates\n",
    "# while the indicator is high\n",
    "df.data$dZeroUNRATE[df.data$dZeroUNRATE>0] <- 0\n",
    "df.data$dZeroUNRATE <- -1 * (df.data$dZeroUNRATE * (df.data$RecInitPredRd - 1))"
   ]
  },
  {
   "cell_type": "code",
   "execution_count": null,
   "metadata": {},
   "outputs": [],
   "source": [
    "# Find the first negative slope after the recession indicator triggers\n",
    "dt.end.predictionCand <- df.data$date[which(df.data$dZeroUNRATE<0)]\n",
    "dtBuyPred <- dtStartPred\n",
    "for (idx in 1:length(dtStartPred)){\n",
    "  dtBuyPred[idx] <- dt.end.predictionCand[min(which(dt.end.predictionCand > dt.end.predictionPred[idx]))]\n",
    "}\n",
    "dfPred <- data.frame(predStart = dtStartPred, predEnd = dtBuyPred)"
   ]
  },
  {
   "cell_type": "code",
   "execution_count": null,
   "metadata": {},
   "outputs": [],
   "source": [
    "# Create the trade rule, 1 is long, 0 is not invested\n",
    "df.data$RecInitTrade <- rep(1, nrow(df.data))\n",
    "\n",
    "for(idx in 1:nrow(dfPred)) {\n",
    "  df.data$RecInitTrade[which(df.data$date > dfPred$predStart[idx] &\n",
    "                              df.data$date < dfPred$predEnd[idx])] = 0\n",
    "}\n",
    "df.symbols <-\n",
    "  rbind(\n",
    "    df.symbols,\n",
    "    data.frame(\n",
    "      string.symbol = \"RecInitTrade\",\n",
    "      string.source = \"Calc\",\n",
    "      string.description =  \"Recession Initiation Trade Rule\",\n",
    "      string.label.y = \"(-)\",\n",
    "      float.expense.ratio = -1.00,\n",
    "      Max030 = FALSE,\n",
    "      Max180 = FALSE,\n",
    "      date.series.start = dt.start.prediction,\n",
    "      date.series.end = as.Date(Sys.Date())\n",
    "    )\n",
    "  )"
   ]
  },
  {
   "cell_type": "code",
   "execution_count": null,
   "metadata": {},
   "outputs": [],
   "source": [
    "\n",
    "\n",
    "\n",
    "\n",
    "\n",
    "\n",
    "\n",
    "\n",
    "\n",
    "\n",
    "\n",
    "```{r backval, include=FALSE}\n",
    "# Create a data series and validate that our back testing function works correctly.\n",
    "# Create a 12-month series with 10% annual interest compounded annually\n",
    "dTest <- UNRATE['1999/2001']\n",
    "dRate <- 0.1\n",
    "dTest[,'UNRATE'] = ((1+dRate/12.0) ^ (12.0*seq(1:nrow(dTest))/12))\n",
    "dMonths <- 24\n",
    "\n",
    "# Test case 1, 100% in for the whole time\n",
    "dEqAn <- (1+dRate/12.0)^(12.0*(dMonths/12.0))\n",
    "ret <- ROC(dTest)\n",
    "ret <- ret['2000/2001']\n",
    "dEq1Nm <- exp(cumsum(ret))\n",
    "dEq1Nm <- as.numeric(tail(dEq1Nm,1)$UNRATE)\n",
    "\n",
    "dfTestResults <- data.frame(c(\"100%\"), c(dEqAn), c(dEq1Nm))\n",
    "colnames(dfTestResults) <- c(\"Test\",\"Analytical\", \"Numerical\")\n",
    "dfTestResults\n",
    "\n",
    "```\n",
    "\n",
    "## Plot the Backtesting Results\n",
    "\n",
    "### Create the Baseline Data Series\n",
    "\n",
    "The trading strategy will be compared to the S&P 500, shown below. We use this to create an S&P 500 rate of change series. The trading rule will move in and out of this series.\n",
    "\n",
    "```{r plotbackbase, echo=FALSE, fig.width=7, fig.height=10}\n",
    "\n",
    "dtStartBackTest = as.Date('1960-01-01')\n",
    "ylimBackTest <- c(0, 60)\n",
    "\n",
    "\n",
    "\n",
    "\n",
    "datay <- \"eqBase\"\n",
    "p1 <- plotSingleQuick(dfRecession, df.data, datay, ylimBackTest, dtStartBackTest)\n",
    "\n",
    "datay <- \"retBase\"\n",
    "ylim <- c(-0.1, 0.1)\n",
    "p2 <- plotSingleQuick(dfRecession, df.data, datay, ylim, dtStartBackTest)\n",
    "\n",
    "datay <- \"eqBaseShort_TB3MS\"\n",
    "p3 <- plotSingleQuick(dfRecession, df.data, datay, ylimBackTest, dtStartBackTest)\n",
    "\n",
    "datay <- \"retBaseShort_TB3MS\"\n",
    "ylim <- c(-0.1, 0.1)\n",
    "p4 <- plotSingleQuick(dfRecession, df.data, datay, ylim, dtStartBackTest)\n",
    "\n",
    "grid.arrange(p1, p2, p3, p4, ncol = 1, top = paste(\"Base Case (100% long) | Growth = \", sprintf('%0.2f', tail(df.data$eqBase,1)), sep=\"\"))\n",
    "\n",
    "```\n",
    "\n",
    "### Perform the Backtesting and Plot the Results\n",
    "\n",
    "In this final analysis step the trading rule is plotted along with the indicator in the top pane. The middle pane shows how the trading rule modified the rate of change series. The bottom plots shows how the investment performed, compared to the S&P 500. \n",
    "\n",
    "```{r plotbackrecInit,echo=FALSE, fig.width=7,fig.height=10}\n",
    "\n",
    "df.data$retRec <- df.data$retBase * df.data$RecInitTrade\n",
    "df.symbols <-\n",
    "  rbind(\n",
    "    df.symbols,\n",
    "    data.frame(\n",
    "      string.symbol = \"retRec\",\n",
    "      string.source = \"Calc\",\n",
    "      string.description =  \"Rate of Change, Recession Initiation Rule\",\n",
    "      string.label.y = \"Percent\",\n",
    "      float.expense.ratio = -1.00,\n",
    "      Max030 = FALSE,\n",
    "      Max180 = FALSE,\n",
    "      date.series.start = dt.start.prediction,\n",
    "      date.series.end = as.Date(Sys.Date())\n",
    "    )\n",
    "  )\n",
    "\n",
    "df.data$eqRec <- exp(cumsum(df.data$retRec))\n",
    "df.data$eqRec <- df.data$eqRec/df.data[min(which(df.data$date>dtStartBackTest)),\"eqRec\"]\n",
    "df.symbols <-\n",
    "  rbind(\n",
    "    df.symbols,\n",
    "    data.frame(\n",
    "      string.symbol = \"eqRec\",\n",
    "      string.source = \"Calc\",\n",
    "      string.description =  \"Equity Return, Recession Initiation Rule\",\n",
    "      string.label.y = \"$1 Invested\",\n",
    "      float.expense.ratio = -1.00,\n",
    "      Max030 = FALSE,\n",
    "      Max180 = FALSE,\n",
    "      date.series.start = dt.start.prediction,\n",
    "      date.series.end = as.Date(Sys.Date())\n",
    "    )\n",
    "  )\n",
    "\n",
    "dataTrade <- \"RecInitTrade\"\n",
    "dataRet <- \"retRec\"\n",
    "dataEq <- \"eqRec\"\n",
    "\n",
    "ylimBackTest = c(0, 250)\n",
    "p1 <-\n",
    "  plotBack(\n",
    "    dfRecession,\n",
    "    df.data,\n",
    "    dataTrade,\n",
    "    dataRet,\n",
    "    dataEq,\n",
    "    dfPred,\n",
    "    bOverlay = TRUE,\n",
    "    dtStartBackTest,\n",
    "    ylimBackTest\n",
    "  )\n",
    "\n",
    "```\n",
    "\n",
    "The trading strategy resulted in an improved return, although most of this comes after the 2007-2008 recession. In that recession the trading rules return to the long position at the exact market bottom. This is in contrast to the 1999-2000 recession where the trading rule returns to long before the market bottoms."
   ]
  },
  {
   "cell_type": "code",
   "execution_count": null,
   "metadata": {},
   "outputs": [],
   "source": []
  }
 ],
 "metadata": {
  "kernelspec": {
   "display_name": "R",
   "language": "R",
   "name": "ir"
  },
  "language_info": {
   "codemirror_mode": "r",
   "file_extension": ".r",
   "mimetype": "text/x-r-source",
   "name": "R",
   "pygments_lexer": "r",
   "version": "4.5.1"
  }
 },
 "nbformat": 4,
 "nbformat_minor": 4
}
